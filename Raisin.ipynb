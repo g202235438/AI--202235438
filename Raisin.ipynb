{
 "cells": [
  {
   "cell_type": "code",
   "execution_count": 87,
   "id": "efead0bf",
   "metadata": {},
   "outputs": [],
   "source": [
    "import pandas as pd\n",
    "import numpy as np\n",
    "import matplotlib.pyplot as plt\n",
    "from sklearn.model_selection import train_test_split\n",
    "from sklearn.preprocessing import StandardScaler, LabelEncoder\n",
    "from sklearn.neighbors import KNeighborsClassifier\n",
    "import seaborn as sns"
   ]
  },
  {
   "cell_type": "code",
   "execution_count": 88,
   "id": "30a8db1e",
   "metadata": {},
   "outputs": [],
   "source": [
    "data = pd.read_csv('C:/Users/82106/Desktop/인공지능/Raisin_Dataset.csv')"
   ]
  },
  {
   "cell_type": "code",
   "execution_count": 89,
   "id": "97bad1f8",
   "metadata": {
    "scrolled": true
   },
   "outputs": [
    {
     "data": {
      "text/html": [
       "<div>\n",
       "<style scoped>\n",
       "    .dataframe tbody tr th:only-of-type {\n",
       "        vertical-align: middle;\n",
       "    }\n",
       "\n",
       "    .dataframe tbody tr th {\n",
       "        vertical-align: top;\n",
       "    }\n",
       "\n",
       "    .dataframe thead th {\n",
       "        text-align: right;\n",
       "    }\n",
       "</style>\n",
       "<table border=\"1\" class=\"dataframe\">\n",
       "  <thead>\n",
       "    <tr style=\"text-align: right;\">\n",
       "      <th></th>\n",
       "      <th>Area</th>\n",
       "      <th>MajorAxisLength</th>\n",
       "      <th>MinorAxisLength</th>\n",
       "      <th>Eccentricity</th>\n",
       "      <th>ConvexArea</th>\n",
       "      <th>Extent</th>\n",
       "      <th>Perimeter</th>\n",
       "      <th>Class</th>\n",
       "    </tr>\n",
       "  </thead>\n",
       "  <tbody>\n",
       "    <tr>\n",
       "      <th>0</th>\n",
       "      <td>87524</td>\n",
       "      <td>442.246011</td>\n",
       "      <td>253.291155</td>\n",
       "      <td>0.819738</td>\n",
       "      <td>90546</td>\n",
       "      <td>0.758651</td>\n",
       "      <td>1184.040</td>\n",
       "      <td>Kecimen</td>\n",
       "    </tr>\n",
       "    <tr>\n",
       "      <th>1</th>\n",
       "      <td>75166</td>\n",
       "      <td>406.690687</td>\n",
       "      <td>243.032436</td>\n",
       "      <td>0.801805</td>\n",
       "      <td>78789</td>\n",
       "      <td>0.684130</td>\n",
       "      <td>1121.786</td>\n",
       "      <td>Kecimen</td>\n",
       "    </tr>\n",
       "    <tr>\n",
       "      <th>2</th>\n",
       "      <td>90856</td>\n",
       "      <td>442.267048</td>\n",
       "      <td>266.328318</td>\n",
       "      <td>0.798354</td>\n",
       "      <td>93717</td>\n",
       "      <td>0.637613</td>\n",
       "      <td>1208.575</td>\n",
       "      <td>Kecimen</td>\n",
       "    </tr>\n",
       "    <tr>\n",
       "      <th>3</th>\n",
       "      <td>45928</td>\n",
       "      <td>286.540559</td>\n",
       "      <td>208.760042</td>\n",
       "      <td>0.684989</td>\n",
       "      <td>47336</td>\n",
       "      <td>0.699599</td>\n",
       "      <td>844.162</td>\n",
       "      <td>Kecimen</td>\n",
       "    </tr>\n",
       "    <tr>\n",
       "      <th>4</th>\n",
       "      <td>79408</td>\n",
       "      <td>352.190770</td>\n",
       "      <td>290.827533</td>\n",
       "      <td>0.564011</td>\n",
       "      <td>81463</td>\n",
       "      <td>0.792772</td>\n",
       "      <td>1073.251</td>\n",
       "      <td>Kecimen</td>\n",
       "    </tr>\n",
       "    <tr>\n",
       "      <th>...</th>\n",
       "      <td>...</td>\n",
       "      <td>...</td>\n",
       "      <td>...</td>\n",
       "      <td>...</td>\n",
       "      <td>...</td>\n",
       "      <td>...</td>\n",
       "      <td>...</td>\n",
       "      <td>...</td>\n",
       "    </tr>\n",
       "    <tr>\n",
       "      <th>895</th>\n",
       "      <td>83248</td>\n",
       "      <td>430.077308</td>\n",
       "      <td>247.838695</td>\n",
       "      <td>0.817263</td>\n",
       "      <td>85839</td>\n",
       "      <td>0.668793</td>\n",
       "      <td>1129.072</td>\n",
       "      <td>Besni</td>\n",
       "    </tr>\n",
       "    <tr>\n",
       "      <th>896</th>\n",
       "      <td>87350</td>\n",
       "      <td>440.735698</td>\n",
       "      <td>259.293149</td>\n",
       "      <td>0.808629</td>\n",
       "      <td>90899</td>\n",
       "      <td>0.636476</td>\n",
       "      <td>1214.252</td>\n",
       "      <td>Besni</td>\n",
       "    </tr>\n",
       "    <tr>\n",
       "      <th>897</th>\n",
       "      <td>99657</td>\n",
       "      <td>431.706981</td>\n",
       "      <td>298.837323</td>\n",
       "      <td>0.721684</td>\n",
       "      <td>106264</td>\n",
       "      <td>0.741099</td>\n",
       "      <td>1292.828</td>\n",
       "      <td>Besni</td>\n",
       "    </tr>\n",
       "    <tr>\n",
       "      <th>898</th>\n",
       "      <td>93523</td>\n",
       "      <td>476.344094</td>\n",
       "      <td>254.176054</td>\n",
       "      <td>0.845739</td>\n",
       "      <td>97653</td>\n",
       "      <td>0.658798</td>\n",
       "      <td>1258.548</td>\n",
       "      <td>Besni</td>\n",
       "    </tr>\n",
       "    <tr>\n",
       "      <th>899</th>\n",
       "      <td>85609</td>\n",
       "      <td>512.081774</td>\n",
       "      <td>215.271976</td>\n",
       "      <td>0.907345</td>\n",
       "      <td>89197</td>\n",
       "      <td>0.632020</td>\n",
       "      <td>1272.862</td>\n",
       "      <td>Besni</td>\n",
       "    </tr>\n",
       "  </tbody>\n",
       "</table>\n",
       "<p>900 rows × 8 columns</p>\n",
       "</div>"
      ],
      "text/plain": [
       "      Area  MajorAxisLength  MinorAxisLength  Eccentricity  ConvexArea  \\\n",
       "0    87524       442.246011       253.291155      0.819738       90546   \n",
       "1    75166       406.690687       243.032436      0.801805       78789   \n",
       "2    90856       442.267048       266.328318      0.798354       93717   \n",
       "3    45928       286.540559       208.760042      0.684989       47336   \n",
       "4    79408       352.190770       290.827533      0.564011       81463   \n",
       "..     ...              ...              ...           ...         ...   \n",
       "895  83248       430.077308       247.838695      0.817263       85839   \n",
       "896  87350       440.735698       259.293149      0.808629       90899   \n",
       "897  99657       431.706981       298.837323      0.721684      106264   \n",
       "898  93523       476.344094       254.176054      0.845739       97653   \n",
       "899  85609       512.081774       215.271976      0.907345       89197   \n",
       "\n",
       "       Extent  Perimeter    Class  \n",
       "0    0.758651   1184.040  Kecimen  \n",
       "1    0.684130   1121.786  Kecimen  \n",
       "2    0.637613   1208.575  Kecimen  \n",
       "3    0.699599    844.162  Kecimen  \n",
       "4    0.792772   1073.251  Kecimen  \n",
       "..        ...        ...      ...  \n",
       "895  0.668793   1129.072    Besni  \n",
       "896  0.636476   1214.252    Besni  \n",
       "897  0.741099   1292.828    Besni  \n",
       "898  0.658798   1258.548    Besni  \n",
       "899  0.632020   1272.862    Besni  \n",
       "\n",
       "[900 rows x 8 columns]"
      ]
     },
     "execution_count": 89,
     "metadata": {},
     "output_type": "execute_result"
    }
   ],
   "source": [
    "data"
   ]
  },
  {
   "cell_type": "code",
   "execution_count": 90,
   "id": "5df03e27",
   "metadata": {},
   "outputs": [
    {
     "data": {
      "text/plain": [
       "Area               0\n",
       "MajorAxisLength    0\n",
       "MinorAxisLength    0\n",
       "Eccentricity       0\n",
       "ConvexArea         0\n",
       "Extent             0\n",
       "Perimeter          0\n",
       "Class              0\n",
       "dtype: int64"
      ]
     },
     "execution_count": 90,
     "metadata": {},
     "output_type": "execute_result"
    }
   ],
   "source": [
    "data.isna().sum()"
   ]
  },
  {
   "cell_type": "code",
   "execution_count": 91,
   "id": "92fae199",
   "metadata": {},
   "outputs": [],
   "source": [
    "data= data.dropna()"
   ]
  },
  {
   "cell_type": "code",
   "execution_count": 92,
   "id": "5a0b01d8",
   "metadata": {},
   "outputs": [
    {
     "data": {
      "text/plain": [
       "Area               0\n",
       "MajorAxisLength    0\n",
       "MinorAxisLength    0\n",
       "Eccentricity       0\n",
       "ConvexArea         0\n",
       "Extent             0\n",
       "Perimeter          0\n",
       "Class              0\n",
       "dtype: int64"
      ]
     },
     "execution_count": 92,
     "metadata": {},
     "output_type": "execute_result"
    }
   ],
   "source": [
    "data.isna().sum()"
   ]
  },
  {
   "cell_type": "code",
   "execution_count": 93,
   "id": "5f047f5f",
   "metadata": {},
   "outputs": [
    {
     "data": {
      "text/plain": [
       "Text(0.5, 1.0, 'Class')"
      ]
     },
     "execution_count": 93,
     "metadata": {},
     "output_type": "execute_result"
    },
    {
     "data": {
      "image/png": "[encoded data removed]",
      "text/plain": [
       "<Figure size 640x480 with 1 Axes>"
      ]
     },
     "metadata": {},
     "output_type": "display_data"
    }
   ],
   "source": [
    "sns.countplot(data =data, x=\"Class\")\n",
    "plt.xlabel(\"X\")\n",
    "plt.ylabel(\"Y\")\n",
    "plt.title(\"Class\")"
   ]
  },
  {
   "cell_type": "code",
   "execution_count": 94,
   "id": "84ec2b58",
   "metadata": {},
   "outputs": [
    {
     "data": {
      "text/html": [
       "<div>\n",
       "<style scoped>\n",
       "    .dataframe tbody tr th:only-of-type {\n",
       "        vertical-align: middle;\n",
       "    }\n",
       "\n",
       "    .dataframe tbody tr th {\n",
       "        vertical-align: top;\n",
       "    }\n",
       "\n",
       "    .dataframe thead th {\n",
       "        text-align: right;\n",
       "    }\n",
       "</style>\n",
       "<table border=\"1\" class=\"dataframe\">\n",
       "  <thead>\n",
       "    <tr style=\"text-align: right;\">\n",
       "      <th></th>\n",
       "      <th>Area</th>\n",
       "      <th>MajorAxisLength</th>\n",
       "      <th>MinorAxisLength</th>\n",
       "      <th>Eccentricity</th>\n",
       "      <th>ConvexArea</th>\n",
       "      <th>Extent</th>\n",
       "      <th>Perimeter</th>\n",
       "    </tr>\n",
       "  </thead>\n",
       "  <tbody>\n",
       "    <tr>\n",
       "      <th>0</th>\n",
       "      <td>87524</td>\n",
       "      <td>442.246011</td>\n",
       "      <td>253.291155</td>\n",
       "      <td>0.819738</td>\n",
       "      <td>90546</td>\n",
       "      <td>0.758651</td>\n",
       "      <td>1184.040</td>\n",
       "    </tr>\n",
       "    <tr>\n",
       "      <th>1</th>\n",
       "      <td>75166</td>\n",
       "      <td>406.690687</td>\n",
       "      <td>243.032436</td>\n",
       "      <td>0.801805</td>\n",
       "      <td>78789</td>\n",
       "      <td>0.684130</td>\n",
       "      <td>1121.786</td>\n",
       "    </tr>\n",
       "    <tr>\n",
       "      <th>2</th>\n",
       "      <td>90856</td>\n",
       "      <td>442.267048</td>\n",
       "      <td>266.328318</td>\n",
       "      <td>0.798354</td>\n",
       "      <td>93717</td>\n",
       "      <td>0.637613</td>\n",
       "      <td>1208.575</td>\n",
       "    </tr>\n",
       "    <tr>\n",
       "      <th>3</th>\n",
       "      <td>45928</td>\n",
       "      <td>286.540559</td>\n",
       "      <td>208.760042</td>\n",
       "      <td>0.684989</td>\n",
       "      <td>47336</td>\n",
       "      <td>0.699599</td>\n",
       "      <td>844.162</td>\n",
       "    </tr>\n",
       "    <tr>\n",
       "      <th>4</th>\n",
       "      <td>79408</td>\n",
       "      <td>352.190770</td>\n",
       "      <td>290.827533</td>\n",
       "      <td>0.564011</td>\n",
       "      <td>81463</td>\n",
       "      <td>0.792772</td>\n",
       "      <td>1073.251</td>\n",
       "    </tr>\n",
       "  </tbody>\n",
       "</table>\n",
       "</div>"
      ],
      "text/plain": [
       "    Area  MajorAxisLength  MinorAxisLength  Eccentricity  ConvexArea  \\\n",
       "0  87524       442.246011       253.291155      0.819738       90546   \n",
       "1  75166       406.690687       243.032436      0.801805       78789   \n",
       "2  90856       442.267048       266.328318      0.798354       93717   \n",
       "3  45928       286.540559       208.760042      0.684989       47336   \n",
       "4  79408       352.190770       290.827533      0.564011       81463   \n",
       "\n",
       "     Extent  Perimeter  \n",
       "0  0.758651   1184.040  \n",
       "1  0.684130   1121.786  \n",
       "2  0.637613   1208.575  \n",
       "3  0.699599    844.162  \n",
       "4  0.792772   1073.251  "
      ]
     },
     "execution_count": 94,
     "metadata": {},
     "output_type": "execute_result"
    }
   ],
   "source": [
    "X=data.drop('Class',axis=1)\n",
    "X.head()"
   ]
  },
  {
   "cell_type": "code",
   "execution_count": 95,
   "id": "34fbd872",
   "metadata": {},
   "outputs": [
    {
     "data": {
      "text/plain": [
       "0    Kecimen\n",
       "1    Kecimen\n",
       "2    Kecimen\n",
       "3    Kecimen\n",
       "4    Kecimen\n",
       "Name: Class, dtype: object"
      ]
     },
     "execution_count": 95,
     "metadata": {},
     "output_type": "execute_result"
    }
   ],
   "source": [
    "y = data['Class']\n",
    "y.head()"
   ]
  },
  {
   "cell_type": "code",
   "execution_count": 96,
   "id": "df2cc49c",
   "metadata": {},
   "outputs": [
    {
     "data": {
      "text/plain": [
       "(900, 8)"
      ]
     },
     "execution_count": 96,
     "metadata": {},
     "output_type": "execute_result"
    }
   ],
   "source": [
    "data.shape"
   ]
  },
  {
   "cell_type": "code",
   "execution_count": 97,
   "id": "d4214c65",
   "metadata": {},
   "outputs": [],
   "source": [
    "from sklearn.model_selection import train_test_split\n",
    "\n",
    "from sklearn.preprocessing import LabelEncoder\n",
    "encoder =  LabelEncoder()\n",
    "y1 = encoder.fit_transform(y)\n",
    "Y = pd.get_dummies(y1).values"
   ]
  },
  {
   "cell_type": "code",
   "execution_count": 98,
   "id": "52d653a7",
   "metadata": {},
   "outputs": [
    {
     "data": {
      "text/html": [
       "<div>\n",
       "<style scoped>\n",
       "    .dataframe tbody tr th:only-of-type {\n",
       "        vertical-align: middle;\n",
       "    }\n",
       "\n",
       "    .dataframe tbody tr th {\n",
       "        vertical-align: top;\n",
       "    }\n",
       "\n",
       "    .dataframe thead th {\n",
       "        text-align: right;\n",
       "    }\n",
       "</style>\n",
       "<table border=\"1\" class=\"dataframe\">\n",
       "  <thead>\n",
       "    <tr style=\"text-align: right;\">\n",
       "      <th></th>\n",
       "      <th>Area</th>\n",
       "      <th>MajorAxisLength</th>\n",
       "      <th>MinorAxisLength</th>\n",
       "      <th>Eccentricity</th>\n",
       "      <th>ConvexArea</th>\n",
       "      <th>Extent</th>\n",
       "      <th>Perimeter</th>\n",
       "    </tr>\n",
       "  </thead>\n",
       "  <tbody>\n",
       "    <tr>\n",
       "      <th>0</th>\n",
       "      <td>87524</td>\n",
       "      <td>442.246011</td>\n",
       "      <td>253.291155</td>\n",
       "      <td>0.819738</td>\n",
       "      <td>90546</td>\n",
       "      <td>0.758651</td>\n",
       "      <td>1184.040</td>\n",
       "    </tr>\n",
       "    <tr>\n",
       "      <th>1</th>\n",
       "      <td>75166</td>\n",
       "      <td>406.690687</td>\n",
       "      <td>243.032436</td>\n",
       "      <td>0.801805</td>\n",
       "      <td>78789</td>\n",
       "      <td>0.684130</td>\n",
       "      <td>1121.786</td>\n",
       "    </tr>\n",
       "    <tr>\n",
       "      <th>2</th>\n",
       "      <td>90856</td>\n",
       "      <td>442.267048</td>\n",
       "      <td>266.328318</td>\n",
       "      <td>0.798354</td>\n",
       "      <td>93717</td>\n",
       "      <td>0.637613</td>\n",
       "      <td>1208.575</td>\n",
       "    </tr>\n",
       "    <tr>\n",
       "      <th>3</th>\n",
       "      <td>45928</td>\n",
       "      <td>286.540559</td>\n",
       "      <td>208.760042</td>\n",
       "      <td>0.684989</td>\n",
       "      <td>47336</td>\n",
       "      <td>0.699599</td>\n",
       "      <td>844.162</td>\n",
       "    </tr>\n",
       "    <tr>\n",
       "      <th>4</th>\n",
       "      <td>79408</td>\n",
       "      <td>352.190770</td>\n",
       "      <td>290.827533</td>\n",
       "      <td>0.564011</td>\n",
       "      <td>81463</td>\n",
       "      <td>0.792772</td>\n",
       "      <td>1073.251</td>\n",
       "    </tr>\n",
       "    <tr>\n",
       "      <th>...</th>\n",
       "      <td>...</td>\n",
       "      <td>...</td>\n",
       "      <td>...</td>\n",
       "      <td>...</td>\n",
       "      <td>...</td>\n",
       "      <td>...</td>\n",
       "      <td>...</td>\n",
       "    </tr>\n",
       "    <tr>\n",
       "      <th>895</th>\n",
       "      <td>83248</td>\n",
       "      <td>430.077308</td>\n",
       "      <td>247.838695</td>\n",
       "      <td>0.817263</td>\n",
       "      <td>85839</td>\n",
       "      <td>0.668793</td>\n",
       "      <td>1129.072</td>\n",
       "    </tr>\n",
       "    <tr>\n",
       "      <th>896</th>\n",
       "      <td>87350</td>\n",
       "      <td>440.735698</td>\n",
       "      <td>259.293149</td>\n",
       "      <td>0.808629</td>\n",
       "      <td>90899</td>\n",
       "      <td>0.636476</td>\n",
       "      <td>1214.252</td>\n",
       "    </tr>\n",
       "    <tr>\n",
       "      <th>897</th>\n",
       "      <td>99657</td>\n",
       "      <td>431.706981</td>\n",
       "      <td>298.837323</td>\n",
       "      <td>0.721684</td>\n",
       "      <td>106264</td>\n",
       "      <td>0.741099</td>\n",
       "      <td>1292.828</td>\n",
       "    </tr>\n",
       "    <tr>\n",
       "      <th>898</th>\n",
       "      <td>93523</td>\n",
       "      <td>476.344094</td>\n",
       "      <td>254.176054</td>\n",
       "      <td>0.845739</td>\n",
       "      <td>97653</td>\n",
       "      <td>0.658798</td>\n",
       "      <td>1258.548</td>\n",
       "    </tr>\n",
       "    <tr>\n",
       "      <th>899</th>\n",
       "      <td>85609</td>\n",
       "      <td>512.081774</td>\n",
       "      <td>215.271976</td>\n",
       "      <td>0.907345</td>\n",
       "      <td>89197</td>\n",
       "      <td>0.632020</td>\n",
       "      <td>1272.862</td>\n",
       "    </tr>\n",
       "  </tbody>\n",
       "</table>\n",
       "<p>900 rows × 7 columns</p>\n",
       "</div>"
      ],
      "text/plain": [
       "      Area  MajorAxisLength  MinorAxisLength  Eccentricity  ConvexArea  \\\n",
       "0    87524       442.246011       253.291155      0.819738       90546   \n",
       "1    75166       406.690687       243.032436      0.801805       78789   \n",
       "2    90856       442.267048       266.328318      0.798354       93717   \n",
       "3    45928       286.540559       208.760042      0.684989       47336   \n",
       "4    79408       352.190770       290.827533      0.564011       81463   \n",
       "..     ...              ...              ...           ...         ...   \n",
       "895  83248       430.077308       247.838695      0.817263       85839   \n",
       "896  87350       440.735698       259.293149      0.808629       90899   \n",
       "897  99657       431.706981       298.837323      0.721684      106264   \n",
       "898  93523       476.344094       254.176054      0.845739       97653   \n",
       "899  85609       512.081774       215.271976      0.907345       89197   \n",
       "\n",
       "       Extent  Perimeter  \n",
       "0    0.758651   1184.040  \n",
       "1    0.684130   1121.786  \n",
       "2    0.637613   1208.575  \n",
       "3    0.699599    844.162  \n",
       "4    0.792772   1073.251  \n",
       "..        ...        ...  \n",
       "895  0.668793   1129.072  \n",
       "896  0.636476   1214.252  \n",
       "897  0.741099   1292.828  \n",
       "898  0.658798   1258.548  \n",
       "899  0.632020   1272.862  \n",
       "\n",
       "[900 rows x 7 columns]"
      ]
     },
     "execution_count": 98,
     "metadata": {},
     "output_type": "execute_result"
    }
   ],
   "source": [
    "X"
   ]
  },
  {
   "cell_type": "code",
   "execution_count": 99,
   "id": "5970bd13",
   "metadata": {},
   "outputs": [
    {
     "data": {
      "text/plain": [
       "(900, 7)"
      ]
     },
     "execution_count": 99,
     "metadata": {},
     "output_type": "execute_result"
    }
   ],
   "source": [
    "X.shape"
   ]
  },
  {
   "cell_type": "code",
   "execution_count": 100,
   "id": "2d35af4e",
   "metadata": {},
   "outputs": [
    {
     "data": {
      "text/plain": [
       "array([[0, 1],\n",
       "       [0, 1],\n",
       "       [0, 1],\n",
       "       ...,\n",
       "       [1, 0],\n",
       "       [1, 0],\n",
       "       [1, 0]], dtype=uint8)"
      ]
     },
     "execution_count": 100,
     "metadata": {},
     "output_type": "execute_result"
    }
   ],
   "source": [
    "Y"
   ]
  },
  {
   "cell_type": "code",
   "execution_count": 101,
   "id": "0fc751fb",
   "metadata": {},
   "outputs": [
    {
     "data": {
      "text/plain": [
       "(900, 2)"
      ]
     },
     "execution_count": 101,
     "metadata": {},
     "output_type": "execute_result"
    }
   ],
   "source": [
    "Y.shape"
   ]
  },
  {
   "cell_type": "code",
   "execution_count": 102,
   "id": "887ad211",
   "metadata": {},
   "outputs": [],
   "source": [
    "X_train,X_test, y_train,y_test = train_test_split(X,Y,test_size=0.2,random_state=0)"
   ]
  },
  {
   "cell_type": "code",
   "execution_count": 108,
   "id": "d11e6fd4",
   "metadata": {
    "scrolled": true
   },
   "outputs": [
    {
     "name": "stdout",
     "output_type": "stream",
     "text": [
      "Model: \"sequential_6\"\n",
      "_________________________________________________________________\n",
      " Layer (type)                Output Shape              Param #   \n",
      "=================================================================\n",
      " dense_36 (Dense)            (None, 40)                320       \n",
      "                                                                 \n",
      " dense_37 (Dense)            (None, 20)                820       \n",
      "                                                                 \n",
      " dense_38 (Dense)            (None, 16)                336       \n",
      "                                                                 \n",
      " dense_39 (Dense)            (None, 16)                272       \n",
      "                                                                 \n",
      " dense_40 (Dense)            (None, 11)                187       \n",
      "                                                                 \n",
      " dense_41 (Dense)            (None, 2)                 24        \n",
      "                                                                 \n",
      "=================================================================\n",
      "Total params: 1,959\n",
      "Trainable params: 1,959\n",
      "Non-trainable params: 0\n",
      "_________________________________________________________________\n"
     ]
    },
    {
     "name": "stderr",
     "output_type": "stream",
     "text": [
      "C:\\Users\\82106\\anaconda3\\lib\\site-packages\\keras\\optimizers\\legacy\\adam.py:117: UserWarning: The `lr` argument is deprecated, use `learning_rate` instead.\n",
      "  super().__init__(name, **kwargs)\n"
     ]
    }
   ],
   "source": [
    "from keras.models import Sequential\n",
    "from keras.layers import Dense\n",
    "from keras.optimizers import SGD,Adam\n",
    "from keras.layers import Input, Dense\n",
    "from keras import models\n",
    "from keras import layers\n",
    "\n",
    "#model = Model(inputs=inputs, outputs=output)\n",
    "def build_model(): \n",
    "    model = models.Sequential()\n",
    "    model.add(layers.Dense(40, activation='relu', input_shape=(7,)))\n",
    "    model.add(layers.Dense(20, activation='relu'))\n",
    "    model.add(layers.Dense(16, activation='relu'))\n",
    "    model.add(layers.Dense(16, activation='relu'))\n",
    "    model.add(layers.Dense(11, activation='relu'))\n",
    "    model.add(layers.Dense(2, activation='sigmoid'))\n",
    "    model.compile(loss='binary_crossentropy', optimizer=Adam(lr=0.0007), metrics=['accuracy'])\n",
    "    \n",
    "    return model\n",
    "\n",
    "\n",
    "model = build_model() \n",
    "\n",
    "model.summary()"
   ]
  },
  {
   "cell_type": "code",
   "execution_count": 109,
   "id": "405414fc",
   "metadata": {},
   "outputs": [
    {
     "name": "stdout",
     "output_type": "stream",
     "text": [
      "Epoch 1/100\n",
      "23/23 [==============================] - 1s 6ms/step - loss: 2117.6680 - accuracy: 0.4903 - val_loss: 366.0026 - val_accuracy: 0.5389\n",
      "Epoch 2/100\n",
      "23/23 [==============================] - 0s 2ms/step - loss: 141.8223 - accuracy: 0.5306 - val_loss: 46.3267 - val_accuracy: 0.5389\n",
      "Epoch 3/100\n",
      "23/23 [==============================] - 0s 2ms/step - loss: 30.4061 - accuracy: 0.5333 - val_loss: 19.7909 - val_accuracy: 0.5500\n",
      "Epoch 4/100\n",
      "23/23 [==============================] - 0s 2ms/step - loss: 11.7019 - accuracy: 0.6236 - val_loss: 10.5383 - val_accuracy: 0.6944\n",
      "Epoch 5/100\n",
      "23/23 [==============================] - 0s 2ms/step - loss: 9.5776 - accuracy: 0.7222 - val_loss: 8.7452 - val_accuracy: 0.8111\n",
      "Epoch 6/100\n",
      "23/23 [==============================] - 0s 2ms/step - loss: 6.5680 - accuracy: 0.7736 - val_loss: 7.1691 - val_accuracy: 0.7889\n",
      "Epoch 7/100\n",
      "23/23 [==============================] - 0s 2ms/step - loss: 6.0035 - accuracy: 0.7708 - val_loss: 9.8202 - val_accuracy: 0.8222\n",
      "Epoch 8/100\n",
      "23/23 [==============================] - 0s 2ms/step - loss: 6.5226 - accuracy: 0.7639 - val_loss: 4.5568 - val_accuracy: 0.8222\n",
      "Epoch 9/100\n",
      "23/23 [==============================] - 0s 2ms/step - loss: 6.2734 - accuracy: 0.7875 - val_loss: 4.9820 - val_accuracy: 0.7500\n",
      "Epoch 10/100\n",
      "23/23 [==============================] - 0s 2ms/step - loss: 6.1725 - accuracy: 0.7750 - val_loss: 3.8978 - val_accuracy: 0.8389\n",
      "Epoch 11/100\n",
      "23/23 [==============================] - 0s 2ms/step - loss: 4.2792 - accuracy: 0.7917 - val_loss: 3.6177 - val_accuracy: 0.7778\n",
      "Epoch 12/100\n",
      "23/23 [==============================] - 0s 2ms/step - loss: 4.0709 - accuracy: 0.8042 - val_loss: 4.9523 - val_accuracy: 0.8500\n",
      "Epoch 13/100\n",
      "23/23 [==============================] - 0s 2ms/step - loss: 5.7446 - accuracy: 0.7597 - val_loss: 5.0538 - val_accuracy: 0.8667\n",
      "Epoch 14/100\n",
      "23/23 [==============================] - 0s 2ms/step - loss: 5.2263 - accuracy: 0.7181 - val_loss: 10.9151 - val_accuracy: 0.8444\n",
      "Epoch 15/100\n",
      "23/23 [==============================] - 0s 2ms/step - loss: 4.5024 - accuracy: 0.7903 - val_loss: 3.5915 - val_accuracy: 0.7389\n",
      "Epoch 16/100\n",
      "23/23 [==============================] - 0s 2ms/step - loss: 2.7524 - accuracy: 0.8139 - val_loss: 1.8848 - val_accuracy: 0.8500\n",
      "Epoch 17/100\n",
      "23/23 [==============================] - 0s 2ms/step - loss: 2.5601 - accuracy: 0.8069 - val_loss: 4.5265 - val_accuracy: 0.7944\n",
      "Epoch 18/100\n",
      "23/23 [==============================] - 0s 2ms/step - loss: 4.6204 - accuracy: 0.7542 - val_loss: 2.0466 - val_accuracy: 0.8278\n",
      "Epoch 19/100\n",
      "23/23 [==============================] - 0s 2ms/step - loss: 4.1395 - accuracy: 0.7139 - val_loss: 3.6602 - val_accuracy: 0.8167\n",
      "Epoch 20/100\n",
      "23/23 [==============================] - 0s 2ms/step - loss: 4.6898 - accuracy: 0.7486 - val_loss: 3.4814 - val_accuracy: 0.8056\n",
      "Epoch 21/100\n",
      "23/23 [==============================] - 0s 2ms/step - loss: 3.7156 - accuracy: 0.7111 - val_loss: 2.5248 - val_accuracy: 0.8000\n",
      "Epoch 22/100\n",
      "23/23 [==============================] - 0s 2ms/step - loss: 3.1756 - accuracy: 0.7417 - val_loss: 2.1947 - val_accuracy: 0.8111\n",
      "Epoch 23/100\n",
      "23/23 [==============================] - 0s 2ms/step - loss: 3.9949 - accuracy: 0.7306 - val_loss: 7.3273 - val_accuracy: 0.6667\n",
      "Epoch 24/100\n",
      "23/23 [==============================] - 0s 2ms/step - loss: 6.8727 - accuracy: 0.7569 - val_loss: 10.2247 - val_accuracy: 0.7889\n",
      "Epoch 25/100\n",
      "23/23 [==============================] - 0s 2ms/step - loss: 7.5293 - accuracy: 0.7042 - val_loss: 4.1956 - val_accuracy: 0.6944\n",
      "Epoch 26/100\n",
      "23/23 [==============================] - 0s 2ms/step - loss: 5.1612 - accuracy: 0.7056 - val_loss: 7.8226 - val_accuracy: 0.6000\n",
      "Epoch 27/100\n",
      "23/23 [==============================] - 0s 2ms/step - loss: 4.9036 - accuracy: 0.7111 - val_loss: 5.7503 - val_accuracy: 0.6444\n",
      "Epoch 28/100\n",
      "23/23 [==============================] - 0s 2ms/step - loss: 4.7746 - accuracy: 0.7306 - val_loss: 2.0007 - val_accuracy: 0.8222\n",
      "Epoch 29/100\n",
      "23/23 [==============================] - 0s 2ms/step - loss: 3.0318 - accuracy: 0.7542 - val_loss: 3.0921 - val_accuracy: 0.7222\n",
      "Epoch 30/100\n",
      "23/23 [==============================] - 0s 2ms/step - loss: 1.9519 - accuracy: 0.7972 - val_loss: 1.8394 - val_accuracy: 0.8333\n",
      "Epoch 31/100\n",
      "23/23 [==============================] - 0s 2ms/step - loss: 3.1938 - accuracy: 0.7597 - val_loss: 2.9220 - val_accuracy: 0.8000\n",
      "Epoch 32/100\n",
      "23/23 [==============================] - 0s 2ms/step - loss: 2.8743 - accuracy: 0.7889 - val_loss: 7.5582 - val_accuracy: 0.7056\n",
      "Epoch 33/100\n",
      "23/23 [==============================] - 0s 2ms/step - loss: 5.8651 - accuracy: 0.6806 - val_loss: 4.3185 - val_accuracy: 0.6611\n",
      "Epoch 34/100\n",
      "23/23 [==============================] - 0s 2ms/step - loss: 3.0708 - accuracy: 0.7681 - val_loss: 2.4012 - val_accuracy: 0.8278\n",
      "Epoch 35/100\n",
      "23/23 [==============================] - 0s 2ms/step - loss: 2.8347 - accuracy: 0.8000 - val_loss: 3.9902 - val_accuracy: 0.7333\n",
      "Epoch 36/100\n",
      "23/23 [==============================] - 0s 2ms/step - loss: 3.6635 - accuracy: 0.7444 - val_loss: 2.5315 - val_accuracy: 0.7611\n",
      "Epoch 37/100\n",
      "23/23 [==============================] - 0s 2ms/step - loss: 1.7228 - accuracy: 0.8194 - val_loss: 1.6391 - val_accuracy: 0.8611\n",
      "Epoch 38/100\n",
      "23/23 [==============================] - 0s 2ms/step - loss: 1.2466 - accuracy: 0.8431 - val_loss: 1.3767 - val_accuracy: 0.8611\n",
      "Epoch 39/100\n",
      "23/23 [==============================] - 0s 2ms/step - loss: 1.4339 - accuracy: 0.8375 - val_loss: 1.4742 - val_accuracy: 0.8278\n",
      "Epoch 40/100\n",
      "23/23 [==============================] - 0s 2ms/step - loss: 1.9732 - accuracy: 0.7917 - val_loss: 1.8373 - val_accuracy: 0.8556\n",
      "Epoch 41/100\n",
      "23/23 [==============================] - 0s 2ms/step - loss: 2.9710 - accuracy: 0.7625 - val_loss: 2.8068 - val_accuracy: 0.7333\n",
      "Epoch 42/100\n",
      "23/23 [==============================] - 0s 2ms/step - loss: 2.7593 - accuracy: 0.7389 - val_loss: 1.8345 - val_accuracy: 0.8667\n",
      "Epoch 43/100\n",
      "23/23 [==============================] - 0s 2ms/step - loss: 2.0607 - accuracy: 0.8375 - val_loss: 2.7795 - val_accuracy: 0.8278\n",
      "Epoch 44/100\n",
      "23/23 [==============================] - 0s 2ms/step - loss: 2.7789 - accuracy: 0.7653 - val_loss: 2.4572 - val_accuracy: 0.8056\n",
      "Epoch 45/100\n",
      "23/23 [==============================] - 0s 2ms/step - loss: 2.4677 - accuracy: 0.7736 - val_loss: 5.5044 - val_accuracy: 0.7444\n",
      "Epoch 46/100\n",
      "23/23 [==============================] - 0s 2ms/step - loss: 4.2225 - accuracy: 0.7694 - val_loss: 3.3384 - val_accuracy: 0.7278\n",
      "Epoch 47/100\n",
      "23/23 [==============================] - 0s 2ms/step - loss: 3.1889 - accuracy: 0.7597 - val_loss: 1.4706 - val_accuracy: 0.8444\n",
      "Epoch 48/100\n",
      "23/23 [==============================] - 0s 2ms/step - loss: 2.3553 - accuracy: 0.7653 - val_loss: 3.9771 - val_accuracy: 0.7056\n",
      "Epoch 49/100\n",
      "23/23 [==============================] - 0s 2ms/step - loss: 4.7619 - accuracy: 0.6625 - val_loss: 4.8129 - val_accuracy: 0.7556\n",
      "Epoch 50/100\n",
      "23/23 [==============================] - 0s 2ms/step - loss: 6.8634 - accuracy: 0.6444 - val_loss: 3.5315 - val_accuracy: 0.7278\n",
      "Epoch 51/100\n",
      "23/23 [==============================] - 0s 2ms/step - loss: 2.2753 - accuracy: 0.7639 - val_loss: 1.5890 - val_accuracy: 0.8444\n",
      "Epoch 52/100\n",
      "23/23 [==============================] - 0s 2ms/step - loss: 1.4331 - accuracy: 0.8292 - val_loss: 1.6410 - val_accuracy: 0.8333\n",
      "Epoch 53/100\n",
      "23/23 [==============================] - 0s 2ms/step - loss: 1.4530 - accuracy: 0.8181 - val_loss: 2.0528 - val_accuracy: 0.8111\n",
      "Epoch 54/100\n",
      "23/23 [==============================] - 0s 2ms/step - loss: 2.5469 - accuracy: 0.7528 - val_loss: 1.3801 - val_accuracy: 0.8444\n",
      "Epoch 55/100\n",
      "23/23 [==============================] - 0s 2ms/step - loss: 1.4127 - accuracy: 0.8319 - val_loss: 3.9973 - val_accuracy: 0.7333\n",
      "Epoch 56/100\n",
      "23/23 [==============================] - 0s 2ms/step - loss: 1.7286 - accuracy: 0.8042 - val_loss: 1.5963 - val_accuracy: 0.8333\n",
      "Epoch 57/100\n",
      "23/23 [==============================] - 0s 2ms/step - loss: 1.3818 - accuracy: 0.8292 - val_loss: 2.5592 - val_accuracy: 0.8278\n",
      "Epoch 58/100\n",
      "23/23 [==============================] - 0s 2ms/step - loss: 2.0633 - accuracy: 0.8028 - val_loss: 4.8675 - val_accuracy: 0.6500\n",
      "Epoch 59/100\n",
      "23/23 [==============================] - 0s 2ms/step - loss: 6.2388 - accuracy: 0.6889 - val_loss: 5.2650 - val_accuracy: 0.6889\n",
      "Epoch 60/100\n",
      "23/23 [==============================] - 0s 2ms/step - loss: 3.9487 - accuracy: 0.7222 - val_loss: 4.1050 - val_accuracy: 0.7111\n",
      "Epoch 61/100\n",
      "23/23 [==============================] - 0s 2ms/step - loss: 2.0199 - accuracy: 0.7903 - val_loss: 1.4402 - val_accuracy: 0.8222\n",
      "Epoch 62/100\n",
      "23/23 [==============================] - 0s 2ms/step - loss: 1.6802 - accuracy: 0.8458 - val_loss: 1.4812 - val_accuracy: 0.8667\n",
      "Epoch 63/100\n",
      "23/23 [==============================] - 0s 2ms/step - loss: 1.2963 - accuracy: 0.8278 - val_loss: 1.8067 - val_accuracy: 0.8222\n",
      "Epoch 64/100\n",
      "23/23 [==============================] - 0s 2ms/step - loss: 2.6539 - accuracy: 0.7722 - val_loss: 3.3554 - val_accuracy: 0.7333\n",
      "Epoch 65/100\n",
      "23/23 [==============================] - 0s 2ms/step - loss: 2.1469 - accuracy: 0.7750 - val_loss: 5.0993 - val_accuracy: 0.6167\n",
      "Epoch 66/100\n",
      "23/23 [==============================] - 0s 2ms/step - loss: 6.0665 - accuracy: 0.6958 - val_loss: 6.5513 - val_accuracy: 0.6278\n",
      "Epoch 67/100\n",
      "23/23 [==============================] - 0s 2ms/step - loss: 5.4411 - accuracy: 0.7250 - val_loss: 2.3646 - val_accuracy: 0.8556\n",
      "Epoch 68/100\n",
      "23/23 [==============================] - 0s 2ms/step - loss: 2.1535 - accuracy: 0.8042 - val_loss: 5.7352 - val_accuracy: 0.6500\n",
      "Epoch 69/100\n",
      "23/23 [==============================] - 0s 2ms/step - loss: 2.1067 - accuracy: 0.7944 - val_loss: 2.5295 - val_accuracy: 0.8611\n",
      "Epoch 70/100\n",
      "23/23 [==============================] - 0s 2ms/step - loss: 2.1292 - accuracy: 0.7972 - val_loss: 1.7080 - val_accuracy: 0.8333\n",
      "Epoch 71/100\n",
      "23/23 [==============================] - 0s 2ms/step - loss: 1.7395 - accuracy: 0.8167 - val_loss: 4.6865 - val_accuracy: 0.7889\n",
      "Epoch 72/100\n",
      "23/23 [==============================] - 0s 2ms/step - loss: 1.9558 - accuracy: 0.8222 - val_loss: 2.2947 - val_accuracy: 0.8278\n",
      "Epoch 73/100\n",
      "23/23 [==============================] - 0s 2ms/step - loss: 1.7180 - accuracy: 0.7917 - val_loss: 2.1982 - val_accuracy: 0.8111\n",
      "Epoch 74/100\n",
      "23/23 [==============================] - 0s 2ms/step - loss: 1.1870 - accuracy: 0.8472 - val_loss: 2.4158 - val_accuracy: 0.8056\n",
      "Epoch 75/100\n",
      "23/23 [==============================] - 0s 2ms/step - loss: 1.7639 - accuracy: 0.7944 - val_loss: 2.4121 - val_accuracy: 0.8000\n",
      "Epoch 76/100\n",
      "23/23 [==============================] - 0s 2ms/step - loss: 1.7764 - accuracy: 0.8069 - val_loss: 2.2065 - val_accuracy: 0.8111\n",
      "Epoch 77/100\n",
      "23/23 [==============================] - 0s 2ms/step - loss: 1.8152 - accuracy: 0.7847 - val_loss: 3.1523 - val_accuracy: 0.8222\n",
      "Epoch 78/100\n",
      "23/23 [==============================] - 0s 2ms/step - loss: 2.0111 - accuracy: 0.7958 - val_loss: 2.0885 - val_accuracy: 0.8389\n",
      "Epoch 79/100\n",
      "23/23 [==============================] - 0s 2ms/step - loss: 1.5824 - accuracy: 0.8444 - val_loss: 2.0940 - val_accuracy: 0.8333\n",
      "Epoch 80/100\n",
      "23/23 [==============================] - 0s 2ms/step - loss: 2.9020 - accuracy: 0.7917 - val_loss: 1.7754 - val_accuracy: 0.8611\n",
      "Epoch 81/100\n",
      "23/23 [==============================] - 0s 2ms/step - loss: 1.6676 - accuracy: 0.7944 - val_loss: 2.2885 - val_accuracy: 0.8556\n",
      "Epoch 82/100\n",
      "23/23 [==============================] - 0s 2ms/step - loss: 1.4226 - accuracy: 0.8153 - val_loss: 1.6418 - val_accuracy: 0.8389\n",
      "Epoch 83/100\n",
      "23/23 [==============================] - 0s 2ms/step - loss: 1.4464 - accuracy: 0.8111 - val_loss: 1.5304 - val_accuracy: 0.8500\n",
      "Epoch 84/100\n",
      "23/23 [==============================] - 0s 2ms/step - loss: 1.6506 - accuracy: 0.8153 - val_loss: 2.5309 - val_accuracy: 0.8222\n",
      "Epoch 85/100\n",
      "23/23 [==============================] - 0s 2ms/step - loss: 1.6953 - accuracy: 0.8181 - val_loss: 6.4585 - val_accuracy: 0.5778\n",
      "Epoch 86/100\n",
      "23/23 [==============================] - 0s 2ms/step - loss: 3.0270 - accuracy: 0.7528 - val_loss: 1.6932 - val_accuracy: 0.8611\n",
      "Epoch 87/100\n",
      "23/23 [==============================] - 0s 2ms/step - loss: 1.6016 - accuracy: 0.8139 - val_loss: 2.7167 - val_accuracy: 0.7778\n",
      "Epoch 88/100\n",
      "23/23 [==============================] - 0s 2ms/step - loss: 1.5507 - accuracy: 0.8097 - val_loss: 1.9631 - val_accuracy: 0.8722\n",
      "Epoch 89/100\n",
      "23/23 [==============================] - 0s 2ms/step - loss: 1.5964 - accuracy: 0.8222 - val_loss: 1.4747 - val_accuracy: 0.8722\n",
      "Epoch 90/100\n",
      "23/23 [==============================] - 0s 2ms/step - loss: 2.2054 - accuracy: 0.8014 - val_loss: 4.9124 - val_accuracy: 0.6667\n",
      "Epoch 91/100\n",
      "23/23 [==============================] - 0s 2ms/step - loss: 2.7637 - accuracy: 0.8042 - val_loss: 1.7938 - val_accuracy: 0.8556\n",
      "Epoch 92/100\n",
      "23/23 [==============================] - 0s 2ms/step - loss: 1.2474 - accuracy: 0.8347 - val_loss: 1.7070 - val_accuracy: 0.8222\n",
      "Epoch 93/100\n",
      "23/23 [==============================] - 0s 2ms/step - loss: 1.8891 - accuracy: 0.7931 - val_loss: 1.4962 - val_accuracy: 0.8389\n",
      "Epoch 94/100\n",
      "23/23 [==============================] - 0s 2ms/step - loss: 2.2230 - accuracy: 0.8153 - val_loss: 2.8512 - val_accuracy: 0.7944\n",
      "Epoch 95/100\n",
      "23/23 [==============================] - 0s 2ms/step - loss: 2.5663 - accuracy: 0.7653 - val_loss: 2.1272 - val_accuracy: 0.8056\n",
      "Epoch 96/100\n",
      "23/23 [==============================] - 0s 2ms/step - loss: 2.8886 - accuracy: 0.7875 - val_loss: 3.9292 - val_accuracy: 0.8722\n",
      "Epoch 97/100\n",
      "23/23 [==============================] - 0s 2ms/step - loss: 5.3646 - accuracy: 0.6931 - val_loss: 4.3603 - val_accuracy: 0.7000\n",
      "Epoch 98/100\n",
      "23/23 [==============================] - 0s 2ms/step - loss: 8.6781 - accuracy: 0.6208 - val_loss: 3.3028 - val_accuracy: 0.8278\n",
      "Epoch 99/100\n",
      "23/23 [==============================] - 0s 2ms/step - loss: 3.1081 - accuracy: 0.7292 - val_loss: 3.0026 - val_accuracy: 0.7778\n",
      "Epoch 100/100\n",
      "23/23 [==============================] - 0s 2ms/step - loss: 2.3266 - accuracy: 0.7889 - val_loss: 2.1279 - val_accuracy: 0.8611\n",
      "6/6 [==============================] - 0s 598us/step\n"
     ]
    }
   ],
   "source": [
    "#fitting the model and predicting \n",
    "\n",
    "# fit network\n",
    "model_history=model.fit(x=X_train, y=y_train, epochs=100, batch_size=32,validation_data= (X_test,y_test))\n",
    "y_pred = model.predict(X_test)\n",
    "\n",
    "y_test_class = np.argmax(y_test,axis=1)\n",
    "y_pred_class = np.argmax(y_pred,axis=1)"
   ]
  },
  {
   "cell_type": "code",
   "execution_count": 110,
   "id": "f207fb66",
   "metadata": {},
   "outputs": [
    {
     "data": {
      "image/png": "[encoded data removed]",
      "text/plain": [
       "<Figure size 640x480 with 1 Axes>"
      ]
     },
     "metadata": {},
     "output_type": "display_data"
    }
   ],
   "source": [
    "import matplotlib.pyplot as plt\n",
    "import seaborn as sns\n",
    "\n",
    "loss =model_history.history['loss']\n",
    "val_loss =model_history.history['val_loss']\n",
    "epochs = range(1, len(loss) + 1)\n",
    "plt.plot(epochs, loss, 'y', label='Training loss')\n",
    "plt.plot(epochs, val_loss, 'r', label='Validation loss')\n",
    "plt.title('Training and validation loss')\n",
    "plt.xlabel('Epochs')\n",
    "plt.ylabel('Loss')\n",
    "plt.legend()\n",
    "plt.show()"
   ]
  },
  {
   "cell_type": "code",
   "execution_count": 111,
   "id": "71bd2a93",
   "metadata": {},
   "outputs": [
    {
     "data": {
      "image/png": "[encoded data removed]",
      "text/plain": [
       "<Figure size 640x480 with 1 Axes>"
      ]
     },
     "metadata": {},
     "output_type": "display_data"
    }
   ],
   "source": [
    "acc =model_history.history['accuracy']\n",
    "val_acc =model_history.history['val_accuracy']\n",
    "plt.plot(epochs, acc, 'y', label='Training acc')\n",
    "plt.plot(epochs, val_acc, 'r', label='Validation acc')\n",
    "plt.title('Training and validation accuracy')\n",
    "plt.xlabel('Epochs')\n",
    "plt.ylabel('Accuracy')\n",
    "plt.legend()\n",
    "plt.show()"
   ]
  },
  {
   "cell_type": "code",
   "execution_count": 112,
   "id": "7b6957c1",
   "metadata": {},
   "outputs": [
    {
     "name": "stdout",
     "output_type": "stream",
     "text": [
      "              precision    recall  f1-score   support\n",
      "\n",
      "           0       0.95      0.78      0.86        97\n",
      "           1       0.79      0.95      0.86        83\n",
      "\n",
      "    accuracy                           0.86       180\n",
      "   macro avg       0.87      0.87      0.86       180\n",
      "weighted avg       0.88      0.86      0.86       180\n",
      "\n",
      "[[76 21]\n",
      " [ 4 79]]\n"
     ]
    }
   ],
   "source": [
    "#Accuracy of the predicted values\n",
    "from sklearn.metrics import classification_report,confusion_matrix\n",
    "print(classification_report(y_test_class,y_pred_class))\n",
    "print(confusion_matrix(y_test_class,y_pred_class))"
   ]
  },
  {
   "cell_type": "code",
   "execution_count": null,
   "id": "89ecb0c4",
   "metadata": {},
   "outputs": [],
   "source": []
  }
 ],
 "metadata": {
  "kernelspec": {
   "display_name": "Python 3 (ipykernel)",
   "language": "python",
   "name": "python3"
  },
  "language_info": {
   "codemirror_mode": {
    "name": "ipython",
    "version": 3
   },
   "file_extension": ".py",
   "mimetype": "text/x-python",
   "name": "python",
   "nbconvert_exporter": "python",
   "pygments_lexer": "ipython3",
   "version": "3.10.9"
  }
 },
 "nbformat": 4,
 "nbformat_minor": 5
}
