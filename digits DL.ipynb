{
 "cells": [
  {
   "cell_type": "code",
   "execution_count": 9,
   "id": "acad68c9",
   "metadata": {},
   "outputs": [
    {
     "data": {
      "text/plain": [
       "<matplotlib.image.AxesImage at 0x17cdfd31fd0>"
      ]
     },
     "execution_count": 9,
     "metadata": {},
     "output_type": "execute_result"
    },
    {
     "data": {
      "image/png": "[encoded data removed]",
      "text/plain": [
       "<Figure size 432x288 with 1 Axes>"
      ]
     },
     "metadata": {
      "needs_background": "light"
     },
     "output_type": "display_data"
    }
   ],
   "source": [
    "import matplotlib.pyplot as plt\n",
    "from sklearn import datasets, metrics\n",
    "from sklearn.model_selection import train_test_split\n",
    "import pandas as pd\n",
    "import numpy as np\n",
    "\n",
    "digits = datasets.load_digits()\n",
    "plt.imshow(digits.images[0], cmap=plt.cm.gray_r, interpolation='nearest')"
   ]
  },
  {
   "cell_type": "code",
   "execution_count": 10,
   "id": "2bb461ac",
   "metadata": {},
   "outputs": [],
   "source": [
    "n_samples = len(digits.images)\n",
    "\n",
    "data = digits.images.reshape((n_samples, -1))\n",
    "\n",
    "# 이미지를 평판화 n x sample x 8 8 => n_sample x 64"
   ]
  },
  {
   "cell_type": "code",
   "execution_count": 11,
   "id": "e075fd6e",
   "metadata": {},
   "outputs": [],
   "source": [
    "from sklearn.preprocessing import LabelEncoder\n",
    "encoder =  LabelEncoder()\n",
    "y1 = encoder.fit_transform(digits.target)\n",
    "\n",
    "Y = pd.get_dummies(y1).values"
   ]
  },
  {
   "cell_type": "code",
   "execution_count": 12,
   "id": "ffcfbf6b",
   "metadata": {},
   "outputs": [],
   "source": [
    "X_train, X_test, y_train, y_test = train_test_split(data, Y, test_size=0.2, random_state=0)"
   ]
  },
  {
   "cell_type": "code",
   "execution_count": 13,
   "id": "cd55a64f",
   "metadata": {},
   "outputs": [
    {
     "name": "stdout",
     "output_type": "stream",
     "text": [
      "X train : (1437, 64)\n",
      "y train : (1437, 10)\n",
      "X test : (360, 64)\n",
      "y test : (360, 10)\n"
     ]
    }
   ],
   "source": [
    "print(\"X train :\", X_train.shape)\n",
    "print(\"y train :\", y_train.shape)\n",
    "print(\"X test :\", X_test.shape)\n",
    "print(\"y test :\", y_test.shape)"
   ]
  },
  {
   "cell_type": "code",
   "execution_count": 31,
   "id": "05011acc",
   "metadata": {},
   "outputs": [
    {
     "name": "stdout",
     "output_type": "stream",
     "text": [
      "Model: \"sequential_4\"\n",
      "_________________________________________________________________\n",
      " Layer (type)                Output Shape              Param #   \n",
      "=================================================================\n",
      " dense_20 (Dense)            (None, 128)               8320      \n",
      "                                                                 \n",
      " dense_21 (Dense)            (None, 100)               12900     \n",
      "                                                                 \n",
      " dense_22 (Dense)            (None, 86)                8686      \n",
      "                                                                 \n",
      " dense_23 (Dense)            (None, 82)                7134      \n",
      "                                                                 \n",
      " dense_24 (Dense)            (None, 10)                830       \n",
      "                                                                 \n",
      "=================================================================\n",
      "Total params: 37,870\n",
      "Trainable params: 37,870\n",
      "Non-trainable params: 0\n",
      "_________________________________________________________________\n"
     ]
    },
    {
     "name": "stderr",
     "output_type": "stream",
     "text": [
      "C:\\Users\\ADMIN\\anaconda3\\lib\\site-packages\\keras\\optimizers\\legacy\\adam.py:117: UserWarning: The `lr` argument is deprecated, use `learning_rate` instead.\n",
      "  super().__init__(name, **kwargs)\n"
     ]
    }
   ],
   "source": [
    "#Defining the model \n",
    "\n",
    "from keras.models import Sequential\n",
    "from keras.layers import Dense\n",
    "from keras.optimizers import SGD,Adam\n",
    "\n",
    "\n",
    "model = Sequential()\n",
    "\n",
    "model.add(Dense(128,input_shape=(64,),activation='ReLU'))\n",
    "model.add(Dense(100,activation='ReLU'))\n",
    "model.add(Dense(86,activation='ReLU'))\n",
    "model.add(Dense(82,activation='ReLU'))\n",
    "model.add(Dense(10,activation='softmax'))\n",
    "\n",
    "model.compile(Adam(lr=0.0045),'categorical_crossentropy',metrics=['accuracy'])\n",
    "\n",
    "model.summary()"
   ]
  },
  {
   "cell_type": "code",
   "execution_count": 32,
   "id": "a03e2942",
   "metadata": {},
   "outputs": [
    {
     "name": "stdout",
     "output_type": "stream",
     "text": [
      "Epoch 1/100\n",
      "45/45 [==============================] - 0s 3ms/step - loss: 0.7877 - accuracy: 0.7495 - val_loss: 0.2750 - val_accuracy: 0.9333\n",
      "Epoch 2/100\n",
      "45/45 [==============================] - 0s 1ms/step - loss: 0.1788 - accuracy: 0.9388 - val_loss: 0.1964 - val_accuracy: 0.9472\n",
      "Epoch 3/100\n",
      "45/45 [==============================] - 0s 1ms/step - loss: 0.1464 - accuracy: 0.9534 - val_loss: 0.1646 - val_accuracy: 0.9611\n",
      "Epoch 4/100\n",
      "45/45 [==============================] - 0s 943us/step - loss: 0.1047 - accuracy: 0.9687 - val_loss: 0.1000 - val_accuracy: 0.9667\n",
      "Epoch 5/100\n",
      "45/45 [==============================] - 0s 1ms/step - loss: 0.0998 - accuracy: 0.9666 - val_loss: 0.1977 - val_accuracy: 0.9417\n",
      "Epoch 6/100\n",
      "45/45 [==============================] - 0s 997us/step - loss: 0.0832 - accuracy: 0.9736 - val_loss: 0.1365 - val_accuracy: 0.9639\n",
      "Epoch 7/100\n",
      "45/45 [==============================] - 0s 1ms/step - loss: 0.0379 - accuracy: 0.9889 - val_loss: 0.0792 - val_accuracy: 0.9750\n",
      "Epoch 8/100\n",
      "45/45 [==============================] - 0s 1ms/step - loss: 0.0804 - accuracy: 0.9756 - val_loss: 0.1947 - val_accuracy: 0.9361\n",
      "Epoch 9/100\n",
      "45/45 [==============================] - 0s 1ms/step - loss: 0.1103 - accuracy: 0.9736 - val_loss: 0.0919 - val_accuracy: 0.9778\n",
      "Epoch 10/100\n",
      "45/45 [==============================] - 0s 1ms/step - loss: 0.0455 - accuracy: 0.9868 - val_loss: 0.1756 - val_accuracy: 0.9639\n",
      "Epoch 11/100\n",
      "45/45 [==============================] - 0s 936us/step - loss: 0.0358 - accuracy: 0.9882 - val_loss: 0.0791 - val_accuracy: 0.9750\n",
      "Epoch 12/100\n",
      "45/45 [==============================] - 0s 1ms/step - loss: 0.0347 - accuracy: 0.9910 - val_loss: 0.0927 - val_accuracy: 0.9750\n",
      "Epoch 13/100\n",
      "45/45 [==============================] - 0s 1ms/step - loss: 0.0149 - accuracy: 0.9937 - val_loss: 0.0925 - val_accuracy: 0.9750\n",
      "Epoch 14/100\n",
      "45/45 [==============================] - 0s 951us/step - loss: 0.0314 - accuracy: 0.9916 - val_loss: 0.1019 - val_accuracy: 0.9722\n",
      "Epoch 15/100\n",
      "45/45 [==============================] - 0s 1ms/step - loss: 0.1003 - accuracy: 0.9722 - val_loss: 0.1391 - val_accuracy: 0.9667\n",
      "Epoch 16/100\n",
      "45/45 [==============================] - 0s 1ms/step - loss: 0.1467 - accuracy: 0.9638 - val_loss: 0.1660 - val_accuracy: 0.9389\n",
      "Epoch 17/100\n",
      "45/45 [==============================] - 0s 1ms/step - loss: 0.0884 - accuracy: 0.9722 - val_loss: 0.1229 - val_accuracy: 0.9694\n",
      "Epoch 18/100\n",
      "45/45 [==============================] - 0s 1ms/step - loss: 0.0349 - accuracy: 0.9882 - val_loss: 0.1128 - val_accuracy: 0.9667\n",
      "Epoch 19/100\n",
      "45/45 [==============================] - 0s 996us/step - loss: 0.0471 - accuracy: 0.9854 - val_loss: 0.1503 - val_accuracy: 0.9556\n",
      "Epoch 20/100\n",
      "45/45 [==============================] - 0s 1ms/step - loss: 0.0502 - accuracy: 0.9889 - val_loss: 0.1045 - val_accuracy: 0.9750\n",
      "Epoch 21/100\n",
      "45/45 [==============================] - 0s 1ms/step - loss: 0.0423 - accuracy: 0.9861 - val_loss: 0.1453 - val_accuracy: 0.9778\n",
      "Epoch 22/100\n",
      "45/45 [==============================] - 0s 1ms/step - loss: 0.0253 - accuracy: 0.9923 - val_loss: 0.0987 - val_accuracy: 0.9833\n",
      "Epoch 23/100\n",
      "45/45 [==============================] - 0s 1ms/step - loss: 0.0623 - accuracy: 0.9826 - val_loss: 0.1221 - val_accuracy: 0.9722\n",
      "Epoch 24/100\n",
      "45/45 [==============================] - 0s 1ms/step - loss: 0.0342 - accuracy: 0.9910 - val_loss: 0.0690 - val_accuracy: 0.9722\n",
      "Epoch 25/100\n",
      "45/45 [==============================] - 0s 1ms/step - loss: 0.0063 - accuracy: 0.9986 - val_loss: 0.0920 - val_accuracy: 0.9750\n",
      "Epoch 26/100\n",
      "45/45 [==============================] - 0s 1ms/step - loss: 0.0038 - accuracy: 0.9986 - val_loss: 0.0767 - val_accuracy: 0.9778\n",
      "Epoch 27/100\n",
      "45/45 [==============================] - 0s 1ms/step - loss: 0.0301 - accuracy: 0.9889 - val_loss: 0.1287 - val_accuracy: 0.9694\n",
      "Epoch 28/100\n",
      "45/45 [==============================] - 0s 1ms/step - loss: 0.0269 - accuracy: 0.9910 - val_loss: 0.1664 - val_accuracy: 0.9611\n",
      "Epoch 29/100\n",
      "45/45 [==============================] - 0s 1ms/step - loss: 0.0039 - accuracy: 0.9986 - val_loss: 0.1468 - val_accuracy: 0.9722\n",
      "Epoch 30/100\n",
      "45/45 [==============================] - 0s 1ms/step - loss: 0.0115 - accuracy: 0.9965 - val_loss: 0.1292 - val_accuracy: 0.9667\n",
      "Epoch 31/100\n",
      "45/45 [==============================] - 0s 1ms/step - loss: 0.0013 - accuracy: 0.9993 - val_loss: 0.1457 - val_accuracy: 0.9750\n",
      "Epoch 32/100\n",
      "45/45 [==============================] - 0s 1ms/step - loss: 3.0370e-04 - accuracy: 1.0000 - val_loss: 0.1679 - val_accuracy: 0.9722\n",
      "Epoch 33/100\n",
      "45/45 [==============================] - 0s 1ms/step - loss: 8.5356e-05 - accuracy: 1.0000 - val_loss: 0.1691 - val_accuracy: 0.9722\n",
      "Epoch 34/100\n",
      "45/45 [==============================] - 0s 1ms/step - loss: 6.4637e-05 - accuracy: 1.0000 - val_loss: 0.1760 - val_accuracy: 0.9722\n",
      "Epoch 35/100\n",
      "45/45 [==============================] - 0s 1ms/step - loss: 5.1818e-05 - accuracy: 1.0000 - val_loss: 0.1752 - val_accuracy: 0.9750\n",
      "Epoch 36/100\n",
      "45/45 [==============================] - 0s 1ms/step - loss: 4.3750e-05 - accuracy: 1.0000 - val_loss: 0.1836 - val_accuracy: 0.9750\n",
      "Epoch 37/100\n",
      "45/45 [==============================] - 0s 1ms/step - loss: 3.9290e-05 - accuracy: 1.0000 - val_loss: 0.1805 - val_accuracy: 0.9750\n",
      "Epoch 38/100\n",
      "45/45 [==============================] - 0s 1ms/step - loss: 3.5121e-05 - accuracy: 1.0000 - val_loss: 0.1793 - val_accuracy: 0.9750\n",
      "Epoch 39/100\n",
      "45/45 [==============================] - 0s 1ms/step - loss: 3.1544e-05 - accuracy: 1.0000 - val_loss: 0.1794 - val_accuracy: 0.9750\n",
      "Epoch 40/100\n",
      "45/45 [==============================] - 0s 1ms/step - loss: 2.8963e-05 - accuracy: 1.0000 - val_loss: 0.1780 - val_accuracy: 0.9750\n",
      "Epoch 41/100\n",
      "45/45 [==============================] - 0s 1ms/step - loss: 2.6602e-05 - accuracy: 1.0000 - val_loss: 0.1815 - val_accuracy: 0.9722\n",
      "Epoch 42/100\n",
      "45/45 [==============================] - 0s 1ms/step - loss: 2.4604e-05 - accuracy: 1.0000 - val_loss: 0.1804 - val_accuracy: 0.9722\n",
      "Epoch 43/100\n",
      "45/45 [==============================] - 0s 1ms/step - loss: 2.2799e-05 - accuracy: 1.0000 - val_loss: 0.1814 - val_accuracy: 0.9722\n",
      "Epoch 44/100\n",
      "45/45 [==============================] - 0s 1ms/step - loss: 2.1185e-05 - accuracy: 1.0000 - val_loss: 0.1820 - val_accuracy: 0.9722\n",
      "Epoch 45/100\n",
      "45/45 [==============================] - 0s 1ms/step - loss: 1.9840e-05 - accuracy: 1.0000 - val_loss: 0.1797 - val_accuracy: 0.9722\n",
      "Epoch 46/100\n",
      "45/45 [==============================] - 0s 1ms/step - loss: 1.8603e-05 - accuracy: 1.0000 - val_loss: 0.1823 - val_accuracy: 0.9722\n",
      "Epoch 47/100\n",
      "45/45 [==============================] - 0s 1ms/step - loss: 1.7587e-05 - accuracy: 1.0000 - val_loss: 0.1807 - val_accuracy: 0.9722\n",
      "Epoch 48/100\n",
      "45/45 [==============================] - 0s 1ms/step - loss: 1.6451e-05 - accuracy: 1.0000 - val_loss: 0.1829 - val_accuracy: 0.9722\n",
      "Epoch 49/100\n",
      "45/45 [==============================] - 0s 1ms/step - loss: 1.5603e-05 - accuracy: 1.0000 - val_loss: 0.1833 - val_accuracy: 0.9722\n",
      "Epoch 50/100\n",
      "45/45 [==============================] - 0s 996us/step - loss: 1.4713e-05 - accuracy: 1.0000 - val_loss: 0.1828 - val_accuracy: 0.9722\n",
      "Epoch 51/100\n",
      "45/45 [==============================] - 0s 1ms/step - loss: 1.3963e-05 - accuracy: 1.0000 - val_loss: 0.1827 - val_accuracy: 0.9722\n",
      "Epoch 52/100\n",
      "45/45 [==============================] - 0s 1ms/step - loss: 1.3328e-05 - accuracy: 1.0000 - val_loss: 0.1831 - val_accuracy: 0.9722\n",
      "Epoch 53/100\n",
      "45/45 [==============================] - 0s 1ms/step - loss: 1.2594e-05 - accuracy: 1.0000 - val_loss: 0.1832 - val_accuracy: 0.9750\n",
      "Epoch 54/100\n",
      "45/45 [==============================] - 0s 1ms/step - loss: 1.1934e-05 - accuracy: 1.0000 - val_loss: 0.1824 - val_accuracy: 0.9750\n",
      "Epoch 55/100\n",
      "45/45 [==============================] - 0s 1ms/step - loss: 1.1410e-05 - accuracy: 1.0000 - val_loss: 0.1828 - val_accuracy: 0.9750\n",
      "Epoch 56/100\n",
      "45/45 [==============================] - 0s 1ms/step - loss: 1.0845e-05 - accuracy: 1.0000 - val_loss: 0.1816 - val_accuracy: 0.9750\n",
      "Epoch 57/100\n",
      "45/45 [==============================] - 0s 1ms/step - loss: 1.0374e-05 - accuracy: 1.0000 - val_loss: 0.1831 - val_accuracy: 0.9750\n",
      "Epoch 58/100\n",
      "45/45 [==============================] - 0s 1ms/step - loss: 9.9144e-06 - accuracy: 1.0000 - val_loss: 0.1839 - val_accuracy: 0.9750\n",
      "Epoch 59/100\n",
      "45/45 [==============================] - 0s 1ms/step - loss: 9.4829e-06 - accuracy: 1.0000 - val_loss: 0.1835 - val_accuracy: 0.9750\n",
      "Epoch 60/100\n",
      "45/45 [==============================] - 0s 1ms/step - loss: 9.0522e-06 - accuracy: 1.0000 - val_loss: 0.1835 - val_accuracy: 0.9750\n",
      "Epoch 61/100\n",
      "45/45 [==============================] - 0s 1ms/step - loss: 8.6874e-06 - accuracy: 1.0000 - val_loss: 0.1852 - val_accuracy: 0.9778\n",
      "Epoch 62/100\n",
      "45/45 [==============================] - 0s 1ms/step - loss: 8.3030e-06 - accuracy: 1.0000 - val_loss: 0.1828 - val_accuracy: 0.9778\n",
      "Epoch 63/100\n",
      "45/45 [==============================] - 0s 1ms/step - loss: 7.9903e-06 - accuracy: 1.0000 - val_loss: 0.1831 - val_accuracy: 0.9778\n",
      "Epoch 64/100\n",
      "45/45 [==============================] - 0s 1ms/step - loss: 7.6679e-06 - accuracy: 1.0000 - val_loss: 0.1853 - val_accuracy: 0.9778\n",
      "Epoch 65/100\n",
      "45/45 [==============================] - 0s 1ms/step - loss: 7.3529e-06 - accuracy: 1.0000 - val_loss: 0.1770 - val_accuracy: 0.9778\n",
      "Epoch 66/100\n",
      "45/45 [==============================] - 0s 1ms/step - loss: 7.0880e-06 - accuracy: 1.0000 - val_loss: 0.1780 - val_accuracy: 0.9778\n",
      "Epoch 67/100\n",
      "45/45 [==============================] - 0s 1ms/step - loss: 6.7892e-06 - accuracy: 1.0000 - val_loss: 0.1802 - val_accuracy: 0.9778\n",
      "Epoch 68/100\n",
      "45/45 [==============================] - 0s 974us/step - loss: 6.5349e-06 - accuracy: 1.0000 - val_loss: 0.1821 - val_accuracy: 0.9778\n",
      "Epoch 69/100\n",
      "45/45 [==============================] - 0s 1ms/step - loss: 6.2746e-06 - accuracy: 1.0000 - val_loss: 0.1832 - val_accuracy: 0.9778\n",
      "Epoch 70/100\n",
      "45/45 [==============================] - 0s 1ms/step - loss: 6.0338e-06 - accuracy: 1.0000 - val_loss: 0.1845 - val_accuracy: 0.9778\n",
      "Epoch 71/100\n",
      "45/45 [==============================] - 0s 1ms/step - loss: 5.8250e-06 - accuracy: 1.0000 - val_loss: 0.1843 - val_accuracy: 0.9778\n",
      "Epoch 72/100\n",
      "45/45 [==============================] - 0s 1ms/step - loss: 5.6172e-06 - accuracy: 1.0000 - val_loss: 0.1843 - val_accuracy: 0.9778\n",
      "Epoch 73/100\n",
      "45/45 [==============================] - 0s 1ms/step - loss: 5.4035e-06 - accuracy: 1.0000 - val_loss: 0.1850 - val_accuracy: 0.9778\n",
      "Epoch 74/100\n",
      "45/45 [==============================] - 0s 1ms/step - loss: 5.2175e-06 - accuracy: 1.0000 - val_loss: 0.1855 - val_accuracy: 0.9778\n",
      "Epoch 75/100\n",
      "45/45 [==============================] - 0s 1ms/step - loss: 5.0368e-06 - accuracy: 1.0000 - val_loss: 0.1858 - val_accuracy: 0.9778\n",
      "Epoch 76/100\n",
      "45/45 [==============================] - 0s 1ms/step - loss: 4.8599e-06 - accuracy: 1.0000 - val_loss: 0.1860 - val_accuracy: 0.9778\n",
      "Epoch 77/100\n",
      "45/45 [==============================] - 0s 1ms/step - loss: 4.6935e-06 - accuracy: 1.0000 - val_loss: 0.1875 - val_accuracy: 0.9778\n",
      "Epoch 78/100\n",
      "45/45 [==============================] - 0s 1ms/step - loss: 4.5283e-06 - accuracy: 1.0000 - val_loss: 0.1872 - val_accuracy: 0.9778\n",
      "Epoch 79/100\n",
      "45/45 [==============================] - 0s 992us/step - loss: 4.3687e-06 - accuracy: 1.0000 - val_loss: 0.1878 - val_accuracy: 0.9806\n",
      "Epoch 80/100\n",
      "45/45 [==============================] - 0s 1ms/step - loss: 4.2191e-06 - accuracy: 1.0000 - val_loss: 0.1891 - val_accuracy: 0.9806\n",
      "Epoch 81/100\n",
      "45/45 [==============================] - 0s 1ms/step - loss: 4.0785e-06 - accuracy: 1.0000 - val_loss: 0.1883 - val_accuracy: 0.9806\n",
      "Epoch 82/100\n",
      "45/45 [==============================] - 0s 1ms/step - loss: 3.9508e-06 - accuracy: 1.0000 - val_loss: 0.1880 - val_accuracy: 0.9806\n",
      "Epoch 83/100\n",
      "45/45 [==============================] - 0s 1ms/step - loss: 3.8080e-06 - accuracy: 1.0000 - val_loss: 0.1889 - val_accuracy: 0.9806\n",
      "Epoch 84/100\n",
      "45/45 [==============================] - 0s 1ms/step - loss: 3.6880e-06 - accuracy: 1.0000 - val_loss: 0.1889 - val_accuracy: 0.9806\n",
      "Epoch 85/100\n",
      "45/45 [==============================] - 0s 1ms/step - loss: 3.5636e-06 - accuracy: 1.0000 - val_loss: 0.1898 - val_accuracy: 0.9806\n",
      "Epoch 86/100\n",
      "45/45 [==============================] - 0s 1ms/step - loss: 3.4525e-06 - accuracy: 1.0000 - val_loss: 0.1900 - val_accuracy: 0.9806\n",
      "Epoch 87/100\n",
      "45/45 [==============================] - 0s 1ms/step - loss: 3.3372e-06 - accuracy: 1.0000 - val_loss: 0.1897 - val_accuracy: 0.9806\n",
      "Epoch 88/100\n",
      "45/45 [==============================] - 0s 1ms/step - loss: 3.2298e-06 - accuracy: 1.0000 - val_loss: 0.1901 - val_accuracy: 0.9806\n",
      "Epoch 89/100\n",
      "45/45 [==============================] - 0s 1ms/step - loss: 3.1345e-06 - accuracy: 1.0000 - val_loss: 0.1911 - val_accuracy: 0.9806\n",
      "Epoch 90/100\n",
      "45/45 [==============================] - 0s 1ms/step - loss: 3.0342e-06 - accuracy: 1.0000 - val_loss: 0.1919 - val_accuracy: 0.9806\n",
      "Epoch 91/100\n",
      "45/45 [==============================] - 0s 946us/step - loss: 2.9308e-06 - accuracy: 1.0000 - val_loss: 0.1906 - val_accuracy: 0.9806\n",
      "Epoch 92/100\n",
      "45/45 [==============================] - 0s 961us/step - loss: 2.8472e-06 - accuracy: 1.0000 - val_loss: 0.1909 - val_accuracy: 0.9806\n",
      "Epoch 93/100\n",
      "45/45 [==============================] - 0s 1ms/step - loss: 2.7493e-06 - accuracy: 1.0000 - val_loss: 0.1919 - val_accuracy: 0.9806\n",
      "Epoch 94/100\n",
      "45/45 [==============================] - 0s 1ms/step - loss: 2.6692e-06 - accuracy: 1.0000 - val_loss: 0.1928 - val_accuracy: 0.9806\n",
      "Epoch 95/100\n",
      "45/45 [==============================] - 0s 1ms/step - loss: 2.5835e-06 - accuracy: 1.0000 - val_loss: 0.1930 - val_accuracy: 0.9806\n",
      "Epoch 96/100\n",
      "45/45 [==============================] - 0s 1ms/step - loss: 2.5023e-06 - accuracy: 1.0000 - val_loss: 0.1935 - val_accuracy: 0.9806\n",
      "Epoch 97/100\n",
      "45/45 [==============================] - 0s 1ms/step - loss: 2.4304e-06 - accuracy: 1.0000 - val_loss: 0.1941 - val_accuracy: 0.9806\n",
      "Epoch 98/100\n",
      "45/45 [==============================] - 0s 1ms/step - loss: 2.3567e-06 - accuracy: 1.0000 - val_loss: 0.1952 - val_accuracy: 0.9806\n",
      "Epoch 99/100\n",
      "45/45 [==============================] - 0s 1ms/step - loss: 2.2895e-06 - accuracy: 1.0000 - val_loss: 0.1951 - val_accuracy: 0.9806\n",
      "Epoch 100/100\n",
      "45/45 [==============================] - 0s 1ms/step - loss: 2.2273e-06 - accuracy: 1.0000 - val_loss: 0.1866 - val_accuracy: 0.9806\n",
      "12/12 [==============================] - 0s 644us/step\n"
     ]
    }
   ],
   "source": [
    "#fitting the model and predicting \n",
    "\n",
    "# fit network\n",
    "model_history=model.fit(x=X_train, y=y_train, epochs=100, batch_size=32,validation_data= (X_test,y_test))\n",
    "y_pred = model.predict(X_test)\n",
    "\n",
    "y_test_class = np.argmax(y_test,axis=1)\n",
    "y_pred_class = np.argmax(y_pred,axis=1)"
   ]
  },
  {
   "cell_type": "code",
   "execution_count": 33,
   "id": "2417389b",
   "metadata": {},
   "outputs": [
    {
     "data": {
      "image/png": "[encoded data removed]",
      "text/plain": [
       "<Figure size 432x288 with 1 Axes>"
      ]
     },
     "metadata": {
      "needs_background": "light"
     },
     "output_type": "display_data"
    }
   ],
   "source": [
    "import matplotlib.pyplot as plt\n",
    "import seaborn as sns\n",
    "\n",
    "loss =model_history.history['loss']\n",
    "val_loss =model_history.history['val_loss']\n",
    "epochs = range(1, len(loss) + 1)\n",
    "plt.plot(epochs, loss, 'y', label='Training loss')\n",
    "plt.plot(epochs, val_loss, 'r', label='Validation loss')\n",
    "plt.title('Training and validation loss')\n",
    "plt.xlabel('Epochs')\n",
    "plt.ylabel('Loss')\n",
    "plt.legend()\n",
    "plt.show()"
   ]
  },
  {
   "cell_type": "code",
   "execution_count": 34,
   "id": "b635e67c",
   "metadata": {},
   "outputs": [
    {
     "data": {
      "image/png": "[encoded data removed]",
      "text/plain": [
       "<Figure size 432x288 with 1 Axes>"
      ]
     },
     "metadata": {
      "needs_background": "light"
     },
     "output_type": "display_data"
    }
   ],
   "source": [
    "acc =model_history.history['accuracy']\n",
    "val_acc =model_history.history['val_accuracy']\n",
    "plt.plot(epochs, acc, 'y', label='Training acc')\n",
    "plt.plot(epochs, val_acc, 'r', label='Validation acc')\n",
    "plt.title('Training and validation accuracy')\n",
    "plt.xlabel('Epochs')\n",
    "plt.ylabel('Accuracy')\n",
    "plt.legend()\n",
    "plt.show()"
   ]
  },
  {
   "cell_type": "code",
   "execution_count": 35,
   "id": "01e2c36a",
   "metadata": {},
   "outputs": [
    {
     "name": "stdout",
     "output_type": "stream",
     "text": [
      "              precision    recall  f1-score   support\n",
      "\n",
      "           0       1.00      1.00      1.00        27\n",
      "           1       0.89      0.97      0.93        35\n",
      "           2       1.00      1.00      1.00        36\n",
      "           3       1.00      1.00      1.00        29\n",
      "           4       1.00      1.00      1.00        30\n",
      "           5       1.00      0.97      0.99        40\n",
      "           6       0.98      0.98      0.98        44\n",
      "           7       1.00      0.95      0.97        39\n",
      "           8       0.97      0.95      0.96        39\n",
      "           9       0.98      1.00      0.99        41\n",
      "\n",
      "    accuracy                           0.98       360\n",
      "   macro avg       0.98      0.98      0.98       360\n",
      "weighted avg       0.98      0.98      0.98       360\n",
      "\n",
      "[[27  0  0  0  0  0  0  0  0  0]\n",
      " [ 0 34  0  0  0  0  0  0  1  0]\n",
      " [ 0  0 36  0  0  0  0  0  0  0]\n",
      " [ 0  0  0 29  0  0  0  0  0  0]\n",
      " [ 0  0  0  0 30  0  0  0  0  0]\n",
      " [ 0  0  0  0  0 39  0  0  0  1]\n",
      " [ 0  1  0  0  0  0 43  0  0  0]\n",
      " [ 0  2  0  0  0  0  0 37  0  0]\n",
      " [ 0  1  0  0  0  0  1  0 37  0]\n",
      " [ 0  0  0  0  0  0  0  0  0 41]]\n"
     ]
    }
   ],
   "source": [
    "#Accuracy of the predicted values\n",
    "from sklearn.metrics import classification_report,confusion_matrix\n",
    "print(classification_report(y_test_class,y_pred_class))\n",
    "print(confusion_matrix(y_test_class,y_pred_class))"
   ]
  },
  {
   "cell_type": "code",
   "execution_count": null,
   "id": "fd5a2210",
   "metadata": {},
   "outputs": [],
   "source": []
  }
 ],
 "metadata": {
  "kernelspec": {
   "display_name": "Python 3 (ipykernel)",
   "language": "python",
   "name": "python3"
  },
  "language_info": {
   "codemirror_mode": {
    "name": "ipython",
    "version": 3
   },
   "file_extension": ".py",
   "mimetype": "text/x-python",
   "name": "python",
   "nbconvert_exporter": "python",
   "pygments_lexer": "ipython3",
   "version": "3.9.12"
  }
 },
 "nbformat": 4,
 "nbformat_minor": 5
}
