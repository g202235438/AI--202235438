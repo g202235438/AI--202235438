{
 "cells": [
  {
   "cell_type": "code",
   "execution_count": 166,
   "id": "6f901bb8",
   "metadata": {},
   "outputs": [],
   "source": [
    "import numpy as np\n",
    "import pandas as pd\n",
    "import matplotlib.pyplot as plt\n",
    "import seaborn as sns"
   ]
  },
  {
   "cell_type": "code",
   "execution_count": 167,
   "id": "0b93fba0",
   "metadata": {},
   "outputs": [],
   "source": [
    "data = pd.read_csv('C:/Users/ADMIN/Desktop/인공지능/501.csv')"
   ]
  },
  {
   "cell_type": "code",
   "execution_count": 168,
   "id": "5b53adfe",
   "metadata": {},
   "outputs": [
    {
     "data": {
      "text/html": [
       "<div>\n",
       "<style scoped>\n",
       "    .dataframe tbody tr th:only-of-type {\n",
       "        vertical-align: middle;\n",
       "    }\n",
       "\n",
       "    .dataframe tbody tr th {\n",
       "        vertical-align: top;\n",
       "    }\n",
       "\n",
       "    .dataframe thead th {\n",
       "        text-align: right;\n",
       "    }\n",
       "</style>\n",
       "<table border=\"1\" class=\"dataframe\">\n",
       "  <thead>\n",
       "    <tr style=\"text-align: right;\">\n",
       "      <th></th>\n",
       "      <th>timestamp</th>\n",
       "      <th>back_x</th>\n",
       "      <th>back_y</th>\n",
       "      <th>back_z</th>\n",
       "      <th>thigh_x</th>\n",
       "      <th>thigh_y</th>\n",
       "      <th>thigh_z</th>\n",
       "      <th>label</th>\n",
       "    </tr>\n",
       "  </thead>\n",
       "  <tbody>\n",
       "    <tr>\n",
       "      <th>0</th>\n",
       "      <td>42:03.8</td>\n",
       "      <td>-0.999023</td>\n",
       "      <td>-0.063477</td>\n",
       "      <td>0.140625</td>\n",
       "      <td>-0.980469</td>\n",
       "      <td>-0.112061</td>\n",
       "      <td>-0.048096</td>\n",
       "      <td>6</td>\n",
       "    </tr>\n",
       "    <tr>\n",
       "      <th>1</th>\n",
       "      <td>42:03.9</td>\n",
       "      <td>-0.980225</td>\n",
       "      <td>-0.079346</td>\n",
       "      <td>0.140625</td>\n",
       "      <td>-0.961182</td>\n",
       "      <td>-0.121582</td>\n",
       "      <td>-0.051758</td>\n",
       "      <td>6</td>\n",
       "    </tr>\n",
       "    <tr>\n",
       "      <th>2</th>\n",
       "      <td>42:03.9</td>\n",
       "      <td>-0.950195</td>\n",
       "      <td>-0.076416</td>\n",
       "      <td>0.140625</td>\n",
       "      <td>-0.949463</td>\n",
       "      <td>-0.080566</td>\n",
       "      <td>-0.067139</td>\n",
       "      <td>6</td>\n",
       "    </tr>\n",
       "    <tr>\n",
       "      <th>3</th>\n",
       "      <td>42:03.9</td>\n",
       "      <td>-0.954834</td>\n",
       "      <td>-0.059082</td>\n",
       "      <td>0.140381</td>\n",
       "      <td>-0.957520</td>\n",
       "      <td>-0.046143</td>\n",
       "      <td>-0.050781</td>\n",
       "      <td>6</td>\n",
       "    </tr>\n",
       "    <tr>\n",
       "      <th>4</th>\n",
       "      <td>42:03.9</td>\n",
       "      <td>-0.972412</td>\n",
       "      <td>-0.042969</td>\n",
       "      <td>0.142822</td>\n",
       "      <td>-0.977051</td>\n",
       "      <td>-0.023682</td>\n",
       "      <td>-0.026611</td>\n",
       "      <td>6</td>\n",
       "    </tr>\n",
       "    <tr>\n",
       "      <th>...</th>\n",
       "      <td>...</td>\n",
       "      <td>...</td>\n",
       "      <td>...</td>\n",
       "      <td>...</td>\n",
       "      <td>...</td>\n",
       "      <td>...</td>\n",
       "      <td>...</td>\n",
       "      <td>...</td>\n",
       "    </tr>\n",
       "    <tr>\n",
       "      <th>103855</th>\n",
       "      <td>17:06.0</td>\n",
       "      <td>-0.760010</td>\n",
       "      <td>-0.068848</td>\n",
       "      <td>-0.203125</td>\n",
       "      <td>-0.796875</td>\n",
       "      <td>-0.007812</td>\n",
       "      <td>-0.036865</td>\n",
       "      <td>6</td>\n",
       "    </tr>\n",
       "    <tr>\n",
       "      <th>103856</th>\n",
       "      <td>17:06.0</td>\n",
       "      <td>-0.736328</td>\n",
       "      <td>-0.068115</td>\n",
       "      <td>-0.203125</td>\n",
       "      <td>-0.769287</td>\n",
       "      <td>0.037354</td>\n",
       "      <td>-0.056641</td>\n",
       "      <td>6</td>\n",
       "    </tr>\n",
       "    <tr>\n",
       "      <th>103857</th>\n",
       "      <td>17:06.0</td>\n",
       "      <td>-0.736328</td>\n",
       "      <td>-0.079834</td>\n",
       "      <td>-0.203125</td>\n",
       "      <td>-0.763672</td>\n",
       "      <td>0.052490</td>\n",
       "      <td>-0.027588</td>\n",
       "      <td>6</td>\n",
       "    </tr>\n",
       "    <tr>\n",
       "      <th>103858</th>\n",
       "      <td>17:06.0</td>\n",
       "      <td>-0.762207</td>\n",
       "      <td>-0.078125</td>\n",
       "      <td>-0.205078</td>\n",
       "      <td>-0.763428</td>\n",
       "      <td>0.042236</td>\n",
       "      <td>0.022705</td>\n",
       "      <td>6</td>\n",
       "    </tr>\n",
       "    <tr>\n",
       "      <th>103859</th>\n",
       "      <td>17:06.1</td>\n",
       "      <td>-0.799805</td>\n",
       "      <td>-0.078125</td>\n",
       "      <td>-0.196533</td>\n",
       "      <td>-0.770264</td>\n",
       "      <td>0.013428</td>\n",
       "      <td>0.081543</td>\n",
       "      <td>6</td>\n",
       "    </tr>\n",
       "  </tbody>\n",
       "</table>\n",
       "<p>103860 rows × 8 columns</p>\n",
       "</div>"
      ],
      "text/plain": [
       "       timestamp    back_x    back_y    back_z   thigh_x   thigh_y   thigh_z  \\\n",
       "0        42:03.8 -0.999023 -0.063477  0.140625 -0.980469 -0.112061 -0.048096   \n",
       "1        42:03.9 -0.980225 -0.079346  0.140625 -0.961182 -0.121582 -0.051758   \n",
       "2        42:03.9 -0.950195 -0.076416  0.140625 -0.949463 -0.080566 -0.067139   \n",
       "3        42:03.9 -0.954834 -0.059082  0.140381 -0.957520 -0.046143 -0.050781   \n",
       "4        42:03.9 -0.972412 -0.042969  0.142822 -0.977051 -0.023682 -0.026611   \n",
       "...          ...       ...       ...       ...       ...       ...       ...   \n",
       "103855   17:06.0 -0.760010 -0.068848 -0.203125 -0.796875 -0.007812 -0.036865   \n",
       "103856   17:06.0 -0.736328 -0.068115 -0.203125 -0.769287  0.037354 -0.056641   \n",
       "103857   17:06.0 -0.736328 -0.079834 -0.203125 -0.763672  0.052490 -0.027588   \n",
       "103858   17:06.0 -0.762207 -0.078125 -0.205078 -0.763428  0.042236  0.022705   \n",
       "103859   17:06.1 -0.799805 -0.078125 -0.196533 -0.770264  0.013428  0.081543   \n",
       "\n",
       "        label  \n",
       "0           6  \n",
       "1           6  \n",
       "2           6  \n",
       "3           6  \n",
       "4           6  \n",
       "...       ...  \n",
       "103855      6  \n",
       "103856      6  \n",
       "103857      6  \n",
       "103858      6  \n",
       "103859      6  \n",
       "\n",
       "[103860 rows x 8 columns]"
      ]
     },
     "execution_count": 168,
     "metadata": {},
     "output_type": "execute_result"
    }
   ],
   "source": [
    "data"
   ]
  },
  {
   "cell_type": "code",
   "execution_count": 169,
   "id": "5e382fb5",
   "metadata": {},
   "outputs": [
    {
     "data": {
      "text/plain": [
       "timestamp    0\n",
       "back_x       0\n",
       "back_y       0\n",
       "back_z       0\n",
       "thigh_x      0\n",
       "thigh_y      0\n",
       "thigh_z      0\n",
       "label        0\n",
       "dtype: int64"
      ]
     },
     "execution_count": 169,
     "metadata": {},
     "output_type": "execute_result"
    }
   ],
   "source": [
    "data.isna().sum()"
   ]
  },
  {
   "cell_type": "code",
   "execution_count": 170,
   "id": "c13d92dc",
   "metadata": {},
   "outputs": [],
   "source": [
    "data= data.dropna()"
   ]
  },
  {
   "cell_type": "code",
   "execution_count": 171,
   "id": "ec7e3e3f",
   "metadata": {},
   "outputs": [
    {
     "data": {
      "text/plain": [
       "timestamp    0\n",
       "back_x       0\n",
       "back_y       0\n",
       "back_z       0\n",
       "thigh_x      0\n",
       "thigh_y      0\n",
       "thigh_z      0\n",
       "label        0\n",
       "dtype: int64"
      ]
     },
     "execution_count": 171,
     "metadata": {},
     "output_type": "execute_result"
    }
   ],
   "source": [
    "data.isna().sum()"
   ]
  },
  {
   "cell_type": "code",
   "execution_count": 172,
   "id": "e8a700fa",
   "metadata": {},
   "outputs": [
    {
     "data": {
      "text/plain": [
       "1    62872\n",
       "7    14562\n",
       "6    14376\n",
       "8     9578\n",
       "3     1876\n",
       "5      504\n",
       "4       92\n",
       "Name: label, dtype: int64"
      ]
     },
     "execution_count": 172,
     "metadata": {},
     "output_type": "execute_result"
    }
   ],
   "source": [
    "data['label'].value_counts()"
   ]
  },
  {
   "cell_type": "code",
   "execution_count": 173,
   "id": "9ecc9c00",
   "metadata": {},
   "outputs": [
    {
     "data": {
      "text/plain": [
       "Text(0.5, 1.0, 'label')"
      ]
     },
     "execution_count": 173,
     "metadata": {},
     "output_type": "execute_result"
    },
    {
     "data": {
      "image/png": "[encoded data removed]",
      "text/plain": [
       "<Figure size 432x288 with 1 Axes>"
      ]
     },
     "metadata": {
      "needs_background": "light"
     },
     "output_type": "display_data"
    }
   ],
   "source": [
    "sns.countplot(data = data, x=\"label\")\n",
    "plt.xlabel(\"label\")\n",
    "plt.ylabel(\"Count\")\n",
    "plt.title(\"label\")"
   ]
  },
  {
   "cell_type": "code",
   "execution_count": 174,
   "id": "7e05fd85",
   "metadata": {},
   "outputs": [],
   "source": [
    "data=data.sample(frac=0.05)"
   ]
  },
  {
   "cell_type": "code",
   "execution_count": 175,
   "id": "d9ae1428",
   "metadata": {},
   "outputs": [
    {
     "data": {
      "text/html": [
       "<div>\n",
       "<style scoped>\n",
       "    .dataframe tbody tr th:only-of-type {\n",
       "        vertical-align: middle;\n",
       "    }\n",
       "\n",
       "    .dataframe tbody tr th {\n",
       "        vertical-align: top;\n",
       "    }\n",
       "\n",
       "    .dataframe thead th {\n",
       "        text-align: right;\n",
       "    }\n",
       "</style>\n",
       "<table border=\"1\" class=\"dataframe\">\n",
       "  <thead>\n",
       "    <tr style=\"text-align: right;\">\n",
       "      <th></th>\n",
       "      <th>timestamp</th>\n",
       "      <th>back_x</th>\n",
       "      <th>back_y</th>\n",
       "      <th>back_z</th>\n",
       "      <th>thigh_x</th>\n",
       "      <th>thigh_y</th>\n",
       "      <th>thigh_z</th>\n",
       "      <th>label</th>\n",
       "    </tr>\n",
       "  </thead>\n",
       "  <tbody>\n",
       "    <tr>\n",
       "      <th>86164</th>\n",
       "      <td>11:09.2</td>\n",
       "      <td>-0.960693</td>\n",
       "      <td>-0.230713</td>\n",
       "      <td>-0.536133</td>\n",
       "      <td>-1.359619</td>\n",
       "      <td>-0.233154</td>\n",
       "      <td>0.007080</td>\n",
       "      <td>1</td>\n",
       "    </tr>\n",
       "    <tr>\n",
       "      <th>29921</th>\n",
       "      <td>52:24.4</td>\n",
       "      <td>-0.976074</td>\n",
       "      <td>-0.111572</td>\n",
       "      <td>-0.350098</td>\n",
       "      <td>-0.883301</td>\n",
       "      <td>-0.268311</td>\n",
       "      <td>-0.150391</td>\n",
       "      <td>1</td>\n",
       "    </tr>\n",
       "    <tr>\n",
       "      <th>16483</th>\n",
       "      <td>47:36.7</td>\n",
       "      <td>-0.932373</td>\n",
       "      <td>-0.026855</td>\n",
       "      <td>-0.359375</td>\n",
       "      <td>-0.972412</td>\n",
       "      <td>-0.149414</td>\n",
       "      <td>-0.187500</td>\n",
       "      <td>1</td>\n",
       "    </tr>\n",
       "    <tr>\n",
       "      <th>78603</th>\n",
       "      <td>08:38.0</td>\n",
       "      <td>-0.776611</td>\n",
       "      <td>-0.139893</td>\n",
       "      <td>-0.194092</td>\n",
       "      <td>-0.346191</td>\n",
       "      <td>0.040771</td>\n",
       "      <td>-0.185303</td>\n",
       "      <td>1</td>\n",
       "    </tr>\n",
       "    <tr>\n",
       "      <th>72777</th>\n",
       "      <td>06:41.5</td>\n",
       "      <td>-1.149658</td>\n",
       "      <td>-0.039307</td>\n",
       "      <td>-0.280518</td>\n",
       "      <td>-0.770508</td>\n",
       "      <td>-0.536133</td>\n",
       "      <td>-0.209961</td>\n",
       "      <td>1</td>\n",
       "    </tr>\n",
       "    <tr>\n",
       "      <th>...</th>\n",
       "      <td>...</td>\n",
       "      <td>...</td>\n",
       "      <td>...</td>\n",
       "      <td>...</td>\n",
       "      <td>...</td>\n",
       "      <td>...</td>\n",
       "      <td>...</td>\n",
       "      <td>...</td>\n",
       "    </tr>\n",
       "    <tr>\n",
       "      <th>51004</th>\n",
       "      <td>59:26.0</td>\n",
       "      <td>-1.360107</td>\n",
       "      <td>-0.339355</td>\n",
       "      <td>-0.507080</td>\n",
       "      <td>-0.353760</td>\n",
       "      <td>-0.272217</td>\n",
       "      <td>0.740479</td>\n",
       "      <td>1</td>\n",
       "    </tr>\n",
       "    <tr>\n",
       "      <th>3088</th>\n",
       "      <td>43:05.6</td>\n",
       "      <td>-0.687500</td>\n",
       "      <td>0.060547</td>\n",
       "      <td>-0.783936</td>\n",
       "      <td>-0.955811</td>\n",
       "      <td>-0.061523</td>\n",
       "      <td>-0.301025</td>\n",
       "      <td>6</td>\n",
       "    </tr>\n",
       "    <tr>\n",
       "      <th>82071</th>\n",
       "      <td>09:47.4</td>\n",
       "      <td>-1.221191</td>\n",
       "      <td>-0.222656</td>\n",
       "      <td>-0.420898</td>\n",
       "      <td>-1.809326</td>\n",
       "      <td>0.000488</td>\n",
       "      <td>0.356689</td>\n",
       "      <td>1</td>\n",
       "    </tr>\n",
       "    <tr>\n",
       "      <th>1101</th>\n",
       "      <td>42:25.9</td>\n",
       "      <td>-0.906738</td>\n",
       "      <td>-0.031250</td>\n",
       "      <td>0.359863</td>\n",
       "      <td>-0.953125</td>\n",
       "      <td>-0.010010</td>\n",
       "      <td>0.115479</td>\n",
       "      <td>6</td>\n",
       "    </tr>\n",
       "    <tr>\n",
       "      <th>19289</th>\n",
       "      <td>48:36.0</td>\n",
       "      <td>-0.139160</td>\n",
       "      <td>-0.015625</td>\n",
       "      <td>0.906250</td>\n",
       "      <td>-0.129883</td>\n",
       "      <td>-0.136230</td>\n",
       "      <td>-1.078125</td>\n",
       "      <td>8</td>\n",
       "    </tr>\n",
       "  </tbody>\n",
       "</table>\n",
       "<p>5193 rows × 8 columns</p>\n",
       "</div>"
      ],
      "text/plain": [
       "      timestamp    back_x    back_y    back_z   thigh_x   thigh_y   thigh_z  \\\n",
       "86164   11:09.2 -0.960693 -0.230713 -0.536133 -1.359619 -0.233154  0.007080   \n",
       "29921   52:24.4 -0.976074 -0.111572 -0.350098 -0.883301 -0.268311 -0.150391   \n",
       "16483   47:36.7 -0.932373 -0.026855 -0.359375 -0.972412 -0.149414 -0.187500   \n",
       "78603   08:38.0 -0.776611 -0.139893 -0.194092 -0.346191  0.040771 -0.185303   \n",
       "72777   06:41.5 -1.149658 -0.039307 -0.280518 -0.770508 -0.536133 -0.209961   \n",
       "...         ...       ...       ...       ...       ...       ...       ...   \n",
       "51004   59:26.0 -1.360107 -0.339355 -0.507080 -0.353760 -0.272217  0.740479   \n",
       "3088    43:05.6 -0.687500  0.060547 -0.783936 -0.955811 -0.061523 -0.301025   \n",
       "82071   09:47.4 -1.221191 -0.222656 -0.420898 -1.809326  0.000488  0.356689   \n",
       "1101    42:25.9 -0.906738 -0.031250  0.359863 -0.953125 -0.010010  0.115479   \n",
       "19289   48:36.0 -0.139160 -0.015625  0.906250 -0.129883 -0.136230 -1.078125   \n",
       "\n",
       "       label  \n",
       "86164      1  \n",
       "29921      1  \n",
       "16483      1  \n",
       "78603      1  \n",
       "72777      1  \n",
       "...      ...  \n",
       "51004      1  \n",
       "3088       6  \n",
       "82071      1  \n",
       "1101       6  \n",
       "19289      8  \n",
       "\n",
       "[5193 rows x 8 columns]"
      ]
     },
     "execution_count": 175,
     "metadata": {},
     "output_type": "execute_result"
    }
   ],
   "source": [
    "data"
   ]
  },
  {
   "cell_type": "code",
   "execution_count": 186,
   "id": "b66b3b32",
   "metadata": {},
   "outputs": [],
   "source": [
    "#Splitting the data into training and test test\n",
    "X = data.iloc[:,1:7].values\n",
    "y = data.iloc[:,7].values\n",
    "\n",
    "from sklearn.preprocessing import LabelEncoder\n",
    "encoder =  LabelEncoder()\n",
    "y1 = encoder.fit_transform(y)\n",
    "Y = pd.get_dummies(y1).values\n"
   ]
  },
  {
   "cell_type": "code",
   "execution_count": 189,
   "id": "525c3d10",
   "metadata": {},
   "outputs": [],
   "source": [
    "from sklearn.model_selection import train_test_split\n",
    "X_train,X_test, y_train,y_test = train_test_split(X,Y,test_size=0.2,random_state=0) "
   ]
  },
  {
   "cell_type": "code",
   "execution_count": 190,
   "id": "0f1ab0a7",
   "metadata": {},
   "outputs": [
    {
     "data": {
      "text/plain": [
       "array([[-9.606930e-01, -2.307130e-01, -5.361330e-01, -1.359619e+00,\n",
       "        -2.331540e-01,  7.080000e-03],\n",
       "       [-9.760740e-01, -1.115720e-01, -3.500980e-01, -8.833010e-01,\n",
       "        -2.683110e-01, -1.503910e-01],\n",
       "       [-9.323730e-01, -2.685500e-02, -3.593750e-01, -9.724120e-01,\n",
       "        -1.494140e-01, -1.875000e-01],\n",
       "       ...,\n",
       "       [-1.221191e+00, -2.226560e-01, -4.208980e-01, -1.809326e+00,\n",
       "         4.880000e-04,  3.566890e-01],\n",
       "       [-9.067380e-01, -3.125000e-02,  3.598630e-01, -9.531250e-01,\n",
       "        -1.001000e-02,  1.154790e-01],\n",
       "       [-1.391600e-01, -1.562500e-02,  9.062500e-01, -1.298830e-01,\n",
       "        -1.362300e-01, -1.078125e+00]])"
      ]
     },
     "execution_count": 190,
     "metadata": {},
     "output_type": "execute_result"
    }
   ],
   "source": [
    "X"
   ]
  },
  {
   "cell_type": "code",
   "execution_count": 191,
   "id": "8317c47b",
   "metadata": {},
   "outputs": [
    {
     "data": {
      "text/plain": [
       "(5193, 6)"
      ]
     },
     "execution_count": 191,
     "metadata": {},
     "output_type": "execute_result"
    }
   ],
   "source": [
    "X.shape"
   ]
  },
  {
   "cell_type": "code",
   "execution_count": 192,
   "id": "c612cae8",
   "metadata": {},
   "outputs": [
    {
     "data": {
      "text/plain": [
       "array([[1, 0, 0, ..., 0, 0, 0],\n",
       "       [1, 0, 0, ..., 0, 0, 0],\n",
       "       [1, 0, 0, ..., 0, 0, 0],\n",
       "       ...,\n",
       "       [1, 0, 0, ..., 0, 0, 0],\n",
       "       [0, 0, 0, ..., 1, 0, 0],\n",
       "       [0, 0, 0, ..., 0, 0, 1]], dtype=uint8)"
      ]
     },
     "execution_count": 192,
     "metadata": {},
     "output_type": "execute_result"
    }
   ],
   "source": [
    "Y"
   ]
  },
  {
   "cell_type": "code",
   "execution_count": 193,
   "id": "a3f3b614",
   "metadata": {},
   "outputs": [
    {
     "data": {
      "text/plain": [
       "(5193, 7)"
      ]
     },
     "execution_count": 193,
     "metadata": {},
     "output_type": "execute_result"
    }
   ],
   "source": [
    "Y.shape"
   ]
  },
  {
   "cell_type": "code",
   "execution_count": 197,
   "id": "3e0bcbc5",
   "metadata": {},
   "outputs": [
    {
     "name": "stdout",
     "output_type": "stream",
     "text": [
      "Model: \"sequential_14\"\n",
      "_________________________________________________________________\n",
      " Layer (type)                Output Shape              Param #   \n",
      "=================================================================\n",
      " dense_64 (Dense)            (None, 60)                420       \n",
      "                                                                 \n",
      " dense_65 (Dense)            (None, 60)                3660      \n",
      "                                                                 \n",
      " dense_66 (Dense)            (None, 40)                2440      \n",
      "                                                                 \n",
      " dense_67 (Dense)            (None, 40)                1640      \n",
      "                                                                 \n",
      " dense_68 (Dense)            (None, 7)                 287       \n",
      "                                                                 \n",
      "=================================================================\n",
      "Total params: 8,447\n",
      "Trainable params: 8,447\n",
      "Non-trainable params: 0\n",
      "_________________________________________________________________\n"
     ]
    }
   ],
   "source": [
    "#Defining the model \n",
    "\n",
    "from keras.models import Sequential\n",
    "from keras.layers import Dense\n",
    "from keras.optimizers import SGD,Adam\n",
    "\n",
    "\n",
    "model = Sequential()\n",
    "\n",
    "model.add(Dense(60,input_shape=(6,),activation='ReLU'))\n",
    "model.add(Dense(60,activation='ReLU'))\n",
    "model.add(Dense(40,activation='ReLU'))\n",
    "model.add(Dense(40,activation='ReLU'))\n",
    "model.add(Dense(7,activation='softmax'))\n",
    "\n",
    "model.compile(Adam(lr=0.04),'categorical_crossentropy',metrics=['accuracy'])\n",
    "\n",
    "model.summary()"
   ]
  },
  {
   "cell_type": "code",
   "execution_count": 198,
   "id": "c3186dd0",
   "metadata": {},
   "outputs": [
    {
     "name": "stdout",
     "output_type": "stream",
     "text": [
      "Epoch 1/100\n",
      "130/130 [==============================] - 1s 5ms/step - loss: 0.3845 - accuracy: 0.8893 - val_loss: 0.2605 - val_accuracy: 0.9307\n",
      "Epoch 2/100\n",
      "130/130 [==============================] - 0s 3ms/step - loss: 0.2830 - accuracy: 0.9278 - val_loss: 0.2291 - val_accuracy: 0.9403\n",
      "Epoch 3/100\n",
      "130/130 [==============================] - 0s 3ms/step - loss: 0.2680 - accuracy: 0.9348 - val_loss: 0.2107 - val_accuracy: 0.9461\n",
      "Epoch 4/100\n",
      "130/130 [==============================] - 0s 3ms/step - loss: 0.2088 - accuracy: 0.9444 - val_loss: 0.1987 - val_accuracy: 0.9490\n",
      "Epoch 5/100\n",
      "130/130 [==============================] - 0s 3ms/step - loss: 0.2134 - accuracy: 0.9429 - val_loss: 0.2145 - val_accuracy: 0.9384\n",
      "Epoch 6/100\n",
      "130/130 [==============================] - 0s 3ms/step - loss: 0.2023 - accuracy: 0.9468 - val_loss: 1.0998 - val_accuracy: 0.9047\n",
      "Epoch 7/100\n",
      "130/130 [==============================] - 0s 3ms/step - loss: 0.2922 - accuracy: 0.9413 - val_loss: 0.2009 - val_accuracy: 0.9480\n",
      "Epoch 8/100\n",
      "130/130 [==============================] - 0s 4ms/step - loss: 0.1994 - accuracy: 0.9482 - val_loss: 0.2125 - val_accuracy: 0.9413\n",
      "Epoch 9/100\n",
      "130/130 [==============================] - 0s 3ms/step - loss: 0.1874 - accuracy: 0.9480 - val_loss: 0.3166 - val_accuracy: 0.9028\n",
      "Epoch 10/100\n",
      "130/130 [==============================] - 0s 3ms/step - loss: 0.2049 - accuracy: 0.9429 - val_loss: 0.1969 - val_accuracy: 0.9461\n",
      "Epoch 11/100\n",
      "130/130 [==============================] - 0s 3ms/step - loss: 0.1885 - accuracy: 0.9497 - val_loss: 0.1902 - val_accuracy: 0.9519\n",
      "Epoch 12/100\n",
      "130/130 [==============================] - 0s 3ms/step - loss: 0.1963 - accuracy: 0.9482 - val_loss: 0.2309 - val_accuracy: 0.9365\n",
      "Epoch 13/100\n",
      "130/130 [==============================] - 0s 3ms/step - loss: 0.1901 - accuracy: 0.9458 - val_loss: 0.2078 - val_accuracy: 0.9394\n",
      "Epoch 14/100\n",
      "130/130 [==============================] - 0s 3ms/step - loss: 0.2845 - accuracy: 0.9364 - val_loss: 0.3680 - val_accuracy: 0.8662\n",
      "Epoch 15/100\n",
      "130/130 [==============================] - 0s 3ms/step - loss: 0.2203 - accuracy: 0.9456 - val_loss: 0.2183 - val_accuracy: 0.9403\n",
      "Epoch 16/100\n",
      "130/130 [==============================] - 0s 3ms/step - loss: 0.2413 - accuracy: 0.9439 - val_loss: 0.1979 - val_accuracy: 0.9480\n",
      "Epoch 17/100\n",
      "130/130 [==============================] - 0s 3ms/step - loss: 0.1970 - accuracy: 0.9494 - val_loss: 0.1778 - val_accuracy: 0.9567\n",
      "Epoch 18/100\n",
      "130/130 [==============================] - 0s 3ms/step - loss: 0.2612 - accuracy: 0.9413 - val_loss: 0.2204 - val_accuracy: 0.9480\n",
      "Epoch 19/100\n",
      "130/130 [==============================] - 0s 4ms/step - loss: 0.2281 - accuracy: 0.9429 - val_loss: 0.2080 - val_accuracy: 0.9480\n",
      "Epoch 20/100\n",
      "130/130 [==============================] - 0s 3ms/step - loss: 0.2160 - accuracy: 0.9468 - val_loss: 0.2123 - val_accuracy: 0.9500\n",
      "Epoch 21/100\n",
      "130/130 [==============================] - 0s 3ms/step - loss: 0.2031 - accuracy: 0.9461 - val_loss: 0.2301 - val_accuracy: 0.9374\n",
      "Epoch 22/100\n",
      "130/130 [==============================] - 0s 2ms/step - loss: 0.2081 - accuracy: 0.9478 - val_loss: 0.2173 - val_accuracy: 0.9442\n",
      "Epoch 23/100\n",
      "130/130 [==============================] - 0s 3ms/step - loss: 0.2000 - accuracy: 0.9497 - val_loss: 0.2082 - val_accuracy: 0.9500\n",
      "Epoch 24/100\n",
      "130/130 [==============================] - 0s 3ms/step - loss: 0.1920 - accuracy: 0.9487 - val_loss: 0.2043 - val_accuracy: 0.9471\n",
      "Epoch 25/100\n",
      "130/130 [==============================] - 0s 3ms/step - loss: 0.2232 - accuracy: 0.9485 - val_loss: 0.2210 - val_accuracy: 0.9432\n",
      "Epoch 26/100\n",
      "130/130 [==============================] - 0s 4ms/step - loss: 0.2101 - accuracy: 0.9463 - val_loss: 0.2431 - val_accuracy: 0.9278\n",
      "Epoch 27/100\n",
      "130/130 [==============================] - 0s 3ms/step - loss: 0.7599 - accuracy: 0.9097 - val_loss: 0.3702 - val_accuracy: 0.9018\n",
      "Epoch 28/100\n",
      "130/130 [==============================] - 0s 3ms/step - loss: 0.8533 - accuracy: 0.8115 - val_loss: 0.5108 - val_accuracy: 0.8114\n",
      "Epoch 29/100\n",
      "130/130 [==============================] - 0s 3ms/step - loss: 0.4144 - accuracy: 0.8662 - val_loss: 0.3703 - val_accuracy: 0.9086\n",
      "Epoch 30/100\n",
      "130/130 [==============================] - 0s 4ms/step - loss: 0.3289 - accuracy: 0.9117 - val_loss: 0.3407 - val_accuracy: 0.9066\n",
      "Epoch 31/100\n",
      "130/130 [==============================] - 0s 4ms/step - loss: 0.2871 - accuracy: 0.9232 - val_loss: 0.2867 - val_accuracy: 0.9192\n",
      "Epoch 32/100\n",
      "130/130 [==============================] - 0s 3ms/step - loss: 0.3386 - accuracy: 0.8914 - val_loss: 0.5391 - val_accuracy: 0.7661\n",
      "Epoch 33/100\n",
      "130/130 [==============================] - 0s 3ms/step - loss: 0.3960 - accuracy: 0.8606 - val_loss: 0.3197 - val_accuracy: 0.9066\n",
      "Epoch 34/100\n",
      "130/130 [==============================] - 0s 3ms/step - loss: 0.2682 - accuracy: 0.9230 - val_loss: 0.2708 - val_accuracy: 0.9249\n",
      "Epoch 35/100\n",
      "130/130 [==============================] - 0s 3ms/step - loss: 0.2656 - accuracy: 0.9220 - val_loss: 0.2665 - val_accuracy: 0.9211\n",
      "Epoch 36/100\n",
      "130/130 [==============================] - 0s 3ms/step - loss: 0.3244 - accuracy: 0.8999 - val_loss: 0.3273 - val_accuracy: 0.9038\n",
      "Epoch 37/100\n",
      "130/130 [==============================] - 0s 3ms/step - loss: 0.3161 - accuracy: 0.8929 - val_loss: 0.3051 - val_accuracy: 0.8989\n",
      "Epoch 38/100\n",
      "130/130 [==============================] - 0s 3ms/step - loss: 0.2604 - accuracy: 0.9271 - val_loss: 0.2728 - val_accuracy: 0.9230\n",
      "Epoch 39/100\n",
      "130/130 [==============================] - 0s 3ms/step - loss: 0.2651 - accuracy: 0.9196 - val_loss: 0.2528 - val_accuracy: 0.9269\n",
      "Epoch 40/100\n",
      "130/130 [==============================] - 0s 3ms/step - loss: 0.2552 - accuracy: 0.9254 - val_loss: 0.2676 - val_accuracy: 0.9336\n",
      "Epoch 41/100\n",
      "130/130 [==============================] - 0s 3ms/step - loss: 0.2473 - accuracy: 0.9285 - val_loss: 0.2489 - val_accuracy: 0.9336\n",
      "Epoch 42/100\n",
      "130/130 [==============================] - 0s 3ms/step - loss: 0.2385 - accuracy: 0.9331 - val_loss: 0.2545 - val_accuracy: 0.9317\n",
      "Epoch 43/100\n",
      "130/130 [==============================] - 0s 3ms/step - loss: 0.4438 - accuracy: 0.8731 - val_loss: 0.5029 - val_accuracy: 0.7892\n",
      "Epoch 44/100\n",
      "130/130 [==============================] - 0s 3ms/step - loss: 0.3655 - accuracy: 0.8635 - val_loss: 0.3072 - val_accuracy: 0.9076\n",
      "Epoch 45/100\n",
      "130/130 [==============================] - 0s 3ms/step - loss: 0.2746 - accuracy: 0.9201 - val_loss: 0.2580 - val_accuracy: 0.9336\n",
      "Epoch 46/100\n",
      "130/130 [==============================] - 0s 3ms/step - loss: 0.3658 - accuracy: 0.9299 - val_loss: 0.7517 - val_accuracy: 0.8296\n",
      "Epoch 47/100\n",
      "130/130 [==============================] - 0s 3ms/step - loss: 0.4079 - accuracy: 0.8683 - val_loss: 0.4096 - val_accuracy: 0.8518\n",
      "Epoch 48/100\n",
      "130/130 [==============================] - 0s 3ms/step - loss: 0.2845 - accuracy: 0.9136 - val_loss: 0.3262 - val_accuracy: 0.8970\n",
      "Epoch 49/100\n",
      "130/130 [==============================] - 0s 3ms/step - loss: 0.3031 - accuracy: 0.9018 - val_loss: 0.2739 - val_accuracy: 0.9211\n",
      "Epoch 50/100\n",
      "130/130 [==============================] - 0s 3ms/step - loss: 0.2491 - accuracy: 0.9302 - val_loss: 0.2712 - val_accuracy: 0.9211\n",
      "Epoch 51/100\n",
      "130/130 [==============================] - 0s 3ms/step - loss: 0.2428 - accuracy: 0.9309 - val_loss: 0.2577 - val_accuracy: 0.9336\n",
      "Epoch 52/100\n",
      "130/130 [==============================] - 0s 3ms/step - loss: 0.2325 - accuracy: 0.9343 - val_loss: 0.2957 - val_accuracy: 0.9182\n",
      "Epoch 53/100\n",
      "130/130 [==============================] - 0s 3ms/step - loss: 0.2327 - accuracy: 0.9384 - val_loss: 0.2480 - val_accuracy: 0.9336\n",
      "Epoch 54/100\n",
      "130/130 [==============================] - 0s 3ms/step - loss: 0.2341 - accuracy: 0.9364 - val_loss: 0.2470 - val_accuracy: 0.9365\n",
      "Epoch 55/100\n",
      "130/130 [==============================] - 0s 4ms/step - loss: 0.4893 - accuracy: 0.8604 - val_loss: 0.4307 - val_accuracy: 0.8123\n",
      "Epoch 56/100\n",
      "130/130 [==============================] - 0s 3ms/step - loss: 0.3365 - accuracy: 0.8888 - val_loss: 0.3329 - val_accuracy: 0.9076\n",
      "Epoch 57/100\n",
      "130/130 [==============================] - 0s 3ms/step - loss: 0.2769 - accuracy: 0.9242 - val_loss: 0.2951 - val_accuracy: 0.9182\n",
      "Epoch 58/100\n",
      "130/130 [==============================] - 0s 3ms/step - loss: 0.2447 - accuracy: 0.9331 - val_loss: 0.3121 - val_accuracy: 0.8932\n",
      "Epoch 59/100\n",
      "130/130 [==============================] - 0s 3ms/step - loss: 0.2302 - accuracy: 0.9360 - val_loss: 0.2455 - val_accuracy: 0.9307\n",
      "Epoch 60/100\n",
      "130/130 [==============================] - 0s 3ms/step - loss: 0.2269 - accuracy: 0.9360 - val_loss: 0.2433 - val_accuracy: 0.9355\n",
      "Epoch 61/100\n",
      "130/130 [==============================] - 0s 3ms/step - loss: 0.2293 - accuracy: 0.9348 - val_loss: 0.2681 - val_accuracy: 0.9278\n",
      "Epoch 62/100\n",
      "130/130 [==============================] - 0s 3ms/step - loss: 0.2290 - accuracy: 0.9362 - val_loss: 0.2749 - val_accuracy: 0.9201\n",
      "Epoch 63/100\n",
      "130/130 [==============================] - 0s 3ms/step - loss: 0.2380 - accuracy: 0.9362 - val_loss: 0.2555 - val_accuracy: 0.9297\n",
      "Epoch 64/100\n",
      "130/130 [==============================] - 0s 3ms/step - loss: 0.3578 - accuracy: 0.9129 - val_loss: 1.1084 - val_accuracy: 0.8268\n",
      "Epoch 65/100\n",
      "130/130 [==============================] - 0s 3ms/step - loss: 0.5928 - accuracy: 0.8274 - val_loss: 0.4593 - val_accuracy: 0.8114\n",
      "Epoch 66/100\n",
      "130/130 [==============================] - 0s 3ms/step - loss: 0.7005 - accuracy: 0.8640 - val_loss: 0.7101 - val_accuracy: 0.6121\n",
      "Epoch 67/100\n",
      "130/130 [==============================] - 0s 4ms/step - loss: 0.4134 - accuracy: 0.8551 - val_loss: 0.8536 - val_accuracy: 0.9163\n",
      "Epoch 68/100\n",
      "130/130 [==============================] - 0s 3ms/step - loss: 0.3784 - accuracy: 0.8741 - val_loss: 0.3460 - val_accuracy: 0.8807\n",
      "Epoch 69/100\n",
      "130/130 [==============================] - 0s 3ms/step - loss: 0.3605 - accuracy: 0.8601 - val_loss: 0.3544 - val_accuracy: 0.8585\n",
      "Epoch 70/100\n",
      "130/130 [==============================] - 0s 3ms/step - loss: 0.3818 - accuracy: 0.8284 - val_loss: 0.3625 - val_accuracy: 0.8412\n",
      "Epoch 71/100\n",
      "130/130 [==============================] - 0s 3ms/step - loss: 0.4026 - accuracy: 0.8334 - val_loss: 0.4157 - val_accuracy: 0.8296\n",
      "Epoch 72/100\n",
      "130/130 [==============================] - 0s 3ms/step - loss: 0.3740 - accuracy: 0.8719 - val_loss: 0.3194 - val_accuracy: 0.9057\n",
      "Epoch 73/100\n",
      "130/130 [==============================] - 0s 3ms/step - loss: 0.3357 - accuracy: 0.8864 - val_loss: 0.3435 - val_accuracy: 0.8845\n",
      "Epoch 74/100\n",
      "130/130 [==============================] - 0s 3ms/step - loss: 0.3432 - accuracy: 0.8731 - val_loss: 0.3606 - val_accuracy: 0.8547\n",
      "Epoch 75/100\n",
      "130/130 [==============================] - 0s 3ms/step - loss: 0.3798 - accuracy: 0.8488 - val_loss: 0.4618 - val_accuracy: 0.8296\n",
      "Epoch 76/100\n",
      "130/130 [==============================] - 0s 3ms/step - loss: 0.3494 - accuracy: 0.8878 - val_loss: 0.3067 - val_accuracy: 0.9086\n",
      "Epoch 77/100\n",
      "130/130 [==============================] - 0s 3ms/step - loss: 0.3294 - accuracy: 0.8842 - val_loss: 0.3662 - val_accuracy: 0.8691\n",
      "Epoch 78/100\n",
      "130/130 [==============================] - 0s 3ms/step - loss: 0.3394 - accuracy: 0.8705 - val_loss: 0.3487 - val_accuracy: 0.8653\n",
      "Epoch 79/100\n",
      "130/130 [==============================] - 0s 3ms/step - loss: 0.3546 - accuracy: 0.8541 - val_loss: 0.3469 - val_accuracy: 0.8633\n",
      "Epoch 80/100\n",
      "130/130 [==============================] - 0s 3ms/step - loss: 0.3623 - accuracy: 0.8637 - val_loss: 0.3143 - val_accuracy: 0.8758\n",
      "Epoch 81/100\n",
      "130/130 [==============================] - 0s 3ms/step - loss: 0.2671 - accuracy: 0.9244 - val_loss: 0.2595 - val_accuracy: 0.9249\n",
      "Epoch 82/100\n",
      "130/130 [==============================] - 0s 3ms/step - loss: 0.3561 - accuracy: 0.9035 - val_loss: 0.4700 - val_accuracy: 0.7998\n",
      "Epoch 83/100\n",
      "130/130 [==============================] - 0s 3ms/step - loss: 0.5949 - accuracy: 0.8284 - val_loss: 0.4311 - val_accuracy: 0.8210\n",
      "Epoch 84/100\n",
      "130/130 [==============================] - 0s 3ms/step - loss: 0.4022 - accuracy: 0.8462 - val_loss: 0.4133 - val_accuracy: 0.8595\n",
      "Epoch 85/100\n",
      "130/130 [==============================] - 0s 3ms/step - loss: 0.4068 - accuracy: 0.8522 - val_loss: 0.3977 - val_accuracy: 0.8527\n",
      "Epoch 86/100\n",
      "130/130 [==============================] - 0s 3ms/step - loss: 0.3890 - accuracy: 0.8621 - val_loss: 0.3758 - val_accuracy: 0.8653\n",
      "Epoch 87/100\n",
      "130/130 [==============================] - 0s 3ms/step - loss: 0.3555 - accuracy: 0.8698 - val_loss: 0.3205 - val_accuracy: 0.9057\n",
      "Epoch 88/100\n",
      "130/130 [==============================] - 0s 3ms/step - loss: 0.3058 - accuracy: 0.9008 - val_loss: 0.3223 - val_accuracy: 0.8989\n",
      "Epoch 89/100\n",
      "130/130 [==============================] - 0s 3ms/step - loss: 0.2621 - accuracy: 0.9220 - val_loss: 0.2609 - val_accuracy: 0.9240\n",
      "Epoch 90/100\n",
      "130/130 [==============================] - 0s 4ms/step - loss: 0.2436 - accuracy: 0.9312 - val_loss: 0.2379 - val_accuracy: 0.9307\n",
      "Epoch 91/100\n",
      "130/130 [==============================] - 0s 3ms/step - loss: 0.2453 - accuracy: 0.9244 - val_loss: 0.2368 - val_accuracy: 0.9365\n",
      "Epoch 92/100\n",
      "130/130 [==============================] - 0s 3ms/step - loss: 0.2342 - accuracy: 0.9343 - val_loss: 0.2476 - val_accuracy: 0.9297\n",
      "Epoch 93/100\n",
      "130/130 [==============================] - 0s 3ms/step - loss: 0.2215 - accuracy: 0.9386 - val_loss: 0.2352 - val_accuracy: 0.9384\n",
      "Epoch 94/100\n",
      "130/130 [==============================] - 0s 3ms/step - loss: 0.2325 - accuracy: 0.9326 - val_loss: 0.2426 - val_accuracy: 0.9346\n",
      "Epoch 95/100\n",
      "130/130 [==============================] - 0s 3ms/step - loss: 0.2220 - accuracy: 0.9367 - val_loss: 0.3741 - val_accuracy: 0.9365\n",
      "Epoch 96/100\n",
      "130/130 [==============================] - 0s 3ms/step - loss: 0.3596 - accuracy: 0.8999 - val_loss: 0.8423 - val_accuracy: 0.8162\n",
      "Epoch 97/100\n",
      "130/130 [==============================] - 0s 3ms/step - loss: 0.3831 - accuracy: 0.8837 - val_loss: 0.2840 - val_accuracy: 0.9259\n",
      "Epoch 98/100\n",
      "130/130 [==============================] - 0s 4ms/step - loss: 0.2775 - accuracy: 0.9201 - val_loss: 0.2445 - val_accuracy: 0.9288\n",
      "Epoch 99/100\n",
      "130/130 [==============================] - 0s 3ms/step - loss: 0.2837 - accuracy: 0.9143 - val_loss: 0.2611 - val_accuracy: 0.9317\n",
      "Epoch 100/100\n",
      "130/130 [==============================] - 0s 3ms/step - loss: 0.2571 - accuracy: 0.9309 - val_loss: 0.2587 - val_accuracy: 0.9297\n",
      "33/33 [==============================] - 0s 1ms/step\n"
     ]
    }
   ],
   "source": [
    "#fitting the model and predicting \n",
    "\n",
    "# fit network\n",
    "model_history=model.fit(x=X_train, y=y_train, epochs=100, batch_size=32,validation_data= (X_test,y_test))\n",
    "y_pred = model.predict(X_test)\n",
    "\n",
    "y_test_class = np.argmax(y_test,axis=1)\n",
    "y_pred_class = np.argmax(y_pred,axis=1)"
   ]
  },
  {
   "cell_type": "code",
   "execution_count": 199,
   "id": "53ca3b43",
   "metadata": {},
   "outputs": [
    {
     "data": {
      "image/png": "[encoded data removed]",
      "text/plain": [
       "<Figure size 432x288 with 1 Axes>"
      ]
     },
     "metadata": {
      "needs_background": "light"
     },
     "output_type": "display_data"
    }
   ],
   "source": [
    "import matplotlib.pyplot as plt\n",
    "import seaborn as sns\n",
    "\n",
    "loss =model_history.history['loss']\n",
    "val_loss =model_history.history['val_loss']\n",
    "epochs = range(1, len(loss) + 1)\n",
    "plt.plot(epochs, loss, 'y', label='Training loss')\n",
    "plt.plot(epochs, val_loss, 'r', label='Validation loss')\n",
    "plt.title('Training and validation loss')\n",
    "plt.xlabel('Epochs')\n",
    "plt.ylabel('Loss')\n",
    "plt.legend()\n",
    "plt.show()"
   ]
  },
  {
   "cell_type": "code",
   "execution_count": 200,
   "id": "adfaa584",
   "metadata": {},
   "outputs": [
    {
     "data": {
      "image/png": "[encoded data removed]",
      "text/plain": [
       "<Figure size 432x288 with 1 Axes>"
      ]
     },
     "metadata": {
      "needs_background": "light"
     },
     "output_type": "display_data"
    }
   ],
   "source": [
    "acc =model_history.history['accuracy']\n",
    "val_acc =model_history.history['val_accuracy']\n",
    "plt.plot(epochs, acc, 'y', label='Training acc')\n",
    "plt.plot(epochs, val_acc, 'r', label='Validation acc')\n",
    "plt.title('Training and validation accuracy')\n",
    "plt.xlabel('Epochs')\n",
    "plt.ylabel('Accuracy')\n",
    "plt.legend()\n",
    "plt.show()"
   ]
  },
  {
   "cell_type": "code",
   "execution_count": 201,
   "id": "cbca442e",
   "metadata": {},
   "outputs": [
    {
     "name": "stdout",
     "output_type": "stream",
     "text": [
      "              precision    recall  f1-score   support\n",
      "\n",
      "           0       0.91      0.98      0.95       621\n",
      "           1       0.00      0.00      0.00        19\n",
      "           2       0.00      0.00      0.00         2\n",
      "           3       0.00      0.00      0.00         5\n",
      "           4       0.92      0.75      0.83       151\n",
      "           5       0.99      1.00      0.99       138\n",
      "           6       1.00      1.00      1.00       103\n",
      "\n",
      "    accuracy                           0.93      1039\n",
      "   macro avg       0.54      0.53      0.54      1039\n",
      "weighted avg       0.91      0.93      0.92      1039\n",
      "\n",
      "[[611   0   0   0   8   2   0]\n",
      " [ 17   0   0   0   2   0   0]\n",
      " [  2   0   0   0   0   0   0]\n",
      " [  5   0   0   0   0   0   0]\n",
      " [ 37   0   0   0 114   0   0]\n",
      " [  0   0   0   0   0 138   0]\n",
      " [  0   0   0   0   0   0 103]]\n"
     ]
    },
    {
     "name": "stderr",
     "output_type": "stream",
     "text": [
      "C:\\Users\\ADMIN\\anaconda3\\lib\\site-packages\\sklearn\\metrics\\_classification.py:1318: UndefinedMetricWarning: Precision and F-score are ill-defined and being set to 0.0 in labels with no predicted samples. Use `zero_division` parameter to control this behavior.\n",
      "  _warn_prf(average, modifier, msg_start, len(result))\n",
      "C:\\Users\\ADMIN\\anaconda3\\lib\\site-packages\\sklearn\\metrics\\_classification.py:1318: UndefinedMetricWarning: Precision and F-score are ill-defined and being set to 0.0 in labels with no predicted samples. Use `zero_division` parameter to control this behavior.\n",
      "  _warn_prf(average, modifier, msg_start, len(result))\n",
      "C:\\Users\\ADMIN\\anaconda3\\lib\\site-packages\\sklearn\\metrics\\_classification.py:1318: UndefinedMetricWarning: Precision and F-score are ill-defined and being set to 0.0 in labels with no predicted samples. Use `zero_division` parameter to control this behavior.\n",
      "  _warn_prf(average, modifier, msg_start, len(result))\n"
     ]
    }
   ],
   "source": [
    "#Accuracy of the predicted values\n",
    "from sklearn.metrics import classification_report,confusion_matrix\n",
    "print(classification_report(y_test_class,y_pred_class))\n",
    "print(confusion_matrix(y_test_class,y_pred_class))"
   ]
  },
  {
   "cell_type": "code",
   "execution_count": null,
   "id": "62e231fd",
   "metadata": {},
   "outputs": [],
   "source": []
  }
 ],
 "metadata": {
  "kernelspec": {
   "display_name": "Python 3 (ipykernel)",
   "language": "python",
   "name": "python3"
  },
  "language_info": {
   "codemirror_mode": {
    "name": "ipython",
    "version": 3
   },
   "file_extension": ".py",
   "mimetype": "text/x-python",
   "name": "python",
   "nbconvert_exporter": "python",
   "pygments_lexer": "ipython3",
   "version": "3.9.12"
  }
 },
 "nbformat": 4,
 "nbformat_minor": 5
}
