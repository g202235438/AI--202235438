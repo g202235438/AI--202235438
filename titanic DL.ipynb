{
 "cells": [
  {
   "cell_type": "code",
   "execution_count": 47,
   "id": "f9cd2903",
   "metadata": {},
   "outputs": [],
   "source": [
    "import pandas as pd\n",
    "import numpy as np\n",
    "import matplotlib.pyplot as plt\n",
    "from sklearn.model_selection import train_test_split\n",
    "from sklearn.preprocessing import StandardScaler, LabelEncoder\n",
    "from sklearn.neighbors import KNeighborsClassifier\n",
    "import seaborn as sns"
   ]
  },
  {
   "cell_type": "code",
   "execution_count": 48,
   "id": "6f101169",
   "metadata": {},
   "outputs": [],
   "source": [
    "data1 = pd.read_csv('C:/Users/ADMIN/Desktop/인공지능/AI-class-main/AI-class-main/titanic.csv')"
   ]
  },
  {
   "cell_type": "code",
   "execution_count": 49,
   "id": "01b72565",
   "metadata": {},
   "outputs": [
    {
     "data": {
      "text/plain": [
       "Index(['PassengerId', 'Survived', 'Pclass', 'Name', 'Sex', 'Age', 'SibSp',\n",
       "       'Parch', 'Ticket', 'Fare', 'Cabin', 'Embarked'],\n",
       "      dtype='object')"
      ]
     },
     "execution_count": 49,
     "metadata": {},
     "output_type": "execute_result"
    }
   ],
   "source": [
    "data1.columns"
   ]
  },
  {
   "cell_type": "code",
   "execution_count": 50,
   "id": "cb916e6d",
   "metadata": {},
   "outputs": [
    {
     "data": {
      "text/html": [
       "<div>\n",
       "<style scoped>\n",
       "    .dataframe tbody tr th:only-of-type {\n",
       "        vertical-align: middle;\n",
       "    }\n",
       "\n",
       "    .dataframe tbody tr th {\n",
       "        vertical-align: top;\n",
       "    }\n",
       "\n",
       "    .dataframe thead th {\n",
       "        text-align: right;\n",
       "    }\n",
       "</style>\n",
       "<table border=\"1\" class=\"dataframe\">\n",
       "  <thead>\n",
       "    <tr style=\"text-align: right;\">\n",
       "      <th></th>\n",
       "      <th>PassengerId</th>\n",
       "      <th>Survived</th>\n",
       "      <th>Pclass</th>\n",
       "      <th>Name</th>\n",
       "      <th>Sex</th>\n",
       "      <th>Age</th>\n",
       "      <th>SibSp</th>\n",
       "      <th>Parch</th>\n",
       "      <th>Ticket</th>\n",
       "      <th>Fare</th>\n",
       "      <th>Cabin</th>\n",
       "      <th>Embarked</th>\n",
       "    </tr>\n",
       "  </thead>\n",
       "  <tbody>\n",
       "    <tr>\n",
       "      <th>0</th>\n",
       "      <td>1</td>\n",
       "      <td>0</td>\n",
       "      <td>3</td>\n",
       "      <td>Braund, Mr. Owen Harris</td>\n",
       "      <td>male</td>\n",
       "      <td>22.0</td>\n",
       "      <td>1</td>\n",
       "      <td>0</td>\n",
       "      <td>A/5 21171</td>\n",
       "      <td>7.2500</td>\n",
       "      <td>NaN</td>\n",
       "      <td>S</td>\n",
       "    </tr>\n",
       "    <tr>\n",
       "      <th>1</th>\n",
       "      <td>2</td>\n",
       "      <td>1</td>\n",
       "      <td>1</td>\n",
       "      <td>Cumings, Mrs. John Bradley (Florence Briggs Th...</td>\n",
       "      <td>female</td>\n",
       "      <td>38.0</td>\n",
       "      <td>1</td>\n",
       "      <td>0</td>\n",
       "      <td>PC 17599</td>\n",
       "      <td>71.2833</td>\n",
       "      <td>C85</td>\n",
       "      <td>C</td>\n",
       "    </tr>\n",
       "    <tr>\n",
       "      <th>2</th>\n",
       "      <td>3</td>\n",
       "      <td>1</td>\n",
       "      <td>3</td>\n",
       "      <td>Heikkinen, Miss. Laina</td>\n",
       "      <td>female</td>\n",
       "      <td>26.0</td>\n",
       "      <td>0</td>\n",
       "      <td>0</td>\n",
       "      <td>STON/O2. 3101282</td>\n",
       "      <td>7.9250</td>\n",
       "      <td>NaN</td>\n",
       "      <td>S</td>\n",
       "    </tr>\n",
       "    <tr>\n",
       "      <th>3</th>\n",
       "      <td>4</td>\n",
       "      <td>1</td>\n",
       "      <td>1</td>\n",
       "      <td>Futrelle, Mrs. Jacques Heath (Lily May Peel)</td>\n",
       "      <td>female</td>\n",
       "      <td>35.0</td>\n",
       "      <td>1</td>\n",
       "      <td>0</td>\n",
       "      <td>113803</td>\n",
       "      <td>53.1000</td>\n",
       "      <td>C123</td>\n",
       "      <td>S</td>\n",
       "    </tr>\n",
       "    <tr>\n",
       "      <th>4</th>\n",
       "      <td>5</td>\n",
       "      <td>0</td>\n",
       "      <td>3</td>\n",
       "      <td>Allen, Mr. William Henry</td>\n",
       "      <td>male</td>\n",
       "      <td>35.0</td>\n",
       "      <td>0</td>\n",
       "      <td>0</td>\n",
       "      <td>373450</td>\n",
       "      <td>8.0500</td>\n",
       "      <td>NaN</td>\n",
       "      <td>S</td>\n",
       "    </tr>\n",
       "    <tr>\n",
       "      <th>...</th>\n",
       "      <td>...</td>\n",
       "      <td>...</td>\n",
       "      <td>...</td>\n",
       "      <td>...</td>\n",
       "      <td>...</td>\n",
       "      <td>...</td>\n",
       "      <td>...</td>\n",
       "      <td>...</td>\n",
       "      <td>...</td>\n",
       "      <td>...</td>\n",
       "      <td>...</td>\n",
       "      <td>...</td>\n",
       "    </tr>\n",
       "    <tr>\n",
       "      <th>886</th>\n",
       "      <td>887</td>\n",
       "      <td>0</td>\n",
       "      <td>2</td>\n",
       "      <td>Montvila, Rev. Juozas</td>\n",
       "      <td>male</td>\n",
       "      <td>27.0</td>\n",
       "      <td>0</td>\n",
       "      <td>0</td>\n",
       "      <td>211536</td>\n",
       "      <td>13.0000</td>\n",
       "      <td>NaN</td>\n",
       "      <td>S</td>\n",
       "    </tr>\n",
       "    <tr>\n",
       "      <th>887</th>\n",
       "      <td>888</td>\n",
       "      <td>1</td>\n",
       "      <td>1</td>\n",
       "      <td>Graham, Miss. Margaret Edith</td>\n",
       "      <td>female</td>\n",
       "      <td>19.0</td>\n",
       "      <td>0</td>\n",
       "      <td>0</td>\n",
       "      <td>112053</td>\n",
       "      <td>30.0000</td>\n",
       "      <td>B42</td>\n",
       "      <td>S</td>\n",
       "    </tr>\n",
       "    <tr>\n",
       "      <th>888</th>\n",
       "      <td>889</td>\n",
       "      <td>0</td>\n",
       "      <td>3</td>\n",
       "      <td>Johnston, Miss. Catherine Helen \"Carrie\"</td>\n",
       "      <td>female</td>\n",
       "      <td>NaN</td>\n",
       "      <td>1</td>\n",
       "      <td>2</td>\n",
       "      <td>W./C. 6607</td>\n",
       "      <td>23.4500</td>\n",
       "      <td>NaN</td>\n",
       "      <td>S</td>\n",
       "    </tr>\n",
       "    <tr>\n",
       "      <th>889</th>\n",
       "      <td>890</td>\n",
       "      <td>1</td>\n",
       "      <td>1</td>\n",
       "      <td>Behr, Mr. Karl Howell</td>\n",
       "      <td>male</td>\n",
       "      <td>26.0</td>\n",
       "      <td>0</td>\n",
       "      <td>0</td>\n",
       "      <td>111369</td>\n",
       "      <td>30.0000</td>\n",
       "      <td>C148</td>\n",
       "      <td>C</td>\n",
       "    </tr>\n",
       "    <tr>\n",
       "      <th>890</th>\n",
       "      <td>891</td>\n",
       "      <td>0</td>\n",
       "      <td>3</td>\n",
       "      <td>Dooley, Mr. Patrick</td>\n",
       "      <td>male</td>\n",
       "      <td>32.0</td>\n",
       "      <td>0</td>\n",
       "      <td>0</td>\n",
       "      <td>370376</td>\n",
       "      <td>7.7500</td>\n",
       "      <td>NaN</td>\n",
       "      <td>Q</td>\n",
       "    </tr>\n",
       "  </tbody>\n",
       "</table>\n",
       "<p>891 rows × 12 columns</p>\n",
       "</div>"
      ],
      "text/plain": [
       "     PassengerId  Survived  Pclass  \\\n",
       "0              1         0       3   \n",
       "1              2         1       1   \n",
       "2              3         1       3   \n",
       "3              4         1       1   \n",
       "4              5         0       3   \n",
       "..           ...       ...     ...   \n",
       "886          887         0       2   \n",
       "887          888         1       1   \n",
       "888          889         0       3   \n",
       "889          890         1       1   \n",
       "890          891         0       3   \n",
       "\n",
       "                                                  Name     Sex   Age  SibSp  \\\n",
       "0                              Braund, Mr. Owen Harris    male  22.0      1   \n",
       "1    Cumings, Mrs. John Bradley (Florence Briggs Th...  female  38.0      1   \n",
       "2                               Heikkinen, Miss. Laina  female  26.0      0   \n",
       "3         Futrelle, Mrs. Jacques Heath (Lily May Peel)  female  35.0      1   \n",
       "4                             Allen, Mr. William Henry    male  35.0      0   \n",
       "..                                                 ...     ...   ...    ...   \n",
       "886                              Montvila, Rev. Juozas    male  27.0      0   \n",
       "887                       Graham, Miss. Margaret Edith  female  19.0      0   \n",
       "888           Johnston, Miss. Catherine Helen \"Carrie\"  female   NaN      1   \n",
       "889                              Behr, Mr. Karl Howell    male  26.0      0   \n",
       "890                                Dooley, Mr. Patrick    male  32.0      0   \n",
       "\n",
       "     Parch            Ticket     Fare Cabin Embarked  \n",
       "0        0         A/5 21171   7.2500   NaN        S  \n",
       "1        0          PC 17599  71.2833   C85        C  \n",
       "2        0  STON/O2. 3101282   7.9250   NaN        S  \n",
       "3        0            113803  53.1000  C123        S  \n",
       "4        0            373450   8.0500   NaN        S  \n",
       "..     ...               ...      ...   ...      ...  \n",
       "886      0            211536  13.0000   NaN        S  \n",
       "887      0            112053  30.0000   B42        S  \n",
       "888      2        W./C. 6607  23.4500   NaN        S  \n",
       "889      0            111369  30.0000  C148        C  \n",
       "890      0            370376   7.7500   NaN        Q  \n",
       "\n",
       "[891 rows x 12 columns]"
      ]
     },
     "execution_count": 50,
     "metadata": {},
     "output_type": "execute_result"
    }
   ],
   "source": [
    "data1"
   ]
  },
  {
   "cell_type": "code",
   "execution_count": 51,
   "id": "5a746516",
   "metadata": {},
   "outputs": [
    {
     "data": {
      "text/plain": [
       "PassengerId      0\n",
       "Survived         0\n",
       "Pclass           0\n",
       "Name             0\n",
       "Sex              0\n",
       "Age            177\n",
       "SibSp            0\n",
       "Parch            0\n",
       "Ticket           0\n",
       "Fare             0\n",
       "Cabin          687\n",
       "Embarked         2\n",
       "dtype: int64"
      ]
     },
     "execution_count": 51,
     "metadata": {},
     "output_type": "execute_result"
    }
   ],
   "source": [
    "data1.isna().sum()"
   ]
  },
  {
   "cell_type": "code",
   "execution_count": 52,
   "id": "0c021622",
   "metadata": {},
   "outputs": [],
   "source": [
    "#Age 결측치를 중앙값으로 채우기\n",
    "data1['Age'].fillna(data1['Age'].median(), inplace = True)\n",
    "#처리하기 어려운 데이터인 Cabin값 삭제\n",
    "data1.drop('Cabin', axis=1, inplace=True)\n",
    "#결측치를 최빈값으로 채우기\n",
    "data1['Embarked'].fillna(data1['Embarked'].mode()[0], inplace = True)"
   ]
  },
  {
   "cell_type": "code",
   "execution_count": 53,
   "id": "5da46130",
   "metadata": {},
   "outputs": [],
   "source": [
    "data1['Sex'] = data1['Sex'].map({'female':1, 'male':0})"
   ]
  },
  {
   "cell_type": "code",
   "execution_count": 54,
   "id": "9b306e20",
   "metadata": {},
   "outputs": [
    {
     "data": {
      "text/plain": [
       "PassengerId    0\n",
       "Survived       0\n",
       "Pclass         0\n",
       "Name           0\n",
       "Sex            0\n",
       "Age            0\n",
       "SibSp          0\n",
       "Parch          0\n",
       "Ticket         0\n",
       "Fare           0\n",
       "Embarked       0\n",
       "dtype: int64"
      ]
     },
     "execution_count": 54,
     "metadata": {},
     "output_type": "execute_result"
    }
   ],
   "source": [
    "data1.isna().sum()"
   ]
  },
  {
   "cell_type": "code",
   "execution_count": 55,
   "id": "e2ab94f3",
   "metadata": {},
   "outputs": [
    {
     "data": {
      "text/html": [
       "<div>\n",
       "<style scoped>\n",
       "    .dataframe tbody tr th:only-of-type {\n",
       "        vertical-align: middle;\n",
       "    }\n",
       "\n",
       "    .dataframe tbody tr th {\n",
       "        vertical-align: top;\n",
       "    }\n",
       "\n",
       "    .dataframe thead th {\n",
       "        text-align: right;\n",
       "    }\n",
       "</style>\n",
       "<table border=\"1\" class=\"dataframe\">\n",
       "  <thead>\n",
       "    <tr style=\"text-align: right;\">\n",
       "      <th></th>\n",
       "      <th>PassengerId</th>\n",
       "      <th>Survived</th>\n",
       "      <th>Pclass</th>\n",
       "      <th>Name</th>\n",
       "      <th>Sex</th>\n",
       "      <th>Age</th>\n",
       "      <th>SibSp</th>\n",
       "      <th>Parch</th>\n",
       "      <th>Ticket</th>\n",
       "      <th>Fare</th>\n",
       "      <th>Embarked</th>\n",
       "    </tr>\n",
       "  </thead>\n",
       "  <tbody>\n",
       "    <tr>\n",
       "      <th>0</th>\n",
       "      <td>1</td>\n",
       "      <td>0</td>\n",
       "      <td>3</td>\n",
       "      <td>Braund, Mr. Owen Harris</td>\n",
       "      <td>0</td>\n",
       "      <td>22.0</td>\n",
       "      <td>1</td>\n",
       "      <td>0</td>\n",
       "      <td>A/5 21171</td>\n",
       "      <td>7.2500</td>\n",
       "      <td>S</td>\n",
       "    </tr>\n",
       "    <tr>\n",
       "      <th>1</th>\n",
       "      <td>2</td>\n",
       "      <td>1</td>\n",
       "      <td>1</td>\n",
       "      <td>Cumings, Mrs. John Bradley (Florence Briggs Th...</td>\n",
       "      <td>1</td>\n",
       "      <td>38.0</td>\n",
       "      <td>1</td>\n",
       "      <td>0</td>\n",
       "      <td>PC 17599</td>\n",
       "      <td>71.2833</td>\n",
       "      <td>C</td>\n",
       "    </tr>\n",
       "    <tr>\n",
       "      <th>2</th>\n",
       "      <td>3</td>\n",
       "      <td>1</td>\n",
       "      <td>3</td>\n",
       "      <td>Heikkinen, Miss. Laina</td>\n",
       "      <td>1</td>\n",
       "      <td>26.0</td>\n",
       "      <td>0</td>\n",
       "      <td>0</td>\n",
       "      <td>STON/O2. 3101282</td>\n",
       "      <td>7.9250</td>\n",
       "      <td>S</td>\n",
       "    </tr>\n",
       "    <tr>\n",
       "      <th>3</th>\n",
       "      <td>4</td>\n",
       "      <td>1</td>\n",
       "      <td>1</td>\n",
       "      <td>Futrelle, Mrs. Jacques Heath (Lily May Peel)</td>\n",
       "      <td>1</td>\n",
       "      <td>35.0</td>\n",
       "      <td>1</td>\n",
       "      <td>0</td>\n",
       "      <td>113803</td>\n",
       "      <td>53.1000</td>\n",
       "      <td>S</td>\n",
       "    </tr>\n",
       "    <tr>\n",
       "      <th>4</th>\n",
       "      <td>5</td>\n",
       "      <td>0</td>\n",
       "      <td>3</td>\n",
       "      <td>Allen, Mr. William Henry</td>\n",
       "      <td>0</td>\n",
       "      <td>35.0</td>\n",
       "      <td>0</td>\n",
       "      <td>0</td>\n",
       "      <td>373450</td>\n",
       "      <td>8.0500</td>\n",
       "      <td>S</td>\n",
       "    </tr>\n",
       "    <tr>\n",
       "      <th>...</th>\n",
       "      <td>...</td>\n",
       "      <td>...</td>\n",
       "      <td>...</td>\n",
       "      <td>...</td>\n",
       "      <td>...</td>\n",
       "      <td>...</td>\n",
       "      <td>...</td>\n",
       "      <td>...</td>\n",
       "      <td>...</td>\n",
       "      <td>...</td>\n",
       "      <td>...</td>\n",
       "    </tr>\n",
       "    <tr>\n",
       "      <th>886</th>\n",
       "      <td>887</td>\n",
       "      <td>0</td>\n",
       "      <td>2</td>\n",
       "      <td>Montvila, Rev. Juozas</td>\n",
       "      <td>0</td>\n",
       "      <td>27.0</td>\n",
       "      <td>0</td>\n",
       "      <td>0</td>\n",
       "      <td>211536</td>\n",
       "      <td>13.0000</td>\n",
       "      <td>S</td>\n",
       "    </tr>\n",
       "    <tr>\n",
       "      <th>887</th>\n",
       "      <td>888</td>\n",
       "      <td>1</td>\n",
       "      <td>1</td>\n",
       "      <td>Graham, Miss. Margaret Edith</td>\n",
       "      <td>1</td>\n",
       "      <td>19.0</td>\n",
       "      <td>0</td>\n",
       "      <td>0</td>\n",
       "      <td>112053</td>\n",
       "      <td>30.0000</td>\n",
       "      <td>S</td>\n",
       "    </tr>\n",
       "    <tr>\n",
       "      <th>888</th>\n",
       "      <td>889</td>\n",
       "      <td>0</td>\n",
       "      <td>3</td>\n",
       "      <td>Johnston, Miss. Catherine Helen \"Carrie\"</td>\n",
       "      <td>1</td>\n",
       "      <td>28.0</td>\n",
       "      <td>1</td>\n",
       "      <td>2</td>\n",
       "      <td>W./C. 6607</td>\n",
       "      <td>23.4500</td>\n",
       "      <td>S</td>\n",
       "    </tr>\n",
       "    <tr>\n",
       "      <th>889</th>\n",
       "      <td>890</td>\n",
       "      <td>1</td>\n",
       "      <td>1</td>\n",
       "      <td>Behr, Mr. Karl Howell</td>\n",
       "      <td>0</td>\n",
       "      <td>26.0</td>\n",
       "      <td>0</td>\n",
       "      <td>0</td>\n",
       "      <td>111369</td>\n",
       "      <td>30.0000</td>\n",
       "      <td>C</td>\n",
       "    </tr>\n",
       "    <tr>\n",
       "      <th>890</th>\n",
       "      <td>891</td>\n",
       "      <td>0</td>\n",
       "      <td>3</td>\n",
       "      <td>Dooley, Mr. Patrick</td>\n",
       "      <td>0</td>\n",
       "      <td>32.0</td>\n",
       "      <td>0</td>\n",
       "      <td>0</td>\n",
       "      <td>370376</td>\n",
       "      <td>7.7500</td>\n",
       "      <td>Q</td>\n",
       "    </tr>\n",
       "  </tbody>\n",
       "</table>\n",
       "<p>891 rows × 11 columns</p>\n",
       "</div>"
      ],
      "text/plain": [
       "     PassengerId  Survived  Pclass  \\\n",
       "0              1         0       3   \n",
       "1              2         1       1   \n",
       "2              3         1       3   \n",
       "3              4         1       1   \n",
       "4              5         0       3   \n",
       "..           ...       ...     ...   \n",
       "886          887         0       2   \n",
       "887          888         1       1   \n",
       "888          889         0       3   \n",
       "889          890         1       1   \n",
       "890          891         0       3   \n",
       "\n",
       "                                                  Name  Sex   Age  SibSp  \\\n",
       "0                              Braund, Mr. Owen Harris    0  22.0      1   \n",
       "1    Cumings, Mrs. John Bradley (Florence Briggs Th...    1  38.0      1   \n",
       "2                               Heikkinen, Miss. Laina    1  26.0      0   \n",
       "3         Futrelle, Mrs. Jacques Heath (Lily May Peel)    1  35.0      1   \n",
       "4                             Allen, Mr. William Henry    0  35.0      0   \n",
       "..                                                 ...  ...   ...    ...   \n",
       "886                              Montvila, Rev. Juozas    0  27.0      0   \n",
       "887                       Graham, Miss. Margaret Edith    1  19.0      0   \n",
       "888           Johnston, Miss. Catherine Helen \"Carrie\"    1  28.0      1   \n",
       "889                              Behr, Mr. Karl Howell    0  26.0      0   \n",
       "890                                Dooley, Mr. Patrick    0  32.0      0   \n",
       "\n",
       "     Parch            Ticket     Fare Embarked  \n",
       "0        0         A/5 21171   7.2500        S  \n",
       "1        0          PC 17599  71.2833        C  \n",
       "2        0  STON/O2. 3101282   7.9250        S  \n",
       "3        0            113803  53.1000        S  \n",
       "4        0            373450   8.0500        S  \n",
       "..     ...               ...      ...      ...  \n",
       "886      0            211536  13.0000        S  \n",
       "887      0            112053  30.0000        S  \n",
       "888      2        W./C. 6607  23.4500        S  \n",
       "889      0            111369  30.0000        C  \n",
       "890      0            370376   7.7500        Q  \n",
       "\n",
       "[891 rows x 11 columns]"
      ]
     },
     "execution_count": 55,
     "metadata": {},
     "output_type": "execute_result"
    }
   ],
   "source": [
    "data=data1\n",
    "data"
   ]
  },
  {
   "cell_type": "code",
   "execution_count": 56,
   "id": "4fcea895",
   "metadata": {},
   "outputs": [
    {
     "data": {
      "text/plain": [
       "3    491\n",
       "1    216\n",
       "2    184\n",
       "Name: Pclass, dtype: int64"
      ]
     },
     "execution_count": 56,
     "metadata": {},
     "output_type": "execute_result"
    }
   ],
   "source": [
    "# Survived를 타겟 레이블로 삼아서 EDA 수행\n",
    "# 1. Plass 레이블별 갯수 및 차트표시\n",
    "data['Pclass'].value_counts()"
   ]
  },
  {
   "cell_type": "code",
   "execution_count": 57,
   "id": "efca26a6",
   "metadata": {},
   "outputs": [
    {
     "data": {
      "text/plain": [
       "Text(0.5, 1.0, 'Pclass')"
      ]
     },
     "execution_count": 57,
     "metadata": {},
     "output_type": "execute_result"
    },
    {
     "data": {
      "image/png": "[encoded data removed]",
      "text/plain": [
       "<Figure size 432x288 with 1 Axes>"
      ]
     },
     "metadata": {
      "needs_background": "light"
     },
     "output_type": "display_data"
    }
   ],
   "source": [
    "sns.countplot(data = data, x=\"Pclass\")\n",
    "plt.xlabel(\"Pclass\")\n",
    "plt.ylabel(\"Count\")\n",
    "plt.title(\"Pclass\")"
   ]
  },
  {
   "cell_type": "code",
   "execution_count": 58,
   "id": "92c4ae0a",
   "metadata": {},
   "outputs": [
    {
     "data": {
      "text/plain": [
       "0    549\n",
       "1    342\n",
       "Name: Survived, dtype: int64"
      ]
     },
     "execution_count": 58,
     "metadata": {},
     "output_type": "execute_result"
    }
   ],
   "source": [
    "# 2. 생존자와 사망자 총 숫자 및 차트표시\n",
    "data['Survived'].value_counts()"
   ]
  },
  {
   "cell_type": "code",
   "execution_count": 59,
   "id": "3e885111",
   "metadata": {},
   "outputs": [
    {
     "data": {
      "text/plain": [
       "Text(0.5, 1.0, 'Survived')"
      ]
     },
     "execution_count": 59,
     "metadata": {},
     "output_type": "execute_result"
    },
    {
     "data": {
      "image/png": "[encoded data removed]",
      "text/plain": [
       "<Figure size 432x288 with 1 Axes>"
      ]
     },
     "metadata": {
      "needs_background": "light"
     },
     "output_type": "display_data"
    }
   ],
   "source": [
    "sns.countplot(data = data, x=\"Survived\")\n",
    "plt.xlabel(\"Survived\")\n",
    "plt.ylabel(\"Count\")\n",
    "plt.title(\"Survived\")"
   ]
  },
  {
   "cell_type": "code",
   "execution_count": 60,
   "id": "4fc61c9c",
   "metadata": {},
   "outputs": [
    {
     "data": {
      "image/png": "[encoded data removed]",
      "text/plain": [
       "<Figure size 411.875x360 with 6 Axes>"
      ]
     },
     "metadata": {
      "needs_background": "light"
     },
     "output_type": "display_data"
    }
   ],
   "source": [
    "# 3. 성별, 티켓클래스(Pclass), 생존여부(Survived) 상관관계 분석\n",
    "sns.pairplot(data,\n",
    "             vars=['Sex','Pclass'],\n",
    "            hue ='Survived')\n",
    "plt.show()"
   ]
  },
  {
   "cell_type": "code",
   "execution_count": 67,
   "id": "f69d5751",
   "metadata": {},
   "outputs": [
    {
     "name": "stderr",
     "output_type": "stream",
     "text": [
      "C:\\Users\\ADMIN\\anaconda3\\lib\\site-packages\\numpy\\core\\fromnumeric.py:84: FutureWarning: In a future version, DataFrame.min(axis=None) will return a scalar min over the entire DataFrame. To retain the old behavior, use 'frame.min(axis=0)' or just 'frame.min()'\n",
      "  return reduction(axis=axis, out=out, **passkwargs)\n",
      "C:\\Users\\ADMIN\\anaconda3\\lib\\site-packages\\numpy\\core\\fromnumeric.py:84: FutureWarning: In a future version, DataFrame.max(axis=None) will return a scalar max over the entire DataFrame. To retain the old behavior, use 'frame.max(axis=0)' or just 'frame.max()'\n",
      "  return reduction(axis=axis, out=out, **passkwargs)\n"
     ]
    }
   ],
   "source": [
    "#Set x and y values\n",
    "Y = data.iloc[:,1].values\n",
    "x_df4=data.drop(['Survived'],axis=1)\n",
    "x_df3=x_df4.drop('Name',axis=1)\n",
    "x_df2=x_df3.drop('Ticket',axis=1)\n",
    "x_df1=x_df2.drop('PassengerId',axis=1)\n",
    "x_df=x_df1.drop('Embarked',axis=1)\n",
    "#normalization\n",
    "x=(x_df-np.min(x_df))/(np.max(x_df)-np.min(x_df))\n",
    "X = x.iloc[:,:].values\n",
    "from sklearn.preprocessing import LabelEncoder\n",
    "encoder =  LabelEncoder()\n",
    "y1 = encoder.fit_transform(y)\n",
    "\n",
    "Y = pd.get_dummies(y1).values\n",
    "\n",
    "\n",
    "from sklearn.model_selection import train_test_split\n",
    "X_train,X_test, y_train,y_test = train_test_split(X,Y,test_size=0.2,random_state=0) "
   ]
  },
  {
   "cell_type": "code",
   "execution_count": 68,
   "id": "ce11de5e",
   "metadata": {},
   "outputs": [
    {
     "data": {
      "text/plain": [
       "array([[1.        , 0.        , 0.27117366, 0.125     , 0.        ,\n",
       "        0.01415106],\n",
       "       [0.        , 1.        , 0.4722292 , 0.125     , 0.        ,\n",
       "        0.13913574],\n",
       "       [1.        , 1.        , 0.32143755, 0.        , 0.        ,\n",
       "        0.01546857],\n",
       "       ...,\n",
       "       [1.        , 1.        , 0.34656949, 0.125     , 0.33333333,\n",
       "        0.04577135],\n",
       "       [0.        , 0.        , 0.32143755, 0.        , 0.        ,\n",
       "        0.0585561 ],\n",
       "       [1.        , 0.        , 0.39683338, 0.        , 0.        ,\n",
       "        0.01512699]])"
      ]
     },
     "execution_count": 68,
     "metadata": {},
     "output_type": "execute_result"
    }
   ],
   "source": [
    "X"
   ]
  },
  {
   "cell_type": "code",
   "execution_count": 69,
   "id": "5b84c724",
   "metadata": {},
   "outputs": [
    {
     "data": {
      "text/plain": [
       "(891, 6)"
      ]
     },
     "execution_count": 69,
     "metadata": {},
     "output_type": "execute_result"
    }
   ],
   "source": [
    "X.shape"
   ]
  },
  {
   "cell_type": "code",
   "execution_count": 70,
   "id": "b7b6bd83",
   "metadata": {},
   "outputs": [
    {
     "data": {
      "text/plain": [
       "array([[1, 0],\n",
       "       [0, 1],\n",
       "       [0, 1],\n",
       "       ...,\n",
       "       [1, 0],\n",
       "       [0, 1],\n",
       "       [1, 0]], dtype=uint8)"
      ]
     },
     "execution_count": 70,
     "metadata": {},
     "output_type": "execute_result"
    }
   ],
   "source": [
    "Y"
   ]
  },
  {
   "cell_type": "code",
   "execution_count": 76,
   "id": "8027f401",
   "metadata": {},
   "outputs": [
    {
     "name": "stdout",
     "output_type": "stream",
     "text": [
      "Model: \"sequential_2\"\n",
      "_________________________________________________________________\n",
      " Layer (type)                Output Shape              Param #   \n",
      "=================================================================\n",
      " dense_10 (Dense)            (None, 12)                84        \n",
      "                                                                 \n",
      " dense_11 (Dense)            (None, 12)                156       \n",
      "                                                                 \n",
      " dense_12 (Dense)            (None, 8)                 104       \n",
      "                                                                 \n",
      " dense_13 (Dense)            (None, 8)                 72        \n",
      "                                                                 \n",
      " dense_14 (Dense)            (None, 2)                 18        \n",
      "                                                                 \n",
      "=================================================================\n",
      "Total params: 434\n",
      "Trainable params: 434\n",
      "Non-trainable params: 0\n",
      "_________________________________________________________________\n"
     ]
    },
    {
     "name": "stderr",
     "output_type": "stream",
     "text": [
      "C:\\Users\\ADMIN\\anaconda3\\lib\\site-packages\\keras\\optimizers\\legacy\\adam.py:117: UserWarning: The `lr` argument is deprecated, use `learning_rate` instead.\n",
      "  super().__init__(name, **kwargs)\n"
     ]
    }
   ],
   "source": [
    "#Defining the model \n",
    "\n",
    "from keras.models import Sequential\n",
    "from keras.layers import Dense\n",
    "from keras.optimizers import SGD,Adam\n",
    "\n",
    "\n",
    "model = Sequential()\n",
    "\n",
    "model.add(Dense(12,input_shape=(6,),activation='ReLU'))\n",
    "model.add(Dense(12,activation='ReLU'))\n",
    "model.add(Dense(8,activation='ReLU'))\n",
    "model.add(Dense(8,activation='ReLU'))\n",
    "model.add(Dense(2,activation='softmax'))\n",
    "\n",
    "model.compile(Adam(lr=0.04),'categorical_crossentropy',metrics=['accuracy'])\n",
    "\n",
    "model.summary()"
   ]
  },
  {
   "cell_type": "code",
   "execution_count": 77,
   "id": "2b548213",
   "metadata": {},
   "outputs": [
    {
     "name": "stdout",
     "output_type": "stream",
     "text": [
      "Epoch 1/100\n",
      "23/23 [==============================] - 0s 5ms/step - loss: 0.5364 - accuracy: 0.7556 - val_loss: 0.5244 - val_accuracy: 0.7933\n",
      "Epoch 2/100\n",
      "23/23 [==============================] - 0s 2ms/step - loss: 0.4814 - accuracy: 0.7935 - val_loss: 0.4108 - val_accuracy: 0.7933\n",
      "Epoch 3/100\n",
      "23/23 [==============================] - 0s 1ms/step - loss: 0.4607 - accuracy: 0.8090 - val_loss: 0.4128 - val_accuracy: 0.7933\n",
      "Epoch 4/100\n",
      "23/23 [==============================] - 0s 1ms/step - loss: 0.4568 - accuracy: 0.8020 - val_loss: 0.4183 - val_accuracy: 0.8101\n",
      "Epoch 5/100\n",
      "23/23 [==============================] - 0s 1ms/step - loss: 0.4826 - accuracy: 0.7907 - val_loss: 0.4841 - val_accuracy: 0.7654\n",
      "Epoch 6/100\n",
      "23/23 [==============================] - 0s 2ms/step - loss: 0.4485 - accuracy: 0.8132 - val_loss: 0.4051 - val_accuracy: 0.8212\n",
      "Epoch 7/100\n",
      "23/23 [==============================] - 0s 1ms/step - loss: 0.4466 - accuracy: 0.7907 - val_loss: 0.3730 - val_accuracy: 0.8156\n",
      "Epoch 8/100\n",
      "23/23 [==============================] - 0s 1ms/step - loss: 0.4687 - accuracy: 0.7893 - val_loss: 0.4307 - val_accuracy: 0.7709\n",
      "Epoch 9/100\n",
      "23/23 [==============================] - 0s 2ms/step - loss: 0.4492 - accuracy: 0.8062 - val_loss: 0.3744 - val_accuracy: 0.8156\n",
      "Epoch 10/100\n",
      "23/23 [==============================] - 0s 2ms/step - loss: 0.4269 - accuracy: 0.8315 - val_loss: 0.4085 - val_accuracy: 0.8268\n",
      "Epoch 11/100\n",
      "23/23 [==============================] - 0s 1ms/step - loss: 0.4250 - accuracy: 0.8174 - val_loss: 0.3815 - val_accuracy: 0.8045\n",
      "Epoch 12/100\n",
      "23/23 [==============================] - 0s 2ms/step - loss: 0.4363 - accuracy: 0.8104 - val_loss: 0.3887 - val_accuracy: 0.8212\n",
      "Epoch 13/100\n",
      "23/23 [==============================] - 0s 1ms/step - loss: 0.4316 - accuracy: 0.8132 - val_loss: 0.3862 - val_accuracy: 0.7989\n",
      "Epoch 14/100\n",
      "23/23 [==============================] - 0s 1ms/step - loss: 0.4443 - accuracy: 0.8146 - val_loss: 0.3825 - val_accuracy: 0.8156\n",
      "Epoch 15/100\n",
      "23/23 [==============================] - 0s 1ms/step - loss: 0.4223 - accuracy: 0.8301 - val_loss: 0.3710 - val_accuracy: 0.8101\n",
      "Epoch 16/100\n",
      "23/23 [==============================] - 0s 1ms/step - loss: 0.4241 - accuracy: 0.8244 - val_loss: 0.3787 - val_accuracy: 0.8156\n",
      "Epoch 17/100\n",
      "23/23 [==============================] - 0s 1ms/step - loss: 0.4313 - accuracy: 0.8244 - val_loss: 0.3870 - val_accuracy: 0.7989\n",
      "Epoch 18/100\n",
      "23/23 [==============================] - 0s 2ms/step - loss: 0.4247 - accuracy: 0.8315 - val_loss: 0.4045 - val_accuracy: 0.8101\n",
      "Epoch 19/100\n",
      "23/23 [==============================] - 0s 1ms/step - loss: 0.4231 - accuracy: 0.8287 - val_loss: 0.4022 - val_accuracy: 0.8268\n",
      "Epoch 20/100\n",
      "23/23 [==============================] - 0s 1ms/step - loss: 0.4188 - accuracy: 0.8216 - val_loss: 0.3886 - val_accuracy: 0.8101\n",
      "Epoch 21/100\n",
      "23/23 [==============================] - 0s 2ms/step - loss: 0.4722 - accuracy: 0.8006 - val_loss: 0.4074 - val_accuracy: 0.8268\n",
      "Epoch 22/100\n",
      "23/23 [==============================] - 0s 1ms/step - loss: 0.4311 - accuracy: 0.8132 - val_loss: 0.3968 - val_accuracy: 0.8156\n",
      "Epoch 23/100\n",
      "23/23 [==============================] - 0s 2ms/step - loss: 0.4231 - accuracy: 0.8385 - val_loss: 0.3901 - val_accuracy: 0.8045\n",
      "Epoch 24/100\n",
      "23/23 [==============================] - 0s 2ms/step - loss: 0.4214 - accuracy: 0.8315 - val_loss: 0.3759 - val_accuracy: 0.8156\n",
      "Epoch 25/100\n",
      "23/23 [==============================] - 0s 1ms/step - loss: 0.4258 - accuracy: 0.8174 - val_loss: 0.3824 - val_accuracy: 0.8101\n",
      "Epoch 26/100\n",
      "23/23 [==============================] - 0s 1ms/step - loss: 0.4202 - accuracy: 0.8104 - val_loss: 0.3880 - val_accuracy: 0.8156\n",
      "Epoch 27/100\n",
      "23/23 [==============================] - 0s 1ms/step - loss: 0.4149 - accuracy: 0.8329 - val_loss: 0.3919 - val_accuracy: 0.8045\n",
      "Epoch 28/100\n",
      "23/23 [==============================] - 0s 1ms/step - loss: 0.4112 - accuracy: 0.8385 - val_loss: 0.3868 - val_accuracy: 0.8156\n",
      "Epoch 29/100\n",
      "23/23 [==============================] - 0s 2ms/step - loss: 0.4280 - accuracy: 0.8258 - val_loss: 0.3834 - val_accuracy: 0.8101\n",
      "Epoch 30/100\n",
      "23/23 [==============================] - 0s 2ms/step - loss: 0.4262 - accuracy: 0.8216 - val_loss: 0.3874 - val_accuracy: 0.8156\n",
      "Epoch 31/100\n",
      "23/23 [==============================] - 0s 2ms/step - loss: 0.4176 - accuracy: 0.8315 - val_loss: 0.3842 - val_accuracy: 0.8101\n",
      "Epoch 32/100\n",
      "23/23 [==============================] - 0s 1ms/step - loss: 0.4146 - accuracy: 0.8441 - val_loss: 0.3936 - val_accuracy: 0.8101\n",
      "Epoch 33/100\n",
      "23/23 [==============================] - 0s 2ms/step - loss: 0.4122 - accuracy: 0.8301 - val_loss: 0.3774 - val_accuracy: 0.8268\n",
      "Epoch 34/100\n",
      "23/23 [==============================] - 0s 1ms/step - loss: 0.4191 - accuracy: 0.8244 - val_loss: 0.3768 - val_accuracy: 0.8212\n",
      "Epoch 35/100\n",
      "23/23 [==============================] - 0s 2ms/step - loss: 0.4113 - accuracy: 0.8357 - val_loss: 0.3895 - val_accuracy: 0.8101\n",
      "Epoch 36/100\n",
      "23/23 [==============================] - 0s 1ms/step - loss: 0.4128 - accuracy: 0.8258 - val_loss: 0.3884 - val_accuracy: 0.8268\n",
      "Epoch 37/100\n",
      "23/23 [==============================] - 0s 2ms/step - loss: 0.4053 - accuracy: 0.8371 - val_loss: 0.4086 - val_accuracy: 0.8324\n",
      "Epoch 38/100\n",
      "23/23 [==============================] - 0s 1ms/step - loss: 0.4194 - accuracy: 0.8301 - val_loss: 0.3877 - val_accuracy: 0.8101\n",
      "Epoch 39/100\n",
      "23/23 [==============================] - 0s 2ms/step - loss: 0.4046 - accuracy: 0.8287 - val_loss: 0.4237 - val_accuracy: 0.8268\n",
      "Epoch 40/100\n",
      "23/23 [==============================] - 0s 1ms/step - loss: 0.4161 - accuracy: 0.8160 - val_loss: 0.3897 - val_accuracy: 0.8045\n",
      "Epoch 41/100\n",
      "23/23 [==============================] - 0s 1ms/step - loss: 0.4097 - accuracy: 0.8413 - val_loss: 0.3930 - val_accuracy: 0.8101\n",
      "Epoch 42/100\n",
      "23/23 [==============================] - 0s 2ms/step - loss: 0.4107 - accuracy: 0.8301 - val_loss: 0.3923 - val_accuracy: 0.7989\n",
      "Epoch 43/100\n",
      "23/23 [==============================] - 0s 2ms/step - loss: 0.4168 - accuracy: 0.8371 - val_loss: 0.3932 - val_accuracy: 0.8101\n",
      "Epoch 44/100\n",
      "23/23 [==============================] - 0s 1ms/step - loss: 0.4163 - accuracy: 0.8216 - val_loss: 0.3813 - val_accuracy: 0.8101\n",
      "Epoch 45/100\n",
      "23/23 [==============================] - 0s 1ms/step - loss: 0.4175 - accuracy: 0.8244 - val_loss: 0.3921 - val_accuracy: 0.8156\n",
      "Epoch 46/100\n",
      "23/23 [==============================] - 0s 2ms/step - loss: 0.4106 - accuracy: 0.8301 - val_loss: 0.3934 - val_accuracy: 0.8101\n",
      "Epoch 47/100\n",
      "23/23 [==============================] - 0s 1ms/step - loss: 0.4195 - accuracy: 0.8230 - val_loss: 0.4034 - val_accuracy: 0.8268\n",
      "Epoch 48/100\n",
      "23/23 [==============================] - 0s 2ms/step - loss: 0.4191 - accuracy: 0.8202 - val_loss: 0.3826 - val_accuracy: 0.8156\n",
      "Epoch 49/100\n",
      "23/23 [==============================] - 0s 1ms/step - loss: 0.4099 - accuracy: 0.8357 - val_loss: 0.3948 - val_accuracy: 0.8101\n",
      "Epoch 50/100\n",
      "23/23 [==============================] - 0s 2ms/step - loss: 0.4137 - accuracy: 0.8357 - val_loss: 0.3791 - val_accuracy: 0.8101\n",
      "Epoch 51/100\n",
      "23/23 [==============================] - 0s 1ms/step - loss: 0.4202 - accuracy: 0.8385 - val_loss: 0.3763 - val_accuracy: 0.8212\n",
      "Epoch 52/100\n",
      "23/23 [==============================] - 0s 1ms/step - loss: 0.4140 - accuracy: 0.8244 - val_loss: 0.3821 - val_accuracy: 0.8101\n",
      "Epoch 53/100\n",
      "23/23 [==============================] - 0s 2ms/step - loss: 0.4139 - accuracy: 0.8202 - val_loss: 0.3760 - val_accuracy: 0.8268\n",
      "Epoch 54/100\n",
      "23/23 [==============================] - 0s 1ms/step - loss: 0.4132 - accuracy: 0.8244 - val_loss: 0.4065 - val_accuracy: 0.8268\n",
      "Epoch 55/100\n",
      "23/23 [==============================] - 0s 1ms/step - loss: 0.4163 - accuracy: 0.8301 - val_loss: 0.3937 - val_accuracy: 0.8101\n",
      "Epoch 56/100\n",
      "23/23 [==============================] - 0s 1ms/step - loss: 0.4097 - accuracy: 0.8413 - val_loss: 0.4084 - val_accuracy: 0.8268\n",
      "Epoch 57/100\n",
      "23/23 [==============================] - 0s 1ms/step - loss: 0.4213 - accuracy: 0.8174 - val_loss: 0.4082 - val_accuracy: 0.8268\n",
      "Epoch 58/100\n",
      "23/23 [==============================] - 0s 1ms/step - loss: 0.4151 - accuracy: 0.8315 - val_loss: 0.3795 - val_accuracy: 0.8156\n",
      "Epoch 59/100\n",
      "23/23 [==============================] - 0s 1ms/step - loss: 0.4149 - accuracy: 0.8315 - val_loss: 0.3859 - val_accuracy: 0.8268\n",
      "Epoch 60/100\n",
      "23/23 [==============================] - 0s 1ms/step - loss: 0.4581 - accuracy: 0.7963 - val_loss: 0.4017 - val_accuracy: 0.8156\n",
      "Epoch 61/100\n",
      "23/23 [==============================] - 0s 1ms/step - loss: 0.4192 - accuracy: 0.8385 - val_loss: 0.4012 - val_accuracy: 0.8156\n",
      "Epoch 62/100\n",
      "23/23 [==============================] - 0s 1ms/step - loss: 0.4192 - accuracy: 0.8329 - val_loss: 0.3885 - val_accuracy: 0.8101\n",
      "Epoch 63/100\n",
      "23/23 [==============================] - 0s 1ms/step - loss: 0.4248 - accuracy: 0.8230 - val_loss: 0.4111 - val_accuracy: 0.8101\n",
      "Epoch 64/100\n",
      "23/23 [==============================] - 0s 2ms/step - loss: 0.4219 - accuracy: 0.8315 - val_loss: 0.4231 - val_accuracy: 0.8045\n",
      "Epoch 65/100\n",
      "23/23 [==============================] - 0s 1ms/step - loss: 0.4239 - accuracy: 0.8287 - val_loss: 0.3826 - val_accuracy: 0.8268\n",
      "Epoch 66/100\n",
      "23/23 [==============================] - 0s 2ms/step - loss: 0.4079 - accuracy: 0.8343 - val_loss: 0.3815 - val_accuracy: 0.8268\n",
      "Epoch 67/100\n",
      "23/23 [==============================] - 0s 1ms/step - loss: 0.4097 - accuracy: 0.8357 - val_loss: 0.4003 - val_accuracy: 0.8101\n",
      "Epoch 68/100\n",
      "23/23 [==============================] - 0s 2ms/step - loss: 0.4063 - accuracy: 0.8301 - val_loss: 0.4144 - val_accuracy: 0.8101\n",
      "Epoch 69/100\n",
      "23/23 [==============================] - 0s 2ms/step - loss: 0.4189 - accuracy: 0.8287 - val_loss: 0.4298 - val_accuracy: 0.8268\n",
      "Epoch 70/100\n",
      "23/23 [==============================] - 0s 1ms/step - loss: 0.4214 - accuracy: 0.8315 - val_loss: 0.3933 - val_accuracy: 0.8045\n",
      "Epoch 71/100\n",
      "23/23 [==============================] - 0s 1ms/step - loss: 0.4113 - accuracy: 0.8427 - val_loss: 0.3929 - val_accuracy: 0.8156\n",
      "Epoch 72/100\n",
      "23/23 [==============================] - 0s 2ms/step - loss: 0.4241 - accuracy: 0.8315 - val_loss: 0.3987 - val_accuracy: 0.8045\n",
      "Epoch 73/100\n",
      "23/23 [==============================] - 0s 2ms/step - loss: 0.4178 - accuracy: 0.8315 - val_loss: 0.4086 - val_accuracy: 0.8156\n",
      "Epoch 74/100\n",
      "23/23 [==============================] - 0s 2ms/step - loss: 0.4360 - accuracy: 0.8188 - val_loss: 0.4015 - val_accuracy: 0.8045\n",
      "Epoch 75/100\n",
      "23/23 [==============================] - 0s 2ms/step - loss: 0.4122 - accuracy: 0.8301 - val_loss: 0.3886 - val_accuracy: 0.7989\n",
      "Epoch 76/100\n",
      "23/23 [==============================] - 0s 1ms/step - loss: 0.4265 - accuracy: 0.8188 - val_loss: 0.3803 - val_accuracy: 0.8101\n",
      "Epoch 77/100\n",
      "23/23 [==============================] - 0s 2ms/step - loss: 0.4135 - accuracy: 0.8343 - val_loss: 0.3826 - val_accuracy: 0.8156\n",
      "Epoch 78/100\n",
      "23/23 [==============================] - 0s 1ms/step - loss: 0.4167 - accuracy: 0.8272 - val_loss: 0.3868 - val_accuracy: 0.8045\n",
      "Epoch 79/100\n",
      "23/23 [==============================] - 0s 1ms/step - loss: 0.4283 - accuracy: 0.8216 - val_loss: 0.3879 - val_accuracy: 0.8045\n",
      "Epoch 80/100\n",
      "23/23 [==============================] - 0s 1ms/step - loss: 0.4469 - accuracy: 0.8006 - val_loss: 0.3972 - val_accuracy: 0.8101\n",
      "Epoch 81/100\n",
      "23/23 [==============================] - 0s 1ms/step - loss: 0.4189 - accuracy: 0.8272 - val_loss: 0.3840 - val_accuracy: 0.7989\n",
      "Epoch 82/100\n",
      "23/23 [==============================] - 0s 2ms/step - loss: 0.4174 - accuracy: 0.8287 - val_loss: 0.3884 - val_accuracy: 0.8156\n",
      "Epoch 83/100\n",
      "23/23 [==============================] - 0s 2ms/step - loss: 0.4196 - accuracy: 0.8315 - val_loss: 0.3906 - val_accuracy: 0.8045\n",
      "Epoch 84/100\n",
      "23/23 [==============================] - 0s 1ms/step - loss: 0.4122 - accuracy: 0.8287 - val_loss: 0.3883 - val_accuracy: 0.8212\n",
      "Epoch 85/100\n",
      "23/23 [==============================] - 0s 2ms/step - loss: 0.4122 - accuracy: 0.8287 - val_loss: 0.3894 - val_accuracy: 0.8045\n",
      "Epoch 86/100\n",
      "23/23 [==============================] - 0s 1ms/step - loss: 0.4146 - accuracy: 0.8357 - val_loss: 0.3903 - val_accuracy: 0.8045\n",
      "Epoch 87/100\n",
      "23/23 [==============================] - 0s 1ms/step - loss: 0.4265 - accuracy: 0.8146 - val_loss: 0.3966 - val_accuracy: 0.8101\n",
      "Epoch 88/100\n",
      "23/23 [==============================] - 0s 1ms/step - loss: 0.4151 - accuracy: 0.8258 - val_loss: 0.3886 - val_accuracy: 0.8101\n",
      "Epoch 89/100\n",
      "23/23 [==============================] - 0s 1ms/step - loss: 0.4101 - accuracy: 0.8371 - val_loss: 0.3956 - val_accuracy: 0.8156\n",
      "Epoch 90/100\n",
      "23/23 [==============================] - 0s 1ms/step - loss: 0.4275 - accuracy: 0.8301 - val_loss: 0.4158 - val_accuracy: 0.8101\n",
      "Epoch 91/100\n",
      "23/23 [==============================] - 0s 2ms/step - loss: 0.4375 - accuracy: 0.8272 - val_loss: 0.4149 - val_accuracy: 0.8156\n",
      "Epoch 92/100\n",
      "23/23 [==============================] - 0s 1ms/step - loss: 0.4210 - accuracy: 0.8329 - val_loss: 0.3848 - val_accuracy: 0.8156\n",
      "Epoch 93/100\n",
      "23/23 [==============================] - 0s 1ms/step - loss: 0.4187 - accuracy: 0.8244 - val_loss: 0.3828 - val_accuracy: 0.8045\n",
      "Epoch 94/100\n",
      "23/23 [==============================] - 0s 1ms/step - loss: 0.4144 - accuracy: 0.8301 - val_loss: 0.3924 - val_accuracy: 0.8212\n",
      "Epoch 95/100\n",
      "23/23 [==============================] - 0s 2ms/step - loss: 0.4128 - accuracy: 0.8357 - val_loss: 0.3762 - val_accuracy: 0.8045\n",
      "Epoch 96/100\n",
      "23/23 [==============================] - 0s 2ms/step - loss: 0.4113 - accuracy: 0.8244 - val_loss: 0.4033 - val_accuracy: 0.8212\n",
      "Epoch 97/100\n",
      "23/23 [==============================] - 0s 2ms/step - loss: 0.4375 - accuracy: 0.8132 - val_loss: 0.3896 - val_accuracy: 0.8045\n",
      "Epoch 98/100\n",
      "23/23 [==============================] - 0s 2ms/step - loss: 0.4244 - accuracy: 0.8244 - val_loss: 0.3862 - val_accuracy: 0.8268\n",
      "Epoch 99/100\n",
      "23/23 [==============================] - 0s 1ms/step - loss: 0.4220 - accuracy: 0.8315 - val_loss: 0.4024 - val_accuracy: 0.8045\n",
      "Epoch 100/100\n",
      "23/23 [==============================] - 0s 2ms/step - loss: 0.4609 - accuracy: 0.8160 - val_loss: 0.3987 - val_accuracy: 0.8101\n",
      "6/6 [==============================] - 0s 863us/step\n"
     ]
    }
   ],
   "source": [
    "#fitting the model and predicting \n",
    "\n",
    "# fit network\n",
    "model_history=model.fit(x=X_train, y=y_train, epochs=100, batch_size=32,validation_data= (X_test,y_test))\n",
    "y_pred = model.predict(X_test)\n",
    "\n",
    "y_test_class = np.argmax(y_test,axis=1)\n",
    "y_pred_class = np.argmax(y_pred,axis=1)"
   ]
  },
  {
   "cell_type": "code",
   "execution_count": 78,
   "id": "1e3ac2de",
   "metadata": {},
   "outputs": [
    {
     "data": {
      "image/png": "[encoded data removed]",
      "text/plain": [
       "<Figure size 432x288 with 1 Axes>"
      ]
     },
     "metadata": {
      "needs_background": "light"
     },
     "output_type": "display_data"
    }
   ],
   "source": [
    "import matplotlib.pyplot as plt\n",
    "import seaborn as sns\n",
    "\n",
    "loss =model_history.history['loss']\n",
    "val_loss =model_history.history['val_loss']\n",
    "epochs = range(1, len(loss) + 1)\n",
    "plt.plot(epochs, loss, 'y', label='Training loss')\n",
    "plt.plot(epochs, val_loss, 'r', label='Validation loss')\n",
    "plt.title('Training and validation loss')\n",
    "plt.xlabel('Epochs')\n",
    "plt.ylabel('Loss')\n",
    "plt.legend()\n",
    "plt.show()"
   ]
  },
  {
   "cell_type": "code",
   "execution_count": 79,
   "id": "652832ad",
   "metadata": {},
   "outputs": [
    {
     "data": {
      "image/png": "[encoded data removed]",
      "text/plain": [
       "<Figure size 432x288 with 1 Axes>"
      ]
     },
     "metadata": {
      "needs_background": "light"
     },
     "output_type": "display_data"
    }
   ],
   "source": [
    "acc =model_history.history['accuracy']\n",
    "val_acc =model_history.history['val_accuracy']\n",
    "plt.plot(epochs, acc, 'y', label='Training acc')\n",
    "plt.plot(epochs, val_acc, 'r', label='Validation acc')\n",
    "plt.title('Training and validation accuracy')\n",
    "plt.xlabel('Epochs')\n",
    "plt.ylabel('Accuracy')\n",
    "plt.legend()\n",
    "plt.show()"
   ]
  },
  {
   "cell_type": "code",
   "execution_count": 80,
   "id": "4acf827b",
   "metadata": {},
   "outputs": [
    {
     "name": "stdout",
     "output_type": "stream",
     "text": [
      "              precision    recall  f1-score   support\n",
      "\n",
      "           0       0.80      0.93      0.86       110\n",
      "           1       0.84      0.62      0.72        69\n",
      "\n",
      "    accuracy                           0.81       179\n",
      "   macro avg       0.82      0.78      0.79       179\n",
      "weighted avg       0.81      0.81      0.80       179\n",
      "\n",
      "[[102   8]\n",
      " [ 26  43]]\n"
     ]
    }
   ],
   "source": [
    "#Accuracy of the predicted values\n",
    "from sklearn.metrics import classification_report,confusion_matrix\n",
    "print(classification_report(y_test_class,y_pred_class))\n",
    "print(confusion_matrix(y_test_class,y_pred_class))"
   ]
  },
  {
   "cell_type": "code",
   "execution_count": null,
   "id": "dcbd1c80",
   "metadata": {},
   "outputs": [],
   "source": []
  }
 ],
 "metadata": {
  "kernelspec": {
   "display_name": "Python 3 (ipykernel)",
   "language": "python",
   "name": "python3"
  },
  "language_info": {
   "codemirror_mode": {
    "name": "ipython",
    "version": 3
   },
   "file_extension": ".py",
   "mimetype": "text/x-python",
   "name": "python",
   "nbconvert_exporter": "python",
   "pygments_lexer": "ipython3",
   "version": "3.9.12"
  }
 },
 "nbformat": 4,
 "nbformat_minor": 5
}
