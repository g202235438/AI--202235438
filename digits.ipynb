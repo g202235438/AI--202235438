{
 "cells": [
  {
   "cell_type": "code",
   "execution_count": 70,
   "id": "bcf443d3",
   "metadata": {},
   "outputs": [
    {
     "data": {
      "text/plain": [
       "<matplotlib.image.AxesImage at 0x1b2080cc730>"
      ]
     },
     "execution_count": 70,
     "metadata": {},
     "output_type": "execute_result"
    },
    {
     "data": {
      "image/png": "[encoded data removed]",
      "text/plain": [
       "<Figure size 640x480 with 1 Axes>"
      ]
     },
     "metadata": {},
     "output_type": "display_data"
    }
   ],
   "source": [
    "import matplotlib.pyplot as plt\n",
    "from sklearn import datasets, metrics\n",
    "from sklearn.model_selection import train_test_split\n",
    "\n",
    "digits = datasets.load_digits()\n",
    "plt.imshow(digits.images[0], cmap=plt.cm.gray_r, interpolation='nearest')"
   ]
  },
  {
   "cell_type": "code",
   "execution_count": 71,
   "id": "cbf7ea6b",
   "metadata": {},
   "outputs": [],
   "source": [
    "X = digits.images\n",
    "y = digits.target"
   ]
  },
  {
   "cell_type": "code",
   "execution_count": 72,
   "id": "5f301ad4",
   "metadata": {},
   "outputs": [
    {
     "data": {
      "text/plain": [
       "array([[[ 0.,  0.,  5., ...,  1.,  0.,  0.],\n",
       "        [ 0.,  0., 13., ..., 15.,  5.,  0.],\n",
       "        [ 0.,  3., 15., ..., 11.,  8.,  0.],\n",
       "        ...,\n",
       "        [ 0.,  4., 11., ..., 12.,  7.,  0.],\n",
       "        [ 0.,  2., 14., ..., 12.,  0.,  0.],\n",
       "        [ 0.,  0.,  6., ...,  0.,  0.,  0.]],\n",
       "\n",
       "       [[ 0.,  0.,  0., ...,  5.,  0.,  0.],\n",
       "        [ 0.,  0.,  0., ...,  9.,  0.,  0.],\n",
       "        [ 0.,  0.,  3., ...,  6.,  0.,  0.],\n",
       "        ...,\n",
       "        [ 0.,  0.,  1., ...,  6.,  0.,  0.],\n",
       "        [ 0.,  0.,  1., ...,  6.,  0.,  0.],\n",
       "        [ 0.,  0.,  0., ..., 10.,  0.,  0.]],\n",
       "\n",
       "       [[ 0.,  0.,  0., ..., 12.,  0.,  0.],\n",
       "        [ 0.,  0.,  3., ..., 14.,  0.,  0.],\n",
       "        [ 0.,  0.,  8., ..., 16.,  0.,  0.],\n",
       "        ...,\n",
       "        [ 0.,  9., 16., ...,  0.,  0.,  0.],\n",
       "        [ 0.,  3., 13., ..., 11.,  5.,  0.],\n",
       "        [ 0.,  0.,  0., ..., 16.,  9.,  0.]],\n",
       "\n",
       "       ...,\n",
       "\n",
       "       [[ 0.,  0.,  1., ...,  1.,  0.,  0.],\n",
       "        [ 0.,  0., 13., ...,  2.,  1.,  0.],\n",
       "        [ 0.,  0., 16., ..., 16.,  5.,  0.],\n",
       "        ...,\n",
       "        [ 0.,  0., 16., ..., 15.,  0.,  0.],\n",
       "        [ 0.,  0., 15., ..., 16.,  0.,  0.],\n",
       "        [ 0.,  0.,  2., ...,  6.,  0.,  0.]],\n",
       "\n",
       "       [[ 0.,  0.,  2., ...,  0.,  0.,  0.],\n",
       "        [ 0.,  0., 14., ..., 15.,  1.,  0.],\n",
       "        [ 0.,  4., 16., ..., 16.,  7.,  0.],\n",
       "        ...,\n",
       "        [ 0.,  0.,  0., ..., 16.,  2.,  0.],\n",
       "        [ 0.,  0.,  4., ..., 16.,  2.,  0.],\n",
       "        [ 0.,  0.,  5., ..., 12.,  0.,  0.]],\n",
       "\n",
       "       [[ 0.,  0., 10., ...,  1.,  0.,  0.],\n",
       "        [ 0.,  2., 16., ...,  1.,  0.,  0.],\n",
       "        [ 0.,  0., 15., ..., 15.,  0.,  0.],\n",
       "        ...,\n",
       "        [ 0.,  4., 16., ..., 16.,  6.,  0.],\n",
       "        [ 0.,  8., 16., ..., 16.,  8.,  0.],\n",
       "        [ 0.,  1.,  8., ..., 12.,  1.,  0.]]])"
      ]
     },
     "execution_count": 72,
     "metadata": {},
     "output_type": "execute_result"
    }
   ],
   "source": [
    "X"
   ]
  },
  {
   "cell_type": "code",
   "execution_count": 73,
   "id": "41ad3ba2",
   "metadata": {},
   "outputs": [
    {
     "data": {
      "text/plain": [
       "array([0, 1, 2, ..., 8, 9, 8])"
      ]
     },
     "execution_count": 73,
     "metadata": {},
     "output_type": "execute_result"
    }
   ],
   "source": [
    "y"
   ]
  },
  {
   "cell_type": "code",
   "execution_count": 74,
   "id": "6722d0af",
   "metadata": {},
   "outputs": [
    {
     "data": {
      "text/plain": [
       "(1797, 8, 8)"
      ]
     },
     "execution_count": 74,
     "metadata": {},
     "output_type": "execute_result"
    }
   ],
   "source": [
    "X.shape"
   ]
  },
  {
   "cell_type": "code",
   "execution_count": 75,
   "id": "719b2924",
   "metadata": {},
   "outputs": [
    {
     "data": {
      "text/plain": [
       "(1797,)"
      ]
     },
     "execution_count": 75,
     "metadata": {},
     "output_type": "execute_result"
    }
   ],
   "source": [
    "y.shape"
   ]
  },
  {
   "cell_type": "code",
   "execution_count": 76,
   "id": "13d7148e",
   "metadata": {},
   "outputs": [],
   "source": [
    "from keras.utils import np_utils\n",
    "import tensorflow.keras as keras\n",
    "from keras import Sequential\n",
    "import numpy as np\n",
    "\n",
    "nb_classes = 10\n",
    "y = np_utils.to_categorical(y, nb_classes)\n",
    "X = X.reshape(X.shape[0],8,8,1)\n",
    "X_train, X_test, y_train, y_test = train_test_split(X, y, test_size=0.2, random_state=42)"
   ]
  },
  {
   "cell_type": "code",
   "execution_count": 77,
   "id": "296a9dbc",
   "metadata": {},
   "outputs": [],
   "source": [
    "#X_train = X_train / 16.0\n",
    "#X_test = X_test / 16.0"
   ]
  },
  {
   "cell_type": "code",
   "execution_count": 78,
   "id": "9fc60b2b",
   "metadata": {},
   "outputs": [],
   "source": [
    "#X_train = X_train.reshape(X_train.shape[0], 8, 8, 1)\n",
    "#X_test = X_test.reshape(X_test.shape[0], 8, 8, 1)"
   ]
  },
  {
   "cell_type": "code",
   "execution_count": 79,
   "id": "e1e5a423",
   "metadata": {},
   "outputs": [],
   "source": [
    "#y_train = keras.utils.to_categorical(y_train)\n",
    "#y_test = keras.utils.to_categorical(y_test)"
   ]
  },
  {
   "cell_type": "code",
   "execution_count": 80,
   "id": "1dd25d9c",
   "metadata": {},
   "outputs": [
    {
     "name": "stdout",
     "output_type": "stream",
     "text": [
      "Model: \"sequential_8\"\n",
      "_________________________________________________________________\n",
      " Layer (type)                Output Shape              Param #   \n",
      "=================================================================\n",
      " conv2d_16 (Conv2D)          (None, 6, 6, 64)          640       \n",
      "                                                                 \n",
      " max_pooling2d_8 (MaxPooling  (None, 3, 3, 64)         0         \n",
      " 2D)                                                             \n",
      "                                                                 \n",
      " conv2d_17 (Conv2D)          (None, 1, 1, 64)          36928     \n",
      "                                                                 \n",
      " flatten_8 (Flatten)         (None, 64)                0         \n",
      "                                                                 \n",
      " dense_15 (Dense)            (None, 128)               8320      \n",
      "                                                                 \n",
      " dense_16 (Dense)            (None, 10)                1290      \n",
      "                                                                 \n",
      "=================================================================\n",
      "Total params: 47,178\n",
      "Trainable params: 47,178\n",
      "Non-trainable params: 0\n",
      "_________________________________________________________________\n"
     ]
    }
   ],
   "source": [
    "from keras.models import Sequential\n",
    "from keras.layers import Dense\n",
    "from keras.optimizers import SGD,Adam\n",
    "from keras.layers import Input, Dense\n",
    "from keras import models\n",
    "from keras import layers\n",
    "\n",
    "#model = Model(inputs=inputs, outputs=output)\n",
    "def build_model(): \n",
    "    model = models.Sequential()\n",
    "    model.add(keras.layers.Conv2D(64, kernel_size=(3, 3), activation='relu', input_shape=(8, 8, 1)))\n",
    "    model.add(keras.layers.MaxPooling2D(pool_size=(2, 2)))\n",
    "    model.add(keras.layers.Conv2D(64, kernel_size=(3, 3), activation='relu'))\n",
    "    model.add(keras.layers.Flatten())\n",
    "    model.add(keras.layers.Dense(128, activation='relu'))\n",
    "    model.add(keras.layers.Dense(10, activation='softmax'))\n",
    "\n",
    "    return model\n",
    "\n",
    "\n",
    "model = build_model() \n",
    "\n",
    "model.summary()\n",
    "model.compile(loss='categorical_crossentropy', optimizer='adam', metrics=['accuracy'])"
   ]
  },
  {
   "cell_type": "code",
   "execution_count": 81,
   "id": "2fdf3f1d",
   "metadata": {},
   "outputs": [
    {
     "data": {
      "text/plain": [
       "(1437, 8, 8, 1)"
      ]
     },
     "execution_count": 81,
     "metadata": {},
     "output_type": "execute_result"
    }
   ],
   "source": [
    "X_train.shape"
   ]
  },
  {
   "cell_type": "code",
   "execution_count": 82,
   "id": "a79f9ae4",
   "metadata": {},
   "outputs": [
    {
     "data": {
      "text/plain": [
       "(1437, 10)"
      ]
     },
     "execution_count": 82,
     "metadata": {},
     "output_type": "execute_result"
    }
   ],
   "source": [
    "y_train.shape"
   ]
  },
  {
   "cell_type": "code",
   "execution_count": 83,
   "id": "d80878db",
   "metadata": {},
   "outputs": [
    {
     "name": "stdout",
     "output_type": "stream",
     "text": [
      "Epoch 1/100\n",
      "45/45 [==============================] - 1s 5ms/step - loss: 1.2523 - accuracy: 0.6228 - val_loss: 0.4026 - val_accuracy: 0.8944\n",
      "Epoch 2/100\n",
      "45/45 [==============================] - 0s 2ms/step - loss: 0.2610 - accuracy: 0.9276 - val_loss: 0.1819 - val_accuracy: 0.9417\n",
      "Epoch 3/100\n",
      "45/45 [==============================] - 0s 2ms/step - loss: 0.1324 - accuracy: 0.9603 - val_loss: 0.1115 - val_accuracy: 0.9694\n",
      "Epoch 4/100\n",
      "45/45 [==============================] - 0s 2ms/step - loss: 0.0791 - accuracy: 0.9847 - val_loss: 0.1091 - val_accuracy: 0.9694\n",
      "Epoch 5/100\n",
      "45/45 [==============================] - 0s 2ms/step - loss: 0.0639 - accuracy: 0.9833 - val_loss: 0.0795 - val_accuracy: 0.9722\n",
      "Epoch 6/100\n",
      "45/45 [==============================] - 0s 2ms/step - loss: 0.0437 - accuracy: 0.9896 - val_loss: 0.0558 - val_accuracy: 0.9750\n",
      "Epoch 7/100\n",
      "45/45 [==============================] - 0s 2ms/step - loss: 0.0242 - accuracy: 0.9951 - val_loss: 0.0535 - val_accuracy: 0.9778\n",
      "Epoch 8/100\n",
      "45/45 [==============================] - 0s 2ms/step - loss: 0.0241 - accuracy: 0.9937 - val_loss: 0.0788 - val_accuracy: 0.9778\n",
      "Epoch 9/100\n",
      "45/45 [==============================] - 0s 2ms/step - loss: 0.0281 - accuracy: 0.9910 - val_loss: 0.0935 - val_accuracy: 0.9667\n",
      "Epoch 10/100\n",
      "45/45 [==============================] - 0s 2ms/step - loss: 0.0125 - accuracy: 0.9986 - val_loss: 0.0405 - val_accuracy: 0.9861\n",
      "Epoch 11/100\n",
      "45/45 [==============================] - 0s 2ms/step - loss: 0.0139 - accuracy: 0.9958 - val_loss: 0.0456 - val_accuracy: 0.9917\n",
      "Epoch 12/100\n",
      "45/45 [==============================] - 0s 2ms/step - loss: 0.0071 - accuracy: 0.9993 - val_loss: 0.0393 - val_accuracy: 0.9833\n",
      "Epoch 13/100\n",
      "45/45 [==============================] - 0s 2ms/step - loss: 0.0060 - accuracy: 1.0000 - val_loss: 0.0491 - val_accuracy: 0.9889\n",
      "Epoch 14/100\n",
      "45/45 [==============================] - 0s 2ms/step - loss: 0.0045 - accuracy: 1.0000 - val_loss: 0.0446 - val_accuracy: 0.9833\n",
      "Epoch 15/100\n",
      "45/45 [==============================] - 0s 2ms/step - loss: 0.0030 - accuracy: 1.0000 - val_loss: 0.0451 - val_accuracy: 0.9833\n",
      "Epoch 16/100\n",
      "45/45 [==============================] - 0s 2ms/step - loss: 0.0018 - accuracy: 1.0000 - val_loss: 0.0404 - val_accuracy: 0.9833\n",
      "Epoch 17/100\n",
      "45/45 [==============================] - 0s 2ms/step - loss: 0.0015 - accuracy: 1.0000 - val_loss: 0.0372 - val_accuracy: 0.9833\n",
      "Epoch 18/100\n",
      "45/45 [==============================] - 0s 2ms/step - loss: 0.0014 - accuracy: 1.0000 - val_loss: 0.0386 - val_accuracy: 0.9833\n",
      "Epoch 19/100\n",
      "45/45 [==============================] - 0s 2ms/step - loss: 0.0015 - accuracy: 1.0000 - val_loss: 0.0400 - val_accuracy: 0.9833\n",
      "Epoch 20/100\n",
      "45/45 [==============================] - 0s 2ms/step - loss: 0.0012 - accuracy: 1.0000 - val_loss: 0.0357 - val_accuracy: 0.9833\n",
      "Epoch 21/100\n",
      "45/45 [==============================] - 0s 2ms/step - loss: 9.6832e-04 - accuracy: 1.0000 - val_loss: 0.0395 - val_accuracy: 0.9833\n",
      "Epoch 22/100\n",
      "45/45 [==============================] - 0s 2ms/step - loss: 9.3313e-04 - accuracy: 1.0000 - val_loss: 0.0401 - val_accuracy: 0.9833\n",
      "Epoch 23/100\n",
      "45/45 [==============================] - 0s 2ms/step - loss: 7.5915e-04 - accuracy: 1.0000 - val_loss: 0.0414 - val_accuracy: 0.9833\n",
      "Epoch 24/100\n",
      "45/45 [==============================] - 0s 2ms/step - loss: 6.8324e-04 - accuracy: 1.0000 - val_loss: 0.0410 - val_accuracy: 0.9833\n",
      "Epoch 25/100\n",
      "45/45 [==============================] - 0s 2ms/step - loss: 6.3811e-04 - accuracy: 1.0000 - val_loss: 0.0355 - val_accuracy: 0.9833\n",
      "Epoch 26/100\n",
      "45/45 [==============================] - 0s 2ms/step - loss: 6.3689e-04 - accuracy: 1.0000 - val_loss: 0.0389 - val_accuracy: 0.9833\n",
      "Epoch 27/100\n",
      "45/45 [==============================] - 0s 2ms/step - loss: 5.6872e-04 - accuracy: 1.0000 - val_loss: 0.0393 - val_accuracy: 0.9833\n",
      "Epoch 28/100\n",
      "45/45 [==============================] - 0s 2ms/step - loss: 5.3011e-04 - accuracy: 1.0000 - val_loss: 0.0402 - val_accuracy: 0.9833\n",
      "Epoch 29/100\n",
      "45/45 [==============================] - 0s 2ms/step - loss: 4.7323e-04 - accuracy: 1.0000 - val_loss: 0.0381 - val_accuracy: 0.9833\n",
      "Epoch 30/100\n",
      "45/45 [==============================] - 0s 2ms/step - loss: 4.4205e-04 - accuracy: 1.0000 - val_loss: 0.0356 - val_accuracy: 0.9833\n",
      "Epoch 31/100\n",
      "45/45 [==============================] - 0s 2ms/step - loss: 4.5930e-04 - accuracy: 1.0000 - val_loss: 0.0385 - val_accuracy: 0.9833\n",
      "Epoch 32/100\n",
      "45/45 [==============================] - 0s 2ms/step - loss: 4.3079e-04 - accuracy: 1.0000 - val_loss: 0.0381 - val_accuracy: 0.9833\n",
      "Epoch 33/100\n",
      "45/45 [==============================] - 0s 2ms/step - loss: 3.7214e-04 - accuracy: 1.0000 - val_loss: 0.0422 - val_accuracy: 0.9833\n",
      "Epoch 34/100\n",
      "45/45 [==============================] - 0s 2ms/step - loss: 3.5620e-04 - accuracy: 1.0000 - val_loss: 0.0404 - val_accuracy: 0.9833\n",
      "Epoch 35/100\n",
      "45/45 [==============================] - 0s 2ms/step - loss: 3.1948e-04 - accuracy: 1.0000 - val_loss: 0.0391 - val_accuracy: 0.9833\n",
      "Epoch 36/100\n",
      "45/45 [==============================] - 0s 2ms/step - loss: 3.0045e-04 - accuracy: 1.0000 - val_loss: 0.0372 - val_accuracy: 0.9833\n",
      "Epoch 37/100\n",
      "45/45 [==============================] - 0s 2ms/step - loss: 2.9288e-04 - accuracy: 1.0000 - val_loss: 0.0383 - val_accuracy: 0.9833\n",
      "Epoch 38/100\n",
      "45/45 [==============================] - 0s 2ms/step - loss: 2.8995e-04 - accuracy: 1.0000 - val_loss: 0.0410 - val_accuracy: 0.9833\n",
      "Epoch 39/100\n",
      "45/45 [==============================] - 0s 2ms/step - loss: 2.5759e-04 - accuracy: 1.0000 - val_loss: 0.0395 - val_accuracy: 0.9833\n",
      "Epoch 40/100\n",
      "45/45 [==============================] - 0s 2ms/step - loss: 2.5305e-04 - accuracy: 1.0000 - val_loss: 0.0381 - val_accuracy: 0.9833\n",
      "Epoch 41/100\n",
      "45/45 [==============================] - 0s 2ms/step - loss: 2.3653e-04 - accuracy: 1.0000 - val_loss: 0.0404 - val_accuracy: 0.9833\n",
      "Epoch 42/100\n",
      "45/45 [==============================] - 0s 2ms/step - loss: 2.1965e-04 - accuracy: 1.0000 - val_loss: 0.0402 - val_accuracy: 0.9833\n",
      "Epoch 43/100\n",
      "45/45 [==============================] - 0s 2ms/step - loss: 2.1101e-04 - accuracy: 1.0000 - val_loss: 0.0411 - val_accuracy: 0.9833\n",
      "Epoch 44/100\n",
      "45/45 [==============================] - 0s 2ms/step - loss: 1.9880e-04 - accuracy: 1.0000 - val_loss: 0.0407 - val_accuracy: 0.9833\n",
      "Epoch 45/100\n",
      "45/45 [==============================] - 0s 2ms/step - loss: 1.9044e-04 - accuracy: 1.0000 - val_loss: 0.0420 - val_accuracy: 0.9833\n",
      "Epoch 46/100\n",
      "45/45 [==============================] - 0s 2ms/step - loss: 1.8385e-04 - accuracy: 1.0000 - val_loss: 0.0382 - val_accuracy: 0.9833\n",
      "Epoch 47/100\n",
      "45/45 [==============================] - 0s 2ms/step - loss: 1.6992e-04 - accuracy: 1.0000 - val_loss: 0.0405 - val_accuracy: 0.9833\n",
      "Epoch 48/100\n",
      "45/45 [==============================] - 0s 2ms/step - loss: 1.6267e-04 - accuracy: 1.0000 - val_loss: 0.0394 - val_accuracy: 0.9833\n",
      "Epoch 49/100\n",
      "45/45 [==============================] - 0s 2ms/step - loss: 1.5419e-04 - accuracy: 1.0000 - val_loss: 0.0396 - val_accuracy: 0.9833\n",
      "Epoch 50/100\n",
      "45/45 [==============================] - 0s 2ms/step - loss: 1.4859e-04 - accuracy: 1.0000 - val_loss: 0.0385 - val_accuracy: 0.9833\n",
      "Epoch 51/100\n",
      "45/45 [==============================] - 0s 2ms/step - loss: 1.4153e-04 - accuracy: 1.0000 - val_loss: 0.0416 - val_accuracy: 0.9833\n",
      "Epoch 52/100\n",
      "45/45 [==============================] - 0s 2ms/step - loss: 1.3695e-04 - accuracy: 1.0000 - val_loss: 0.0421 - val_accuracy: 0.9833\n",
      "Epoch 53/100\n",
      "45/45 [==============================] - 0s 2ms/step - loss: 1.2992e-04 - accuracy: 1.0000 - val_loss: 0.0406 - val_accuracy: 0.9833\n",
      "Epoch 54/100\n",
      "45/45 [==============================] - 0s 2ms/step - loss: 1.2313e-04 - accuracy: 1.0000 - val_loss: 0.0406 - val_accuracy: 0.9833\n",
      "Epoch 55/100\n",
      "45/45 [==============================] - 0s 2ms/step - loss: 1.1967e-04 - accuracy: 1.0000 - val_loss: 0.0408 - val_accuracy: 0.9833\n",
      "Epoch 56/100\n",
      "45/45 [==============================] - 0s 2ms/step - loss: 1.1394e-04 - accuracy: 1.0000 - val_loss: 0.0414 - val_accuracy: 0.9833\n",
      "Epoch 57/100\n",
      "45/45 [==============================] - 0s 2ms/step - loss: 1.0863e-04 - accuracy: 1.0000 - val_loss: 0.0420 - val_accuracy: 0.9833\n",
      "Epoch 58/100\n",
      "45/45 [==============================] - 0s 2ms/step - loss: 1.0583e-04 - accuracy: 1.0000 - val_loss: 0.0398 - val_accuracy: 0.9833\n",
      "Epoch 59/100\n",
      "45/45 [==============================] - 0s 2ms/step - loss: 9.7756e-05 - accuracy: 1.0000 - val_loss: 0.0404 - val_accuracy: 0.9833\n",
      "Epoch 60/100\n",
      "45/45 [==============================] - 0s 2ms/step - loss: 9.6139e-05 - accuracy: 1.0000 - val_loss: 0.0392 - val_accuracy: 0.9833\n",
      "Epoch 61/100\n",
      "45/45 [==============================] - 0s 2ms/step - loss: 9.0892e-05 - accuracy: 1.0000 - val_loss: 0.0416 - val_accuracy: 0.9833\n",
      "Epoch 62/100\n",
      "45/45 [==============================] - 0s 2ms/step - loss: 8.6609e-05 - accuracy: 1.0000 - val_loss: 0.0397 - val_accuracy: 0.9833\n",
      "Epoch 63/100\n",
      "45/45 [==============================] - 0s 2ms/step - loss: 8.4637e-05 - accuracy: 1.0000 - val_loss: 0.0414 - val_accuracy: 0.9833\n",
      "Epoch 64/100\n",
      "45/45 [==============================] - 0s 2ms/step - loss: 8.1056e-05 - accuracy: 1.0000 - val_loss: 0.0386 - val_accuracy: 0.9861\n",
      "Epoch 65/100\n",
      "45/45 [==============================] - 0s 2ms/step - loss: 7.7479e-05 - accuracy: 1.0000 - val_loss: 0.0419 - val_accuracy: 0.9833\n",
      "Epoch 66/100\n",
      "45/45 [==============================] - 0s 2ms/step - loss: 7.3828e-05 - accuracy: 1.0000 - val_loss: 0.0383 - val_accuracy: 0.9861\n",
      "Epoch 67/100\n",
      "45/45 [==============================] - 0s 2ms/step - loss: 7.1500e-05 - accuracy: 1.0000 - val_loss: 0.0397 - val_accuracy: 0.9861\n",
      "Epoch 68/100\n",
      "45/45 [==============================] - 0s 2ms/step - loss: 6.7010e-05 - accuracy: 1.0000 - val_loss: 0.0393 - val_accuracy: 0.9833\n",
      "Epoch 69/100\n",
      "45/45 [==============================] - 0s 2ms/step - loss: 6.6023e-05 - accuracy: 1.0000 - val_loss: 0.0385 - val_accuracy: 0.9833\n",
      "Epoch 70/100\n",
      "45/45 [==============================] - 0s 2ms/step - loss: 6.2761e-05 - accuracy: 1.0000 - val_loss: 0.0394 - val_accuracy: 0.9861\n",
      "Epoch 71/100\n",
      "45/45 [==============================] - 0s 2ms/step - loss: 6.1069e-05 - accuracy: 1.0000 - val_loss: 0.0392 - val_accuracy: 0.9833\n",
      "Epoch 72/100\n",
      "45/45 [==============================] - 0s 2ms/step - loss: 5.8165e-05 - accuracy: 1.0000 - val_loss: 0.0387 - val_accuracy: 0.9861\n",
      "Epoch 73/100\n",
      "45/45 [==============================] - 0s 2ms/step - loss: 5.7970e-05 - accuracy: 1.0000 - val_loss: 0.0394 - val_accuracy: 0.9833\n",
      "Epoch 74/100\n",
      "45/45 [==============================] - 0s 2ms/step - loss: 5.5177e-05 - accuracy: 1.0000 - val_loss: 0.0403 - val_accuracy: 0.9833\n",
      "Epoch 75/100\n",
      "45/45 [==============================] - 0s 2ms/step - loss: 5.3627e-05 - accuracy: 1.0000 - val_loss: 0.0409 - val_accuracy: 0.9833\n",
      "Epoch 76/100\n",
      "45/45 [==============================] - 0s 2ms/step - loss: 5.1126e-05 - accuracy: 1.0000 - val_loss: 0.0410 - val_accuracy: 0.9833\n",
      "Epoch 77/100\n",
      "45/45 [==============================] - 0s 2ms/step - loss: 4.8850e-05 - accuracy: 1.0000 - val_loss: 0.0399 - val_accuracy: 0.9833\n",
      "Epoch 78/100\n",
      "45/45 [==============================] - 0s 2ms/step - loss: 4.9556e-05 - accuracy: 1.0000 - val_loss: 0.0411 - val_accuracy: 0.9861\n",
      "Epoch 79/100\n",
      "45/45 [==============================] - 0s 2ms/step - loss: 4.6280e-05 - accuracy: 1.0000 - val_loss: 0.0431 - val_accuracy: 0.9833\n",
      "Epoch 80/100\n",
      "45/45 [==============================] - 0s 2ms/step - loss: 4.6850e-05 - accuracy: 1.0000 - val_loss: 0.0403 - val_accuracy: 0.9833\n",
      "Epoch 81/100\n",
      "45/45 [==============================] - 0s 2ms/step - loss: 4.2763e-05 - accuracy: 1.0000 - val_loss: 0.0403 - val_accuracy: 0.9861\n",
      "Epoch 82/100\n",
      "45/45 [==============================] - 0s 2ms/step - loss: 4.1151e-05 - accuracy: 1.0000 - val_loss: 0.0398 - val_accuracy: 0.9861\n",
      "Epoch 83/100\n",
      "45/45 [==============================] - 0s 2ms/step - loss: 4.0017e-05 - accuracy: 1.0000 - val_loss: 0.0393 - val_accuracy: 0.9861\n",
      "Epoch 84/100\n",
      "45/45 [==============================] - 0s 2ms/step - loss: 3.9539e-05 - accuracy: 1.0000 - val_loss: 0.0432 - val_accuracy: 0.9861\n",
      "Epoch 85/100\n",
      "45/45 [==============================] - 0s 2ms/step - loss: 3.7334e-05 - accuracy: 1.0000 - val_loss: 0.0404 - val_accuracy: 0.9861\n",
      "Epoch 86/100\n",
      "45/45 [==============================] - 0s 2ms/step - loss: 3.5159e-05 - accuracy: 1.0000 - val_loss: 0.0429 - val_accuracy: 0.9833\n",
      "Epoch 87/100\n",
      "45/45 [==============================] - 0s 2ms/step - loss: 3.5335e-05 - accuracy: 1.0000 - val_loss: 0.0417 - val_accuracy: 0.9861\n",
      "Epoch 88/100\n",
      "45/45 [==============================] - 0s 2ms/step - loss: 3.3077e-05 - accuracy: 1.0000 - val_loss: 0.0406 - val_accuracy: 0.9833\n",
      "Epoch 89/100\n",
      "45/45 [==============================] - 0s 2ms/step - loss: 3.1656e-05 - accuracy: 1.0000 - val_loss: 0.0407 - val_accuracy: 0.9833\n",
      "Epoch 90/100\n",
      "45/45 [==============================] - 0s 2ms/step - loss: 3.0868e-05 - accuracy: 1.0000 - val_loss: 0.0400 - val_accuracy: 0.9861\n",
      "Epoch 91/100\n",
      "45/45 [==============================] - 0s 2ms/step - loss: 3.0207e-05 - accuracy: 1.0000 - val_loss: 0.0402 - val_accuracy: 0.9833\n",
      "Epoch 92/100\n",
      "45/45 [==============================] - 0s 2ms/step - loss: 2.8836e-05 - accuracy: 1.0000 - val_loss: 0.0420 - val_accuracy: 0.9833\n",
      "Epoch 93/100\n",
      "45/45 [==============================] - 0s 2ms/step - loss: 2.7760e-05 - accuracy: 1.0000 - val_loss: 0.0404 - val_accuracy: 0.9861\n",
      "Epoch 94/100\n",
      "45/45 [==============================] - 0s 2ms/step - loss: 2.6833e-05 - accuracy: 1.0000 - val_loss: 0.0420 - val_accuracy: 0.9861\n",
      "Epoch 95/100\n",
      "45/45 [==============================] - 0s 2ms/step - loss: 2.6306e-05 - accuracy: 1.0000 - val_loss: 0.0400 - val_accuracy: 0.9861\n",
      "Epoch 96/100\n",
      "45/45 [==============================] - 0s 2ms/step - loss: 2.5640e-05 - accuracy: 1.0000 - val_loss: 0.0432 - val_accuracy: 0.9833\n",
      "Epoch 97/100\n",
      "45/45 [==============================] - 0s 2ms/step - loss: 2.4702e-05 - accuracy: 1.0000 - val_loss: 0.0395 - val_accuracy: 0.9861\n",
      "Epoch 98/100\n",
      "45/45 [==============================] - 0s 2ms/step - loss: 2.4231e-05 - accuracy: 1.0000 - val_loss: 0.0419 - val_accuracy: 0.9861\n",
      "Epoch 99/100\n",
      "45/45 [==============================] - 0s 2ms/step - loss: 2.2869e-05 - accuracy: 1.0000 - val_loss: 0.0418 - val_accuracy: 0.9861\n",
      "Epoch 100/100\n",
      "45/45 [==============================] - 0s 2ms/step - loss: 2.2157e-05 - accuracy: 1.0000 - val_loss: 0.0412 - val_accuracy: 0.9861\n",
      "12/12 [==============================] - 0s 725us/step\n"
     ]
    }
   ],
   "source": [
    "#fitting the model and predicting \n",
    "\n",
    "# fit network\n",
    "model_history=model.fit(x=X_train, y=y_train, epochs=100, batch_size=32,validation_data= (X_test,y_test))\n",
    "y_pred = model.predict(X_test)\n",
    "\n",
    "y_test_class = np.argmax(y_test,axis=1)\n",
    "y_pred_class = np.argmax(y_pred,axis=1)"
   ]
  },
  {
   "cell_type": "code",
   "execution_count": 84,
   "id": "aafe34c7",
   "metadata": {},
   "outputs": [
    {
     "data": {
      "image/png": "[encoded data removed]",
      "text/plain": [
       "<Figure size 640x480 with 1 Axes>"
      ]
     },
     "metadata": {},
     "output_type": "display_data"
    }
   ],
   "source": [
    "import matplotlib.pyplot as plt\n",
    "import seaborn as sns\n",
    "\n",
    "loss =model_history.history['loss']\n",
    "val_loss =model_history.history['val_loss']\n",
    "epochs = range(1, len(loss) + 1)\n",
    "plt.plot(epochs, loss, 'y', label='Training loss')\n",
    "plt.plot(epochs, val_loss, 'r', label='Validation loss')\n",
    "plt.title('Training and validation loss')\n",
    "plt.xlabel('Epochs')\n",
    "plt.ylabel('Loss')\n",
    "plt.legend()\n",
    "plt.show()"
   ]
  },
  {
   "cell_type": "code",
   "execution_count": 85,
   "id": "1740b556",
   "metadata": {},
   "outputs": [
    {
     "name": "stdout",
     "output_type": "stream",
     "text": [
      "              precision    recall  f1-score   support\n",
      "\n",
      "           0       1.00      1.00      1.00        33\n",
      "           1       0.97      1.00      0.98        28\n",
      "           2       0.97      1.00      0.99        33\n",
      "           3       1.00      0.97      0.99        34\n",
      "           4       1.00      1.00      1.00        46\n",
      "           5       0.96      0.96      0.96        47\n",
      "           6       0.97      1.00      0.99        35\n",
      "           7       1.00      1.00      1.00        34\n",
      "           8       1.00      0.93      0.97        30\n",
      "           9       1.00      1.00      1.00        40\n",
      "\n",
      "    accuracy                           0.99       360\n",
      "   macro avg       0.99      0.99      0.99       360\n",
      "weighted avg       0.99      0.99      0.99       360\n",
      "\n",
      "[[33  0  0  0  0  0  0  0  0  0]\n",
      " [ 0 28  0  0  0  0  0  0  0  0]\n",
      " [ 0  0 33  0  0  0  0  0  0  0]\n",
      " [ 0  0  0 33  0  1  0  0  0  0]\n",
      " [ 0  0  0  0 46  0  0  0  0  0]\n",
      " [ 0  0  1  0  0 45  1  0  0  0]\n",
      " [ 0  0  0  0  0  0 35  0  0  0]\n",
      " [ 0  0  0  0  0  0  0 34  0  0]\n",
      " [ 0  1  0  0  0  1  0  0 28  0]\n",
      " [ 0  0  0  0  0  0  0  0  0 40]]\n"
     ]
    }
   ],
   "source": [
    "#Accuracy of the predicted values\n",
    "from sklearn.metrics import classification_report,confusion_matrix\n",
    "print(classification_report(y_test_class,y_pred_class))\n",
    "print(confusion_matrix(y_test_class,y_pred_class))"
   ]
  },
  {
   "cell_type": "code",
   "execution_count": null,
   "id": "015c1b0d",
   "metadata": {},
   "outputs": [],
   "source": []
  }
 ],
 "metadata": {
  "kernelspec": {
   "display_name": "Python 3 (ipykernel)",
   "language": "python",
   "name": "python3"
  },
  "language_info": {
   "codemirror_mode": {
    "name": "ipython",
    "version": 3
   },
   "file_extension": ".py",
   "mimetype": "text/x-python",
   "name": "python",
   "nbconvert_exporter": "python",
   "pygments_lexer": "ipython3",
   "version": "3.10.9"
  }
 },
 "nbformat": 4,
 "nbformat_minor": 5
}
