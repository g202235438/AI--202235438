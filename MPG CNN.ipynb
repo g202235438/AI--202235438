{
 "cells": [
  {
   "cell_type": "code",
   "execution_count": 54,
   "id": "b5d411b9",
   "metadata": {},
   "outputs": [],
   "source": [
    "import matplotlib.pyplot as plt\n",
    "import pandas as pd\n",
    "import seaborn as sns\n",
    "import numpy as np\n",
    "\n",
    "import pathlib\n",
    "import tensorflow as tf\n",
    "from tensorflow import keras\n",
    "from tensorflow.keras import layers"
   ]
  },
  {
   "cell_type": "code",
   "execution_count": 55,
   "id": "cbe2acb8",
   "metadata": {},
   "outputs": [
    {
     "data": {
      "text/plain": [
       "'C:\\\\Users\\\\ADMIN\\\\.keras\\\\datasets\\\\auto-mpg.data'"
      ]
     },
     "execution_count": 55,
     "metadata": {},
     "output_type": "execute_result"
    }
   ],
   "source": [
    "dataset_path = keras.utils.get_file(\"auto-mpg.data\", \"http://archive.ics.uci.edu/ml/machine-learning-databases/auto-mpg/auto-mpg.data\")\n",
    "dataset_path"
   ]
  },
  {
   "cell_type": "code",
   "execution_count": 56,
   "id": "ad6edde5",
   "metadata": {},
   "outputs": [
    {
     "data": {
      "text/html": [
       "<div>\n",
       "<style scoped>\n",
       "    .dataframe tbody tr th:only-of-type {\n",
       "        vertical-align: middle;\n",
       "    }\n",
       "\n",
       "    .dataframe tbody tr th {\n",
       "        vertical-align: top;\n",
       "    }\n",
       "\n",
       "    .dataframe thead th {\n",
       "        text-align: right;\n",
       "    }\n",
       "</style>\n",
       "<table border=\"1\" class=\"dataframe\">\n",
       "  <thead>\n",
       "    <tr style=\"text-align: right;\">\n",
       "      <th></th>\n",
       "      <th>MPG</th>\n",
       "      <th>Cylinders</th>\n",
       "      <th>Displacement</th>\n",
       "      <th>Horsepower</th>\n",
       "      <th>Weight</th>\n",
       "      <th>Acceleration</th>\n",
       "      <th>Model Year</th>\n",
       "      <th>Origin</th>\n",
       "    </tr>\n",
       "  </thead>\n",
       "  <tbody>\n",
       "    <tr>\n",
       "      <th>0</th>\n",
       "      <td>18.0</td>\n",
       "      <td>8</td>\n",
       "      <td>307.0</td>\n",
       "      <td>130.0</td>\n",
       "      <td>3504.0</td>\n",
       "      <td>12.0</td>\n",
       "      <td>70</td>\n",
       "      <td>1</td>\n",
       "    </tr>\n",
       "    <tr>\n",
       "      <th>1</th>\n",
       "      <td>15.0</td>\n",
       "      <td>8</td>\n",
       "      <td>350.0</td>\n",
       "      <td>165.0</td>\n",
       "      <td>3693.0</td>\n",
       "      <td>11.5</td>\n",
       "      <td>70</td>\n",
       "      <td>1</td>\n",
       "    </tr>\n",
       "    <tr>\n",
       "      <th>2</th>\n",
       "      <td>18.0</td>\n",
       "      <td>8</td>\n",
       "      <td>318.0</td>\n",
       "      <td>150.0</td>\n",
       "      <td>3436.0</td>\n",
       "      <td>11.0</td>\n",
       "      <td>70</td>\n",
       "      <td>1</td>\n",
       "    </tr>\n",
       "    <tr>\n",
       "      <th>3</th>\n",
       "      <td>16.0</td>\n",
       "      <td>8</td>\n",
       "      <td>304.0</td>\n",
       "      <td>150.0</td>\n",
       "      <td>3433.0</td>\n",
       "      <td>12.0</td>\n",
       "      <td>70</td>\n",
       "      <td>1</td>\n",
       "    </tr>\n",
       "    <tr>\n",
       "      <th>4</th>\n",
       "      <td>17.0</td>\n",
       "      <td>8</td>\n",
       "      <td>302.0</td>\n",
       "      <td>140.0</td>\n",
       "      <td>3449.0</td>\n",
       "      <td>10.5</td>\n",
       "      <td>70</td>\n",
       "      <td>1</td>\n",
       "    </tr>\n",
       "  </tbody>\n",
       "</table>\n",
       "</div>"
      ],
      "text/plain": [
       "    MPG  Cylinders  Displacement  Horsepower  Weight  Acceleration  \\\n",
       "0  18.0          8         307.0       130.0  3504.0          12.0   \n",
       "1  15.0          8         350.0       165.0  3693.0          11.5   \n",
       "2  18.0          8         318.0       150.0  3436.0          11.0   \n",
       "3  16.0          8         304.0       150.0  3433.0          12.0   \n",
       "4  17.0          8         302.0       140.0  3449.0          10.5   \n",
       "\n",
       "   Model Year  Origin  \n",
       "0          70       1  \n",
       "1          70       1  \n",
       "2          70       1  \n",
       "3          70       1  \n",
       "4          70       1  "
      ]
     },
     "execution_count": 56,
     "metadata": {},
     "output_type": "execute_result"
    }
   ],
   "source": [
    "column_names = ['MPG','Cylinders','Displacement','Horsepower','Weight',\n",
    "                'Acceleration', 'Model Year', 'Origin']\n",
    "raw_dataset = pd.read_csv(dataset_path, names=column_names,\n",
    "                      na_values = \"?\", comment='\\t',\n",
    "                      sep=\" \", skipinitialspace=True)\n",
    "\n",
    "dataset = raw_dataset.copy()\n",
    "dataset.head()"
   ]
  },
  {
   "cell_type": "code",
   "execution_count": 57,
   "id": "d66a904c",
   "metadata": {},
   "outputs": [
    {
     "data": {
      "text/plain": [
       "MPG             0\n",
       "Cylinders       0\n",
       "Displacement    0\n",
       "Horsepower      6\n",
       "Weight          0\n",
       "Acceleration    0\n",
       "Model Year      0\n",
       "Origin          0\n",
       "dtype: int64"
      ]
     },
     "execution_count": 57,
     "metadata": {},
     "output_type": "execute_result"
    }
   ],
   "source": [
    "dataset.isna().sum()"
   ]
  },
  {
   "cell_type": "code",
   "execution_count": 58,
   "id": "4e5e5b4a",
   "metadata": {},
   "outputs": [],
   "source": [
    "dataset = dataset.dropna()"
   ]
  },
  {
   "cell_type": "code",
   "execution_count": 59,
   "id": "114eb60e",
   "metadata": {},
   "outputs": [
    {
     "data": {
      "image/png": "[encoded data removed]",
      "text/plain": [
       "<Figure size 720x720 with 1 Axes>"
      ]
     },
     "metadata": {},
     "output_type": "display_data"
    }
   ],
   "source": [
    "#상관 관계 행렬\n",
    "data_corr=dataset.corr()\n",
    "\n",
    "#히트맵\n",
    "plt.figure(figsize=(10,10))\n",
    "sns.set(font_scale=0.8)\n",
    "sns.heatmap(data_corr, annot=True, cbar=False)\n",
    "plt.show()"
   ]
  },
  {
   "cell_type": "code",
   "execution_count": 60,
   "id": "cd8c671b",
   "metadata": {},
   "outputs": [
    {
     "data": {
      "text/plain": [
       "(392, 8)"
      ]
     },
     "execution_count": 60,
     "metadata": {},
     "output_type": "execute_result"
    }
   ],
   "source": [
    "dataset.shape"
   ]
  },
  {
   "cell_type": "code",
   "execution_count": 61,
   "id": "cdc7d29c",
   "metadata": {},
   "outputs": [],
   "source": [
    "n_features = 1\n",
    "X = dataset.iloc[:,1:8].values"
   ]
  },
  {
   "cell_type": "code",
   "execution_count": 62,
   "id": "1cf54d52",
   "metadata": {},
   "outputs": [],
   "source": [
    "#Splitting the data into training and test test\n",
    "X = X.reshape((X.shape[0], X.shape[1], n_features))\n",
    "Y = dataset.iloc[:,0].values\n",
    "'''\n",
    "from sklearn.preprocessing import LabelEncoder\n",
    "encoder =  LabelEncoder()\n",
    "y1 = encoder.fit_transform(y)\n",
    "\n",
    "Y = pd.get_dummies(y1).values\n",
    "'''\n",
    "\n",
    "from sklearn.model_selection import train_test_split\n",
    "X_train,X_test, y_train,y_test = train_test_split(X,Y,test_size=0.2,random_state=0) "
   ]
  },
  {
   "cell_type": "code",
   "execution_count": 63,
   "id": "1e5b64c2",
   "metadata": {},
   "outputs": [
    {
     "data": {
      "text/plain": [
       "array([[[  8. ],\n",
       "        [307. ],\n",
       "        [130. ],\n",
       "        ...,\n",
       "        [ 12. ],\n",
       "        [ 70. ],\n",
       "        [  1. ]],\n",
       "\n",
       "       [[  8. ],\n",
       "        [350. ],\n",
       "        [165. ],\n",
       "        ...,\n",
       "        [ 11.5],\n",
       "        [ 70. ],\n",
       "        [  1. ]],\n",
       "\n",
       "       [[  8. ],\n",
       "        [318. ],\n",
       "        [150. ],\n",
       "        ...,\n",
       "        [ 11. ],\n",
       "        [ 70. ],\n",
       "        [  1. ]],\n",
       "\n",
       "       ...,\n",
       "\n",
       "       [[  4. ],\n",
       "        [135. ],\n",
       "        [ 84. ],\n",
       "        ...,\n",
       "        [ 11.6],\n",
       "        [ 82. ],\n",
       "        [  1. ]],\n",
       "\n",
       "       [[  4. ],\n",
       "        [120. ],\n",
       "        [ 79. ],\n",
       "        ...,\n",
       "        [ 18.6],\n",
       "        [ 82. ],\n",
       "        [  1. ]],\n",
       "\n",
       "       [[  4. ],\n",
       "        [119. ],\n",
       "        [ 82. ],\n",
       "        ...,\n",
       "        [ 19.4],\n",
       "        [ 82. ],\n",
       "        [  1. ]]])"
      ]
     },
     "execution_count": 63,
     "metadata": {},
     "output_type": "execute_result"
    }
   ],
   "source": [
    "X"
   ]
  },
  {
   "cell_type": "code",
   "execution_count": 64,
   "id": "3b289dbc",
   "metadata": {},
   "outputs": [
    {
     "data": {
      "text/plain": [
       "(392, 7, 1)"
      ]
     },
     "execution_count": 64,
     "metadata": {},
     "output_type": "execute_result"
    }
   ],
   "source": [
    "X.shape"
   ]
  },
  {
   "cell_type": "code",
   "execution_count": 65,
   "id": "07d9a96d",
   "metadata": {},
   "outputs": [
    {
     "data": {
      "text/plain": [
       "array([18. , 15. , 18. , 16. , 17. , 15. , 14. , 14. , 14. , 15. , 15. ,\n",
       "       14. , 15. , 14. , 24. , 22. , 18. , 21. , 27. , 26. , 25. , 24. ,\n",
       "       25. , 26. , 21. , 10. , 10. , 11. ,  9. , 27. , 28. , 25. , 19. ,\n",
       "       16. , 17. , 19. , 18. , 14. , 14. , 14. , 14. , 12. , 13. , 13. ,\n",
       "       18. , 22. , 19. , 18. , 23. , 28. , 30. , 30. , 31. , 35. , 27. ,\n",
       "       26. , 24. , 25. , 23. , 20. , 21. , 13. , 14. , 15. , 14. , 17. ,\n",
       "       11. , 13. , 12. , 13. , 19. , 15. , 13. , 13. , 14. , 18. , 22. ,\n",
       "       21. , 26. , 22. , 28. , 23. , 28. , 27. , 13. , 14. , 13. , 14. ,\n",
       "       15. , 12. , 13. , 13. , 14. , 13. , 12. , 13. , 18. , 16. , 18. ,\n",
       "       18. , 23. , 26. , 11. , 12. , 13. , 12. , 18. , 20. , 21. , 22. ,\n",
       "       18. , 19. , 21. , 26. , 15. , 16. , 29. , 24. , 20. , 19. , 15. ,\n",
       "       24. , 20. , 11. , 20. , 19. , 15. , 31. , 26. , 32. , 25. , 16. ,\n",
       "       16. , 18. , 16. , 13. , 14. , 14. , 14. , 29. , 26. , 26. , 31. ,\n",
       "       32. , 28. , 24. , 26. , 24. , 26. , 31. , 19. , 18. , 15. , 15. ,\n",
       "       16. , 15. , 16. , 14. , 17. , 16. , 15. , 18. , 21. , 20. , 13. ,\n",
       "       29. , 23. , 20. , 23. , 24. , 25. , 24. , 18. , 29. , 19. , 23. ,\n",
       "       23. , 22. , 25. , 33. , 28. , 25. , 25. , 26. , 27. , 17.5, 16. ,\n",
       "       15.5, 14.5, 22. , 22. , 24. , 22.5, 29. , 24.5, 29. , 33. , 20. ,\n",
       "       18. , 18.5, 17.5, 29.5, 32. , 28. , 26.5, 20. , 13. , 19. , 19. ,\n",
       "       16.5, 16.5, 13. , 13. , 13. , 31.5, 30. , 36. , 25.5, 33.5, 17.5,\n",
       "       17. , 15.5, 15. , 17.5, 20.5, 19. , 18.5, 16. , 15.5, 15.5, 16. ,\n",
       "       29. , 24.5, 26. , 25.5, 30.5, 33.5, 30. , 30.5, 22. , 21.5, 21.5,\n",
       "       43.1, 36.1, 32.8, 39.4, 36.1, 19.9, 19.4, 20.2, 19.2, 20.5, 20.2,\n",
       "       25.1, 20.5, 19.4, 20.6, 20.8, 18.6, 18.1, 19.2, 17.7, 18.1, 17.5,\n",
       "       30. , 27.5, 27.2, 30.9, 21.1, 23.2, 23.8, 23.9, 20.3, 17. , 21.6,\n",
       "       16.2, 31.5, 29.5, 21.5, 19.8, 22.3, 20.2, 20.6, 17. , 17.6, 16.5,\n",
       "       18.2, 16.9, 15.5, 19.2, 18.5, 31.9, 34.1, 35.7, 27.4, 25.4, 23. ,\n",
       "       27.2, 23.9, 34.2, 34.5, 31.8, 37.3, 28.4, 28.8, 26.8, 33.5, 41.5,\n",
       "       38.1, 32.1, 37.2, 28. , 26.4, 24.3, 19.1, 34.3, 29.8, 31.3, 37. ,\n",
       "       32.2, 46.6, 27.9, 40.8, 44.3, 43.4, 36.4, 30. , 44.6, 33.8, 29.8,\n",
       "       32.7, 23.7, 35. , 32.4, 27.2, 26.6, 25.8, 23.5, 30. , 39.1, 39. ,\n",
       "       35.1, 32.3, 37. , 37.7, 34.1, 34.7, 34.4, 29.9, 33. , 33.7, 32.4,\n",
       "       32.9, 31.6, 28.1, 30.7, 25.4, 24.2, 22.4, 26.6, 20.2, 17.6, 28. ,\n",
       "       27. , 34. , 31. , 29. , 27. , 24. , 36. , 37. , 31. , 38. , 36. ,\n",
       "       36. , 36. , 34. , 38. , 32. , 38. , 25. , 38. , 26. , 22. , 32. ,\n",
       "       36. , 27. , 27. , 44. , 32. , 28. , 31. ])"
      ]
     },
     "execution_count": 65,
     "metadata": {},
     "output_type": "execute_result"
    }
   ],
   "source": [
    "Y"
   ]
  },
  {
   "cell_type": "code",
   "execution_count": 66,
   "id": "6fd06b8f",
   "metadata": {},
   "outputs": [
    {
     "data": {
      "text/plain": [
       "(392,)"
      ]
     },
     "execution_count": 66,
     "metadata": {},
     "output_type": "execute_result"
    }
   ],
   "source": [
    "Y.shape"
   ]
  },
  {
   "cell_type": "code",
   "execution_count": 67,
   "id": "7ad5ee38",
   "metadata": {},
   "outputs": [
    {
     "data": {
      "text/plain": [
       "7"
      ]
     },
     "execution_count": 67,
     "metadata": {},
     "output_type": "execute_result"
    }
   ],
   "source": [
    "n_steps = X.shape[1]\n",
    "n_steps"
   ]
  },
  {
   "cell_type": "code",
   "execution_count": 68,
   "id": "aac901c1",
   "metadata": {},
   "outputs": [],
   "source": [
    "from keras.models import Sequential\n",
    "from keras.layers import Dense\n",
    "from keras.layers import Flatten\n",
    "from keras.optimizers import SGD,Adam\n",
    "from keras.layers.convolutional import Conv1D\n",
    "from keras.layers.convolutional import MaxPooling1D\n",
    "from keras.layers import Input, Dense\n",
    "from keras import models\n",
    "from keras import layers"
   ]
  },
  {
   "cell_type": "code",
   "execution_count": 86,
   "id": "7c6ecfbc",
   "metadata": {},
   "outputs": [
    {
     "name": "stdout",
     "output_type": "stream",
     "text": [
      "Model: \"sequential_7\"\n",
      "_________________________________________________________________\n",
      " Layer (type)                Output Shape              Param #   \n",
      "=================================================================\n",
      " conv1d_7 (Conv1D)           (None, 6, 64)             192       \n",
      "                                                                 \n",
      " max_pooling1d_7 (MaxPooling  (None, 3, 64)            0         \n",
      " 1D)                                                             \n",
      "                                                                 \n",
      " flatten_7 (Flatten)         (None, 192)               0         \n",
      "                                                                 \n",
      " dense_21 (Dense)            (None, 50)                9650      \n",
      "                                                                 \n",
      " dense_22 (Dense)            (None, 50)                2550      \n",
      "                                                                 \n",
      " dense_23 (Dense)            (None, 1)                 51        \n",
      "                                                                 \n",
      "=================================================================\n",
      "Total params: 12,443\n",
      "Trainable params: 12,443\n",
      "Non-trainable params: 0\n",
      "_________________________________________________________________\n"
     ]
    }
   ],
   "source": [
    "from keras import models\n",
    "from keras import layers\n",
    "\n",
    "def build_model(): \n",
    "    model = models.Sequential()\n",
    "    model.add(Conv1D(filters=64, kernel_size=2, activation='relu', input_shape=(n_steps, n_features)))\n",
    "    model.add(MaxPooling1D(pool_size=2))\n",
    "    model.add(Flatten())\n",
    "    model.add(Dense(50, activation='relu'))\n",
    "    model.add(Dense(50, activation='relu'))\n",
    "    model.add(layers.Dense(1))\n",
    "    #model.compile(optimizer='rmsprop', loss='mse', metrics=['mse'])\n",
    "    model.compile(loss='mse', optimizer=Adam(lr=0.0062), metrics=['mse'])\n",
    "\n",
    "    return model\n",
    "\n",
    "model = build_model() \n",
    "\n",
    "model.summary()"
   ]
  },
  {
   "cell_type": "code",
   "execution_count": 87,
   "id": "b56ecea3",
   "metadata": {},
   "outputs": [
    {
     "name": "stdout",
     "output_type": "stream",
     "text": [
      "3/3 [==============================] - 0s 3ms/step - loss: 29.8573 - mse: 29.8573\n"
     ]
    }
   ],
   "source": [
    "model.fit(X_train, y_train, epochs=100, batch_size=120, verbose=0)\n",
    "test_mse_score, test_mae_score = model.evaluate(X_test, y_test)"
   ]
  },
  {
   "cell_type": "code",
   "execution_count": 88,
   "id": "8b887bec",
   "metadata": {},
   "outputs": [
    {
     "name": "stdout",
     "output_type": "stream",
     "text": [
      "Epoch 1/100\n",
      "3/3 [==============================] - 0s 18ms/step - loss: 36.2701 - mse: 36.2701 - val_loss: 32.4223 - val_mse: 32.4223\n",
      "Epoch 2/100\n",
      "3/3 [==============================] - 0s 9ms/step - loss: 35.3839 - mse: 35.3839 - val_loss: 28.1023 - val_mse: 28.1023\n",
      "Epoch 3/100\n",
      "3/3 [==============================] - 0s 9ms/step - loss: 34.4781 - mse: 34.4781 - val_loss: 28.4756 - val_mse: 28.4756\n",
      "Epoch 4/100\n",
      "3/3 [==============================] - 0s 9ms/step - loss: 34.1296 - mse: 34.1296 - val_loss: 28.1349 - val_mse: 28.1349\n",
      "Epoch 5/100\n",
      "3/3 [==============================] - 0s 7ms/step - loss: 32.9062 - mse: 32.9062 - val_loss: 28.9429 - val_mse: 28.9429\n",
      "Epoch 6/100\n",
      "3/3 [==============================] - 0s 9ms/step - loss: 33.3980 - mse: 33.3980 - val_loss: 26.7557 - val_mse: 26.7557\n",
      "Epoch 7/100\n",
      "3/3 [==============================] - 0s 9ms/step - loss: 32.4801 - mse: 32.4801 - val_loss: 27.4120 - val_mse: 27.4120\n",
      "Epoch 8/100\n",
      "3/3 [==============================] - 0s 9ms/step - loss: 31.6693 - mse: 31.6693 - val_loss: 25.9635 - val_mse: 25.9635\n",
      "Epoch 9/100\n",
      "3/3 [==============================] - 0s 8ms/step - loss: 31.5030 - mse: 31.5030 - val_loss: 28.2079 - val_mse: 28.2079\n",
      "Epoch 10/100\n",
      "3/3 [==============================] - 0s 9ms/step - loss: 31.1078 - mse: 31.1078 - val_loss: 25.4887 - val_mse: 25.4887\n",
      "Epoch 11/100\n",
      "3/3 [==============================] - 0s 9ms/step - loss: 31.1797 - mse: 31.1797 - val_loss: 26.5326 - val_mse: 26.5326\n",
      "Epoch 12/100\n",
      "3/3 [==============================] - 0s 9ms/step - loss: 30.7275 - mse: 30.7275 - val_loss: 24.6422 - val_mse: 24.6422\n",
      "Epoch 13/100\n",
      "3/3 [==============================] - 0s 12ms/step - loss: 30.9970 - mse: 30.9970 - val_loss: 25.0419 - val_mse: 25.0419\n",
      "Epoch 14/100\n",
      "3/3 [==============================] - 0s 10ms/step - loss: 29.1960 - mse: 29.1960 - val_loss: 25.4691 - val_mse: 25.4691\n",
      "Epoch 15/100\n",
      "3/3 [==============================] - 0s 7ms/step - loss: 29.0363 - mse: 29.0363 - val_loss: 23.7681 - val_mse: 23.7681\n",
      "Epoch 16/100\n",
      "3/3 [==============================] - 0s 9ms/step - loss: 28.3972 - mse: 28.3972 - val_loss: 25.5753 - val_mse: 25.5753\n",
      "Epoch 17/100\n",
      "3/3 [==============================] - 0s 7ms/step - loss: 29.4062 - mse: 29.4062 - val_loss: 23.2501 - val_mse: 23.2501\n",
      "Epoch 18/100\n",
      "3/3 [==============================] - 0s 9ms/step - loss: 29.1927 - mse: 29.1927 - val_loss: 24.7591 - val_mse: 24.7591\n",
      "Epoch 19/100\n",
      "3/3 [==============================] - 0s 9ms/step - loss: 27.8796 - mse: 27.8796 - val_loss: 22.7445 - val_mse: 22.7445\n",
      "Epoch 20/100\n",
      "3/3 [==============================] - 0s 9ms/step - loss: 28.3816 - mse: 28.3816 - val_loss: 23.7751 - val_mse: 23.7751\n",
      "Epoch 21/100\n",
      "3/3 [==============================] - 0s 9ms/step - loss: 28.1321 - mse: 28.1321 - val_loss: 22.4095 - val_mse: 22.4095\n",
      "Epoch 22/100\n",
      "3/3 [==============================] - 0s 9ms/step - loss: 29.2245 - mse: 29.2245 - val_loss: 23.7454 - val_mse: 23.7454\n",
      "Epoch 23/100\n",
      "3/3 [==============================] - 0s 7ms/step - loss: 26.7241 - mse: 26.7241 - val_loss: 21.3407 - val_mse: 21.3407\n",
      "Epoch 24/100\n",
      "3/3 [==============================] - 0s 10ms/step - loss: 25.6866 - mse: 25.6866 - val_loss: 22.2048 - val_mse: 22.2048\n",
      "Epoch 25/100\n",
      "3/3 [==============================] - 0s 9ms/step - loss: 25.4369 - mse: 25.4369 - val_loss: 20.7298 - val_mse: 20.7298\n",
      "Epoch 26/100\n",
      "3/3 [==============================] - 0s 8ms/step - loss: 25.2903 - mse: 25.2903 - val_loss: 21.5162 - val_mse: 21.5162\n",
      "Epoch 27/100\n",
      "3/3 [==============================] - 0s 9ms/step - loss: 25.1853 - mse: 25.1853 - val_loss: 20.1769 - val_mse: 20.1769\n",
      "Epoch 28/100\n",
      "3/3 [==============================] - 0s 8ms/step - loss: 25.2183 - mse: 25.2183 - val_loss: 20.9041 - val_mse: 20.9041\n",
      "Epoch 29/100\n",
      "3/3 [==============================] - 0s 12ms/step - loss: 23.7178 - mse: 23.7178 - val_loss: 19.9498 - val_mse: 19.9498\n",
      "Epoch 30/100\n",
      "3/3 [==============================] - 0s 7ms/step - loss: 23.4085 - mse: 23.4085 - val_loss: 19.5984 - val_mse: 19.5984\n",
      "Epoch 31/100\n",
      "3/3 [==============================] - 0s 9ms/step - loss: 23.0988 - mse: 23.0988 - val_loss: 19.6304 - val_mse: 19.6304\n",
      "Epoch 32/100\n",
      "3/3 [==============================] - 0s 8ms/step - loss: 22.5970 - mse: 22.5970 - val_loss: 19.0497 - val_mse: 19.0497\n",
      "Epoch 33/100\n",
      "3/3 [==============================] - 0s 11ms/step - loss: 22.4773 - mse: 22.4773 - val_loss: 18.5185 - val_mse: 18.5185\n",
      "Epoch 34/100\n",
      "3/3 [==============================] - 0s 9ms/step - loss: 22.8106 - mse: 22.8106 - val_loss: 21.9122 - val_mse: 21.9122\n",
      "Epoch 35/100\n",
      "3/3 [==============================] - 0s 10ms/step - loss: 23.7458 - mse: 23.7458 - val_loss: 18.7825 - val_mse: 18.7825\n",
      "Epoch 36/100\n",
      "3/3 [==============================] - 0s 9ms/step - loss: 23.2345 - mse: 23.2345 - val_loss: 24.2077 - val_mse: 24.2077\n",
      "Epoch 37/100\n",
      "3/3 [==============================] - 0s 9ms/step - loss: 23.9441 - mse: 23.9441 - val_loss: 20.1178 - val_mse: 20.1178\n",
      "Epoch 38/100\n",
      "3/3 [==============================] - 0s 7ms/step - loss: 23.4206 - mse: 23.4206 - val_loss: 22.0321 - val_mse: 22.0321\n",
      "Epoch 39/100\n",
      "3/3 [==============================] - 0s 10ms/step - loss: 22.6380 - mse: 22.6380 - val_loss: 19.0906 - val_mse: 19.0906\n",
      "Epoch 40/100\n",
      "3/3 [==============================] - 0s 7ms/step - loss: 21.7344 - mse: 21.7344 - val_loss: 23.5241 - val_mse: 23.5241\n",
      "Epoch 41/100\n",
      "3/3 [==============================] - 0s 7ms/step - loss: 22.3673 - mse: 22.3673 - val_loss: 17.3766 - val_mse: 17.3766\n",
      "Epoch 42/100\n",
      "3/3 [==============================] - 0s 7ms/step - loss: 21.6116 - mse: 21.6116 - val_loss: 17.0574 - val_mse: 17.0574\n",
      "Epoch 43/100\n",
      "3/3 [==============================] - 0s 10ms/step - loss: 20.4599 - mse: 20.4599 - val_loss: 17.1668 - val_mse: 17.1668\n",
      "Epoch 44/100\n",
      "3/3 [==============================] - 0s 7ms/step - loss: 19.2121 - mse: 19.2121 - val_loss: 16.2147 - val_mse: 16.2147\n",
      "Epoch 45/100\n",
      "3/3 [==============================] - 0s 7ms/step - loss: 18.8839 - mse: 18.8839 - val_loss: 16.3292 - val_mse: 16.3292\n",
      "Epoch 46/100\n",
      "3/3 [==============================] - 0s 10ms/step - loss: 18.9611 - mse: 18.9611 - val_loss: 15.6386 - val_mse: 15.6386\n",
      "Epoch 47/100\n",
      "3/3 [==============================] - 0s 10ms/step - loss: 18.1379 - mse: 18.1379 - val_loss: 15.6992 - val_mse: 15.6992\n",
      "Epoch 48/100\n",
      "3/3 [==============================] - 0s 10ms/step - loss: 17.9774 - mse: 17.9774 - val_loss: 16.1903 - val_mse: 16.1903\n",
      "Epoch 49/100\n",
      "3/3 [==============================] - 0s 9ms/step - loss: 17.7327 - mse: 17.7327 - val_loss: 15.1964 - val_mse: 15.1964\n",
      "Epoch 50/100\n",
      "3/3 [==============================] - 0s 9ms/step - loss: 18.0143 - mse: 18.0143 - val_loss: 15.0503 - val_mse: 15.0503\n",
      "Epoch 51/100\n",
      "3/3 [==============================] - 0s 7ms/step - loss: 17.6862 - mse: 17.6862 - val_loss: 17.6264 - val_mse: 17.6264\n",
      "Epoch 52/100\n",
      "3/3 [==============================] - 0s 9ms/step - loss: 18.1981 - mse: 18.1981 - val_loss: 14.7411 - val_mse: 14.7411\n",
      "Epoch 53/100\n",
      "3/3 [==============================] - 0s 7ms/step - loss: 16.5688 - mse: 16.5688 - val_loss: 14.6427 - val_mse: 14.6427\n",
      "Epoch 54/100\n",
      "3/3 [==============================] - 0s 9ms/step - loss: 16.3449 - mse: 16.3449 - val_loss: 14.2551 - val_mse: 14.2551\n",
      "Epoch 55/100\n",
      "3/3 [==============================] - 0s 8ms/step - loss: 16.2842 - mse: 16.2842 - val_loss: 14.0004 - val_mse: 14.0004\n",
      "Epoch 56/100\n",
      "3/3 [==============================] - 0s 8ms/step - loss: 15.9284 - mse: 15.9284 - val_loss: 13.8837 - val_mse: 13.8837\n",
      "Epoch 57/100\n",
      "3/3 [==============================] - 0s 8ms/step - loss: 15.7047 - mse: 15.7047 - val_loss: 14.4798 - val_mse: 14.4798\n",
      "Epoch 58/100\n",
      "3/3 [==============================] - 0s 11ms/step - loss: 15.4760 - mse: 15.4760 - val_loss: 14.4962 - val_mse: 14.4962\n",
      "Epoch 59/100\n",
      "3/3 [==============================] - 0s 8ms/step - loss: 16.7757 - mse: 16.7757 - val_loss: 19.8738 - val_mse: 19.8738\n",
      "Epoch 60/100\n",
      "3/3 [==============================] - 0s 9ms/step - loss: 17.5779 - mse: 17.5779 - val_loss: 15.2801 - val_mse: 15.2801\n",
      "Epoch 61/100\n",
      "3/3 [==============================] - 0s 9ms/step - loss: 17.0966 - mse: 17.0966 - val_loss: 14.8172 - val_mse: 14.8172\n",
      "Epoch 62/100\n",
      "3/3 [==============================] - 0s 8ms/step - loss: 14.9034 - mse: 14.9034 - val_loss: 13.2732 - val_mse: 13.2732\n",
      "Epoch 63/100\n",
      "3/3 [==============================] - 0s 9ms/step - loss: 15.9945 - mse: 15.9945 - val_loss: 12.8704 - val_mse: 12.8704\n",
      "Epoch 64/100\n",
      "3/3 [==============================] - 0s 9ms/step - loss: 14.8867 - mse: 14.8867 - val_loss: 13.1816 - val_mse: 13.1816\n",
      "Epoch 65/100\n",
      "3/3 [==============================] - 0s 10ms/step - loss: 14.2800 - mse: 14.2800 - val_loss: 12.6724 - val_mse: 12.6724\n",
      "Epoch 66/100\n",
      "3/3 [==============================] - 0s 10ms/step - loss: 14.0756 - mse: 14.0756 - val_loss: 12.9483 - val_mse: 12.9483\n",
      "Epoch 67/100\n",
      "3/3 [==============================] - 0s 11ms/step - loss: 13.9126 - mse: 13.9126 - val_loss: 12.4098 - val_mse: 12.4098\n",
      "Epoch 68/100\n",
      "3/3 [==============================] - 0s 10ms/step - loss: 13.9887 - mse: 13.9887 - val_loss: 12.5344 - val_mse: 12.5344\n",
      "Epoch 69/100\n",
      "3/3 [==============================] - 0s 11ms/step - loss: 13.5025 - mse: 13.5025 - val_loss: 12.1805 - val_mse: 12.1805\n",
      "Epoch 70/100\n",
      "3/3 [==============================] - 0s 10ms/step - loss: 13.4625 - mse: 13.4625 - val_loss: 12.1503 - val_mse: 12.1503\n",
      "Epoch 71/100\n",
      "3/3 [==============================] - 0s 11ms/step - loss: 13.5589 - mse: 13.5589 - val_loss: 13.9648 - val_mse: 13.9648\n",
      "Epoch 72/100\n",
      "3/3 [==============================] - 0s 9ms/step - loss: 14.1272 - mse: 14.1272 - val_loss: 11.8813 - val_mse: 11.8813\n",
      "Epoch 73/100\n",
      "3/3 [==============================] - 0s 9ms/step - loss: 13.8893 - mse: 13.8893 - val_loss: 12.3197 - val_mse: 12.3197\n",
      "Epoch 74/100\n",
      "3/3 [==============================] - 0s 8ms/step - loss: 13.4191 - mse: 13.4191 - val_loss: 13.5119 - val_mse: 13.5119\n",
      "Epoch 75/100\n",
      "3/3 [==============================] - 0s 9ms/step - loss: 13.7451 - mse: 13.7451 - val_loss: 11.7930 - val_mse: 11.7930\n",
      "Epoch 76/100\n",
      "3/3 [==============================] - 0s 9ms/step - loss: 12.5310 - mse: 12.5310 - val_loss: 12.1628 - val_mse: 12.1628\n",
      "Epoch 77/100\n",
      "3/3 [==============================] - 0s 9ms/step - loss: 12.6208 - mse: 12.6208 - val_loss: 11.5916 - val_mse: 11.5916\n",
      "Epoch 78/100\n",
      "3/3 [==============================] - 0s 9ms/step - loss: 12.3658 - mse: 12.3658 - val_loss: 11.4361 - val_mse: 11.4361\n",
      "Epoch 79/100\n",
      "3/3 [==============================] - 0s 8ms/step - loss: 12.3105 - mse: 12.3105 - val_loss: 11.5963 - val_mse: 11.5963\n",
      "Epoch 80/100\n",
      "3/3 [==============================] - 0s 8ms/step - loss: 12.7804 - mse: 12.7804 - val_loss: 11.4699 - val_mse: 11.4699\n",
      "Epoch 81/100\n",
      "3/3 [==============================] - 0s 8ms/step - loss: 11.9621 - mse: 11.9621 - val_loss: 11.3388 - val_mse: 11.3388\n",
      "Epoch 82/100\n",
      "3/3 [==============================] - 0s 8ms/step - loss: 13.1652 - mse: 13.1652 - val_loss: 11.7410 - val_mse: 11.7410\n",
      "Epoch 83/100\n",
      "3/3 [==============================] - 0s 7ms/step - loss: 13.0618 - mse: 13.0618 - val_loss: 18.3773 - val_mse: 18.3773\n",
      "Epoch 84/100\n",
      "3/3 [==============================] - 0s 7ms/step - loss: 14.9250 - mse: 14.9250 - val_loss: 11.5859 - val_mse: 11.5859\n",
      "Epoch 85/100\n",
      "3/3 [==============================] - 0s 7ms/step - loss: 13.5550 - mse: 13.5550 - val_loss: 11.3995 - val_mse: 11.3995\n",
      "Epoch 86/100\n",
      "3/3 [==============================] - 0s 7ms/step - loss: 14.2548 - mse: 14.2548 - val_loss: 18.8251 - val_mse: 18.8251\n",
      "Epoch 87/100\n",
      "3/3 [==============================] - 0s 7ms/step - loss: 15.4067 - mse: 15.4067 - val_loss: 11.0277 - val_mse: 11.0277\n",
      "Epoch 88/100\n",
      "3/3 [==============================] - 0s 7ms/step - loss: 12.6597 - mse: 12.6597 - val_loss: 10.8137 - val_mse: 10.8137\n",
      "Epoch 89/100\n",
      "3/3 [==============================] - 0s 9ms/step - loss: 12.3843 - mse: 12.3843 - val_loss: 13.1281 - val_mse: 13.1281\n",
      "Epoch 90/100\n",
      "3/3 [==============================] - 0s 9ms/step - loss: 13.1339 - mse: 13.1339 - val_loss: 12.4546 - val_mse: 12.4546\n",
      "Epoch 91/100\n",
      "3/3 [==============================] - 0s 9ms/step - loss: 12.6121 - mse: 12.6121 - val_loss: 13.3783 - val_mse: 13.3783\n",
      "Epoch 92/100\n",
      "3/3 [==============================] - 0s 8ms/step - loss: 12.9918 - mse: 12.9918 - val_loss: 12.1377 - val_mse: 12.1377\n",
      "Epoch 93/100\n",
      "3/3 [==============================] - 0s 9ms/step - loss: 11.3081 - mse: 11.3081 - val_loss: 10.6238 - val_mse: 10.6238\n",
      "Epoch 94/100\n",
      "3/3 [==============================] - 0s 12ms/step - loss: 11.6156 - mse: 11.6156 - val_loss: 10.7483 - val_mse: 10.7483\n",
      "Epoch 95/100\n",
      "3/3 [==============================] - 0s 9ms/step - loss: 11.2091 - mse: 11.2091 - val_loss: 10.6581 - val_mse: 10.6581\n",
      "Epoch 96/100\n",
      "3/3 [==============================] - 0s 7ms/step - loss: 10.9836 - mse: 10.9836 - val_loss: 12.1338 - val_mse: 12.1338\n",
      "Epoch 97/100\n",
      "3/3 [==============================] - 0s 10ms/step - loss: 11.3958 - mse: 11.3958 - val_loss: 10.4537 - val_mse: 10.4537\n",
      "Epoch 98/100\n",
      "3/3 [==============================] - 0s 7ms/step - loss: 10.7836 - mse: 10.7836 - val_loss: 10.4399 - val_mse: 10.4399\n",
      "Epoch 99/100\n",
      "3/3 [==============================] - 0s 10ms/step - loss: 10.6544 - mse: 10.6544 - val_loss: 10.5446 - val_mse: 10.5446\n",
      "Epoch 100/100\n",
      "3/3 [==============================] - 0s 11ms/step - loss: 10.6066 - mse: 10.6066 - val_loss: 10.7964 - val_mse: 10.7964\n",
      "WARNING:tensorflow:5 out of the last 16 calls to <function Model.make_predict_function.<locals>.predict_function at 0x00000232EC85A430> triggered tf.function retracing. Tracing is expensive and the excessive number of tracings could be due to (1) creating @tf.function repeatedly in a loop, (2) passing tensors with different shapes, (3) passing Python objects instead of tensors. For (1), please define your @tf.function outside of the loop. For (2), @tf.function has reduce_retracing=True option that can avoid unnecessary retracing. For (3), please refer to https://www.tensorflow.org/guide/function#controlling_retracing and https://www.tensorflow.org/api_docs/python/tf/function for  more details.\n",
      "3/3 [==============================] - 0s 0s/step\n"
     ]
    }
   ],
   "source": [
    "#fitting the model and predicting \n",
    "\n",
    "# fit network\n",
    "model_history=model.fit(x=X_train, y=y_train, epochs=100, batch_size=120,validation_data= (X_test,y_test))\n",
    "y_pred = model.predict(X_test)\n",
    "\n",
    "y_test_class = np.argmax(y_test,axis=0)\n",
    "y_pred_class = np.argmax(y_pred,axis=1)"
   ]
  },
  {
   "cell_type": "code",
   "execution_count": 89,
   "id": "6ca6aaab",
   "metadata": {},
   "outputs": [
    {
     "data": {
      "image/png": "[encoded data removed]",
      "text/plain": [
       "<Figure size 432x288 with 1 Axes>"
      ]
     },
     "metadata": {},
     "output_type": "display_data"
    }
   ],
   "source": [
    "import matplotlib.pyplot as plt\n",
    "import seaborn as sns\n",
    "\n",
    "loss =model_history.history['loss']\n",
    "val_loss =model_history.history['val_loss']\n",
    "epochs = range(1, len(loss) + 1)\n",
    "plt.plot(epochs, loss, 'y', label='Training loss')\n",
    "plt.plot(epochs, val_loss, 'r', label='Validation loss')\n",
    "plt.title('Training and validation loss')\n",
    "plt.xlabel('Epochs')\n",
    "plt.ylabel('Loss')\n",
    "plt.legend()\n",
    "plt.show()"
   ]
  },
  {
   "cell_type": "code",
   "execution_count": null,
   "id": "01561f87",
   "metadata": {},
   "outputs": [],
   "source": []
  }
 ],
 "metadata": {
  "kernelspec": {
   "display_name": "Python 3 (ipykernel)",
   "language": "python",
   "name": "python3"
  },
  "language_info": {
   "codemirror_mode": {
    "name": "ipython",
    "version": 3
   },
   "file_extension": ".py",
   "mimetype": "text/x-python",
   "name": "python",
   "nbconvert_exporter": "python",
   "pygments_lexer": "ipython3",
   "version": "3.9.12"
  }
 },
 "nbformat": 4,
 "nbformat_minor": 5
}
